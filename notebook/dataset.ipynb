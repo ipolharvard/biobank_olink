{
 "cells": [
  {
   "cell_type": "code",
   "execution_count": 2,
   "outputs": [],
   "source": [
    "%load_ext autoreload\n",
    "%autoreload 2"
   ],
   "metadata": {
    "collapsed": false,
    "ExecuteTime": {
     "end_time": "2023-08-11T23:15:08.240748863Z",
     "start_time": "2023-08-11T23:15:08.209756354Z"
    }
   }
  },
  {
   "cell_type": "code",
   "execution_count": 1,
   "outputs": [],
   "source": [
    "from importlib.resources import files\n",
    "\n",
    "import pandas as pd\n",
    "import seaborn as sns\n",
    "sns.set()\n",
    "\n",
    "DATA_DIR = files(\"biobank_olink.data\")"
   ],
   "metadata": {
    "collapsed": false,
    "ExecuteTime": {
     "end_time": "2023-08-14T18:06:25.800040212Z",
     "start_time": "2023-08-14T18:06:25.754762365Z"
    }
   }
  },
  {
   "cell_type": "code",
   "execution_count": 2,
   "outputs": [
    {
     "name": "stdout",
     "output_type": "stream",
     "text": [
      "Original cov shape: (409519, 10)\n",
      "Original ol shape: (52704, 1463)\n",
      "New cov shape: (43509, 10)\n",
      "New ol shape: (43509, 1463)\n"
     ]
    }
   ],
   "source": [
    "cov_df = pd.read_csv(DATA_DIR / \"BP_cov.zip\", sep=\"\\t\", index_col=\"eid\")\n",
    "cat_cols = [\"Sex\", \"Smokinstatus\", \"HTNgroup\"]\n",
    "reg_cols = list(cov_df.columns.difference(cat_cols))\n",
    "print(f\"Original cov shape: {cov_df.shape}\")\n",
    "ol_df = pd.read_csv(DATA_DIR / \"olink_data_ins0.csv\", index_col=0)\n",
    "print(f\"Original ol shape: {ol_df.shape}\")\n",
    "eids = cov_df.index.intersection(ol_df.index)\n",
    "cov_df = cov_df.loc[eids]\n",
    "print(f\"New cov shape: {cov_df.shape}\")\n",
    "ol_df = ol_df.loc[cov_df.index]\n",
    "print(f\"New ol shape: {ol_df.shape}\")"
   ],
   "metadata": {
    "collapsed": false,
    "ExecuteTime": {
     "end_time": "2023-08-14T18:06:50.452512437Z",
     "start_time": "2023-08-14T18:06:25.796580750Z"
    }
   }
  },
  {
   "cell_type": "code",
   "execution_count": 4,
   "outputs": [
    {
     "data": {
      "text/plain": "p22020\nYes       337391\n           72128\nName: count, dtype: int64"
     },
     "execution_count": 4,
     "metadata": {},
     "output_type": "execute_result"
    }
   ],
   "source": [
    "pd.read_csv(DATA_DIR / \"unrelated.zip\", sep=\"\\t\", index_col=\"eid\").value_counts()"
   ],
   "metadata": {
    "collapsed": false,
    "ExecuteTime": {
     "end_time": "2023-08-14T18:08:31.627862518Z",
     "start_time": "2023-08-14T18:08:31.296025975Z"
    }
   }
  },
  {
   "cell_type": "code",
   "execution_count": 3,
   "outputs": [],
   "source": [
    "import numpy as np\n",
    "cov_df[cov_df == \" \"] = np.nan\n",
    "cov_df[cov_df.HTNgroup == 4] = np.nan\n",
    "replace_comma_with_dot_if_str = lambda x: x.replace(\",\", \".\") if isinstance(x, str) else x\n",
    "cols = [\"BMI\", \"SBP\", \"DBP\", \"PP\"]\n",
    "cov_df[cols] = cov_df[cols].applymap(replace_comma_with_dot_if_str)\n",
    "cov_df = cov_df.astype(float)"
   ],
   "metadata": {
    "collapsed": false,
    "ExecuteTime": {
     "end_time": "2023-08-13T14:46:57.779331425Z",
     "start_time": "2023-08-13T14:46:57.619196448Z"
    }
   }
  },
  {
   "cell_type": "code",
   "execution_count": null,
   "outputs": [],
   "source": [
    "import matplotlib.pyplot as plt\n",
    "def plot_histograms(df):\n",
    "    grid_size = int(np.ceil(np.sqrt(len(df.columns))))\n",
    "\n",
    "    plt.figure(figsize=(6 * grid_size, 6 * grid_size))\n",
    "\n",
    "    for index, column in enumerate(df.columns):\n",
    "        plt.subplot(grid_size, grid_size, index + 1)\n",
    "        sns.histplot(data=df, x=column, kde=False, bins=30, hue=cov_df.Sex.values.astype(str))\n",
    "        plt.title(f'Histogram of {column}')\n",
    "        plt.xlabel(column)\n",
    "        plt.ylabel('Frequency')\n",
    "\n",
    "    plt.tight_layout()\n",
    "    plt.savefig(DATA_DIR / f\"figs/histograms_{i}_{i + 100}.png\")\n",
    "\n",
    "for i in range(0, len(ol_df.columns), 100):\n",
    "    plot_histograms(ol_df.iloc[:, i:i + 100])"
   ],
   "metadata": {
    "collapsed": false
   }
  },
  {
   "cell_type": "code",
   "execution_count": 5,
   "outputs": [
    {
     "data": {
      "text/plain": "HTNgroup\n0.0    17874\n1.0    12865\n2.0     9722\n4.0      259\nName: count, dtype: int64"
     },
     "execution_count": 5,
     "metadata": {},
     "output_type": "execute_result"
    }
   ],
   "source": [
    "cov_df.HTNgroup.value_counts()"
   ],
   "metadata": {
    "collapsed": false,
    "ExecuteTime": {
     "end_time": "2023-08-13T14:50:09.332187025Z",
     "start_time": "2023-08-13T14:50:09.277832651Z"
    }
   }
  },
  {
   "cell_type": "code",
   "execution_count": 6,
   "outputs": [
    {
     "data": {
      "text/plain": "         Sex   age      BMI  Smokinstatus  Alcoholintakefrequency  HTNgroup  \\\neid                                                                           \n1000011  1.0  60.0  28.0557           0.0                     6.0       2.0   \n1000121  1.0  63.0  34.1438           0.0                     1.0       2.0   \n1000366  1.0  66.0  23.7966           1.0                     2.0       0.0   \n1000774  0.0  57.0  23.6146           0.0                     2.0       0.0   \n1000807  0.0  63.0  26.0062           1.0                     1.0       2.0   \n...      ...   ...      ...           ...                     ...       ...   \n6023200  1.0  62.0  24.3757           1.0                     1.0       0.0   \n6023252  1.0  61.0  31.6184           2.0                     1.0       0.0   \n6023293  1.0  69.0  23.4375           0.0                     3.0       0.0   \n6023486  1.0  69.0  26.0802           0.0                     5.0       2.0   \n6023592  1.0  56.0  30.4164           1.0                     1.0       2.0   \n\n         fastingtime    SBP   DBP    PP  \neid                                      \n1000011          4.0  157.5  98.5  59.0  \n1000121          3.0  149.0  97.5  51.5  \n1000366          2.0  136.5  82.5  54.0  \n1000774          2.0  135.0  72.5  62.5  \n1000807          6.0  122.5  82.0  40.5  \n...              ...    ...   ...   ...  \n6023200          2.0  111.5  59.0  52.5  \n6023252          4.0  137.5  75.0  62.5  \n6023293          3.0  133.0  85.5  47.5  \n6023486          4.0  149.5  79.0  70.5  \n6023592          5.0  121.0  81.0  40.0  \n\n[43509 rows x 10 columns]",
      "text/html": "<div>\n<style scoped>\n    .dataframe tbody tr th:only-of-type {\n        vertical-align: middle;\n    }\n\n    .dataframe tbody tr th {\n        vertical-align: top;\n    }\n\n    .dataframe thead th {\n        text-align: right;\n    }\n</style>\n<table border=\"1\" class=\"dataframe\">\n  <thead>\n    <tr style=\"text-align: right;\">\n      <th></th>\n      <th>Sex</th>\n      <th>age</th>\n      <th>BMI</th>\n      <th>Smokinstatus</th>\n      <th>Alcoholintakefrequency</th>\n      <th>HTNgroup</th>\n      <th>fastingtime</th>\n      <th>SBP</th>\n      <th>DBP</th>\n      <th>PP</th>\n    </tr>\n    <tr>\n      <th>eid</th>\n      <th></th>\n      <th></th>\n      <th></th>\n      <th></th>\n      <th></th>\n      <th></th>\n      <th></th>\n      <th></th>\n      <th></th>\n      <th></th>\n    </tr>\n  </thead>\n  <tbody>\n    <tr>\n      <th>1000011</th>\n      <td>1.0</td>\n      <td>60.0</td>\n      <td>28.0557</td>\n      <td>0.0</td>\n      <td>6.0</td>\n      <td>2.0</td>\n      <td>4.0</td>\n      <td>157.5</td>\n      <td>98.5</td>\n      <td>59.0</td>\n    </tr>\n    <tr>\n      <th>1000121</th>\n      <td>1.0</td>\n      <td>63.0</td>\n      <td>34.1438</td>\n      <td>0.0</td>\n      <td>1.0</td>\n      <td>2.0</td>\n      <td>3.0</td>\n      <td>149.0</td>\n      <td>97.5</td>\n      <td>51.5</td>\n    </tr>\n    <tr>\n      <th>1000366</th>\n      <td>1.0</td>\n      <td>66.0</td>\n      <td>23.7966</td>\n      <td>1.0</td>\n      <td>2.0</td>\n      <td>0.0</td>\n      <td>2.0</td>\n      <td>136.5</td>\n      <td>82.5</td>\n      <td>54.0</td>\n    </tr>\n    <tr>\n      <th>1000774</th>\n      <td>0.0</td>\n      <td>57.0</td>\n      <td>23.6146</td>\n      <td>0.0</td>\n      <td>2.0</td>\n      <td>0.0</td>\n      <td>2.0</td>\n      <td>135.0</td>\n      <td>72.5</td>\n      <td>62.5</td>\n    </tr>\n    <tr>\n      <th>1000807</th>\n      <td>0.0</td>\n      <td>63.0</td>\n      <td>26.0062</td>\n      <td>1.0</td>\n      <td>1.0</td>\n      <td>2.0</td>\n      <td>6.0</td>\n      <td>122.5</td>\n      <td>82.0</td>\n      <td>40.5</td>\n    </tr>\n    <tr>\n      <th>...</th>\n      <td>...</td>\n      <td>...</td>\n      <td>...</td>\n      <td>...</td>\n      <td>...</td>\n      <td>...</td>\n      <td>...</td>\n      <td>...</td>\n      <td>...</td>\n      <td>...</td>\n    </tr>\n    <tr>\n      <th>6023200</th>\n      <td>1.0</td>\n      <td>62.0</td>\n      <td>24.3757</td>\n      <td>1.0</td>\n      <td>1.0</td>\n      <td>0.0</td>\n      <td>2.0</td>\n      <td>111.5</td>\n      <td>59.0</td>\n      <td>52.5</td>\n    </tr>\n    <tr>\n      <th>6023252</th>\n      <td>1.0</td>\n      <td>61.0</td>\n      <td>31.6184</td>\n      <td>2.0</td>\n      <td>1.0</td>\n      <td>0.0</td>\n      <td>4.0</td>\n      <td>137.5</td>\n      <td>75.0</td>\n      <td>62.5</td>\n    </tr>\n    <tr>\n      <th>6023293</th>\n      <td>1.0</td>\n      <td>69.0</td>\n      <td>23.4375</td>\n      <td>0.0</td>\n      <td>3.0</td>\n      <td>0.0</td>\n      <td>3.0</td>\n      <td>133.0</td>\n      <td>85.5</td>\n      <td>47.5</td>\n    </tr>\n    <tr>\n      <th>6023486</th>\n      <td>1.0</td>\n      <td>69.0</td>\n      <td>26.0802</td>\n      <td>0.0</td>\n      <td>5.0</td>\n      <td>2.0</td>\n      <td>4.0</td>\n      <td>149.5</td>\n      <td>79.0</td>\n      <td>70.5</td>\n    </tr>\n    <tr>\n      <th>6023592</th>\n      <td>1.0</td>\n      <td>56.0</td>\n      <td>30.4164</td>\n      <td>1.0</td>\n      <td>1.0</td>\n      <td>2.0</td>\n      <td>5.0</td>\n      <td>121.0</td>\n      <td>81.0</td>\n      <td>40.0</td>\n    </tr>\n  </tbody>\n</table>\n<p>43509 rows × 10 columns</p>\n</div>"
     },
     "execution_count": 6,
     "metadata": {},
     "output_type": "execute_result"
    }
   ],
   "source": [
    "cov_df"
   ],
   "metadata": {
    "collapsed": false,
    "ExecuteTime": {
     "end_time": "2023-08-13T14:50:10.864683562Z",
     "start_time": "2023-08-13T14:50:10.526131919Z"
    }
   }
  },
  {
   "cell_type": "code",
   "execution_count": 7,
   "outputs": [
    {
     "name": "stderr",
     "output_type": "stream",
     "text": [
      "/home/prenc/.miniconda3/envs/biobank_olink/lib/python3.10/site-packages/seaborn/axisgrid.py:118: UserWarning: The figure layout has changed to tight\n",
      "  self._figure.tight_layout(*args, **kwargs)\n"
     ]
    },
    {
     "data": {
      "text/plain": "<seaborn.axisgrid.FacetGrid at 0x7f51d6606d40>"
     },
     "execution_count": 7,
     "metadata": {},
     "output_type": "execute_result"
    },
    {
     "data": {
      "text/plain": "<Figure size 579.125x500 with 1 Axes>",
      "image/png": "[encoded data removed]"
     },
     "metadata": {},
     "output_type": "display_data"
    }
   ],
   "source": [
    "sns.displot(data=ol_df, x=\"PNMA1\", hue=cov_df.Sex)"
   ],
   "metadata": {
    "collapsed": false,
    "ExecuteTime": {
     "end_time": "2023-08-13T14:50:15.347130898Z",
     "start_time": "2023-08-13T14:50:11.443946156Z"
    }
   }
  },
  {
   "cell_type": "code",
   "execution_count": null,
   "outputs": [],
   "source": [
    "correlation_matrix = np.corrcoef(ol_df, rowvar=True)\n",
    "sns.clustermap(correlation_matrix, annot=True, cmap=\"coolwarm\")"
   ],
   "metadata": {
    "collapsed": false,
    "ExecuteTime": {
     "start_time": "2023-08-13T14:50:25.822107227Z"
    }
   }
  },
  {
   "cell_type": "code",
   "execution_count": null,
   "outputs": [],
   "source": [
    "corr = np.corrcoef(ol_df, rowvar=False)\n",
    "np.fill_diagonal(corr, 0)\n",
    "corr = pd.DataFrame(corr, index=ol_df.columns, columns=ol_df.columns)\n",
    "corr.head()"
   ],
   "metadata": {
    "collapsed": false
   }
  },
  {
   "cell_type": "code",
   "execution_count": null,
   "outputs": [],
   "source": [
    "max_corrs = corr.max().sort_values(ascending=False).values\n",
    "max_corrs[max_corrs > 0.9]"
   ],
   "metadata": {
    "collapsed": false
   }
  }
 ],
 "metadata": {
  "kernelspec": {
   "display_name": "Python 3",
   "language": "python",
   "name": "python3"
  },
  "language_info": {
   "codemirror_mode": {
    "name": "ipython",
    "version": 2
   },
   "file_extension": ".py",
   "mimetype": "text/x-python",
   "name": "python",
   "nbconvert_exporter": "python",
   "pygments_lexer": "ipython2",
   "version": "2.7.6"
  }
 },
 "nbformat": 4,
 "nbformat_minor": 0
}
