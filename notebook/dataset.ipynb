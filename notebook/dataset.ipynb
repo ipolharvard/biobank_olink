{
 "cells": [
  {
   "cell_type": "code",
   "execution_count": 7,
   "outputs": [
    {
     "name": "stdout",
     "output_type": "stream",
     "text": [
      "The autoreload extension is already loaded. To reload it, use:\n",
      "  %reload_ext autoreload\n"
     ]
    }
   ],
   "source": [
    "%load_ext autoreload\n",
    "%autoreload 2"
   ],
   "metadata": {
    "collapsed": false,
    "ExecuteTime": {
     "end_time": "2023-08-07T23:01:31.961077157Z",
     "start_time": "2023-08-07T23:01:31.903223687Z"
    }
   }
  },
  {
   "cell_type": "code",
   "execution_count": 8,
   "outputs": [],
   "source": [
    "from importlib.resources import files\n",
    "\n",
    "import pandas as pd\n",
    "import seaborn as sns\n",
    "sns.set()\n",
    "\n",
    "DATA_DIR = files(\"biobank_olink.data\")"
   ],
   "metadata": {
    "collapsed": false,
    "ExecuteTime": {
     "end_time": "2023-08-07T23:01:32.755416269Z",
     "start_time": "2023-08-07T23:01:32.719562398Z"
    }
   }
  },
  {
   "cell_type": "code",
   "execution_count": 9,
   "metadata": {
    "collapsed": true,
    "ExecuteTime": {
     "end_time": "2023-08-07T23:01:43.567639850Z",
     "start_time": "2023-08-07T23:01:33.708095540Z"
    }
   },
   "outputs": [
    {
     "data": {
      "text/plain": "           ABCA2     ABL1      ABO   ACADM      ACE     ACHE     ACP1  \\\neid                                                                     \n1000011  0.97070  1.11500  2.54650  1.9069  0.20400  0.45815  0.91650   \n1000083 -0.21340 -0.35000  0.40600 -1.1517 -0.29990  0.00290 -0.40950   \n1000121 -0.09595  1.19470  0.50260  1.7044  0.08510  1.02915  1.93030   \n1000366 -0.49710  0.13750 -0.39630 -0.5911 -0.00050  0.42995  0.09420   \n1000654      NaN      NaN      NaN     NaN      NaN      NaN      NaN   \n...          ...      ...      ...     ...      ...      ...      ...   \n6023200  0.92520  0.82870  1.27570  0.0072  0.03920 -0.74775  0.31670   \n6023252 -0.52630 -0.46640 -0.10490 -1.0452 -0.35250  0.08180 -0.58010   \n6023293  0.06265 -0.16035 -0.19505 -0.0936  0.33510  0.41080  0.14345   \n6023486 -0.82865 -0.91530 -0.70090 -0.5283 -0.22170 -0.10765 -0.02870   \n6023592 -0.13345 -0.05275 -0.03810 -0.5602 -0.40595  0.11790  0.30850   \n\n            ACP6    ACRBP    ACTN2  ...    WWP2    XCL1       XG     XIAP  \\\neid                                 ...                                     \n1000011  0.26800  1.21400  0.66480  ...  0.3055  1.5510 -0.18200 -0.02630   \n1000083 -1.01040 -0.30620 -0.38550  ... -0.0054  0.2938  0.00060  0.16710   \n1000121 -0.47120 -1.22420  0.31990  ...  0.3635  0.2324  0.93280  0.20580   \n1000366  0.11370 -0.87450  0.33870  ... -0.1691  0.1383 -0.50230 -0.64980   \n1000654 -0.62150      NaN      NaN  ...     NaN     NaN      NaN -0.16760   \n...          ...      ...      ...  ...     ...     ...      ...      ...   \n6023200 -0.09620  0.65350 -0.05410  ... -0.0394  0.9615  0.01110  0.31520   \n6023252 -0.42900      NaN -0.01800  ... -0.1274  0.3190      NaN -0.43860   \n6023293 -0.07095 -0.49345  0.26530  ...  0.4725 -0.1121 -0.38100 -0.32345   \n6023486 -0.23870 -0.36990 -0.05170  ... -0.2247  0.1526  0.63530 -0.30880   \n6023592 -0.16030 -1.18850 -0.04365  ...  0.1319  0.1778 -0.21985 -0.31850   \n\n           XRCC4     YAP1    YJU2    YWHAQ   ZBTB17   ZCCHC8  \neid                                                           \n1000011  0.04460  0.59515  4.0130  2.66625  2.33585  0.54690  \n1000083 -1.61140 -0.38045  0.9454 -0.07660 -0.21635 -0.04090  \n1000121  0.41380 -0.05095  0.6031  2.14825 -0.40075  0.78220  \n1000366 -1.34030  0.04305 -0.5473  0.09665 -0.00145 -0.12130  \n1000654      NaN      NaN     NaN      NaN      NaN      NaN  \n...          ...      ...     ...      ...      ...      ...  \n6023200  0.92880  0.64155  2.4101  0.89345  1.03015  0.04350  \n6023252 -2.00490 -0.18830 -0.0931 -0.91670 -0.17770 -0.20860  \n6023293 -0.18175  0.02445 -0.2360  0.25925 -0.52150 -0.17835  \n6023486 -2.18230  0.37105 -0.1432  0.40565 -0.80915 -0.11400  \n6023592 -0.35660  0.22475 -0.1545 -0.26770  0.25895 -0.04330  \n\n[52704 rows x 1463 columns]",
      "text/html": "<div>\n<style scoped>\n    .dataframe tbody tr th:only-of-type {\n        vertical-align: middle;\n    }\n\n    .dataframe tbody tr th {\n        vertical-align: top;\n    }\n\n    .dataframe thead th {\n        text-align: right;\n    }\n</style>\n<table border=\"1\" class=\"dataframe\">\n  <thead>\n    <tr style=\"text-align: right;\">\n      <th></th>\n      <th>ABCA2</th>\n      <th>ABL1</th>\n      <th>ABO</th>\n      <th>ACADM</th>\n      <th>ACE</th>\n      <th>ACHE</th>\n      <th>ACP1</th>\n      <th>ACP6</th>\n      <th>ACRBP</th>\n      <th>ACTN2</th>\n      <th>...</th>\n      <th>WWP2</th>\n      <th>XCL1</th>\n      <th>XG</th>\n      <th>XIAP</th>\n      <th>XRCC4</th>\n      <th>YAP1</th>\n      <th>YJU2</th>\n      <th>YWHAQ</th>\n      <th>ZBTB17</th>\n      <th>ZCCHC8</th>\n    </tr>\n    <tr>\n      <th>eid</th>\n      <th></th>\n      <th></th>\n      <th></th>\n      <th></th>\n      <th></th>\n      <th></th>\n      <th></th>\n      <th></th>\n      <th></th>\n      <th></th>\n      <th></th>\n      <th></th>\n      <th></th>\n      <th></th>\n      <th></th>\n      <th></th>\n      <th></th>\n      <th></th>\n      <th></th>\n      <th></th>\n      <th></th>\n    </tr>\n  </thead>\n  <tbody>\n    <tr>\n      <th>1000011</th>\n      <td>0.97070</td>\n      <td>1.11500</td>\n      <td>2.54650</td>\n      <td>1.9069</td>\n      <td>0.20400</td>\n      <td>0.45815</td>\n      <td>0.91650</td>\n      <td>0.26800</td>\n      <td>1.21400</td>\n      <td>0.66480</td>\n      <td>...</td>\n      <td>0.3055</td>\n      <td>1.5510</td>\n      <td>-0.18200</td>\n      <td>-0.02630</td>\n      <td>0.04460</td>\n      <td>0.59515</td>\n      <td>4.0130</td>\n      <td>2.66625</td>\n      <td>2.33585</td>\n      <td>0.54690</td>\n    </tr>\n    <tr>\n      <th>1000083</th>\n      <td>-0.21340</td>\n      <td>-0.35000</td>\n      <td>0.40600</td>\n      <td>-1.1517</td>\n      <td>-0.29990</td>\n      <td>0.00290</td>\n      <td>-0.40950</td>\n      <td>-1.01040</td>\n      <td>-0.30620</td>\n      <td>-0.38550</td>\n      <td>...</td>\n      <td>-0.0054</td>\n      <td>0.2938</td>\n      <td>0.00060</td>\n      <td>0.16710</td>\n      <td>-1.61140</td>\n      <td>-0.38045</td>\n      <td>0.9454</td>\n      <td>-0.07660</td>\n      <td>-0.21635</td>\n      <td>-0.04090</td>\n    </tr>\n    <tr>\n      <th>1000121</th>\n      <td>-0.09595</td>\n      <td>1.19470</td>\n      <td>0.50260</td>\n      <td>1.7044</td>\n      <td>0.08510</td>\n      <td>1.02915</td>\n      <td>1.93030</td>\n      <td>-0.47120</td>\n      <td>-1.22420</td>\n      <td>0.31990</td>\n      <td>...</td>\n      <td>0.3635</td>\n      <td>0.2324</td>\n      <td>0.93280</td>\n      <td>0.20580</td>\n      <td>0.41380</td>\n      <td>-0.05095</td>\n      <td>0.6031</td>\n      <td>2.14825</td>\n      <td>-0.40075</td>\n      <td>0.78220</td>\n    </tr>\n    <tr>\n      <th>1000366</th>\n      <td>-0.49710</td>\n      <td>0.13750</td>\n      <td>-0.39630</td>\n      <td>-0.5911</td>\n      <td>-0.00050</td>\n      <td>0.42995</td>\n      <td>0.09420</td>\n      <td>0.11370</td>\n      <td>-0.87450</td>\n      <td>0.33870</td>\n      <td>...</td>\n      <td>-0.1691</td>\n      <td>0.1383</td>\n      <td>-0.50230</td>\n      <td>-0.64980</td>\n      <td>-1.34030</td>\n      <td>0.04305</td>\n      <td>-0.5473</td>\n      <td>0.09665</td>\n      <td>-0.00145</td>\n      <td>-0.12130</td>\n    </tr>\n    <tr>\n      <th>1000654</th>\n      <td>NaN</td>\n      <td>NaN</td>\n      <td>NaN</td>\n      <td>NaN</td>\n      <td>NaN</td>\n      <td>NaN</td>\n      <td>NaN</td>\n      <td>-0.62150</td>\n      <td>NaN</td>\n      <td>NaN</td>\n      <td>...</td>\n      <td>NaN</td>\n      <td>NaN</td>\n      <td>NaN</td>\n      <td>-0.16760</td>\n      <td>NaN</td>\n      <td>NaN</td>\n      <td>NaN</td>\n      <td>NaN</td>\n      <td>NaN</td>\n      <td>NaN</td>\n    </tr>\n    <tr>\n      <th>...</th>\n      <td>...</td>\n      <td>...</td>\n      <td>...</td>\n      <td>...</td>\n      <td>...</td>\n      <td>...</td>\n      <td>...</td>\n      <td>...</td>\n      <td>...</td>\n      <td>...</td>\n      <td>...</td>\n      <td>...</td>\n      <td>...</td>\n      <td>...</td>\n      <td>...</td>\n      <td>...</td>\n      <td>...</td>\n      <td>...</td>\n      <td>...</td>\n      <td>...</td>\n      <td>...</td>\n    </tr>\n    <tr>\n      <th>6023200</th>\n      <td>0.92520</td>\n      <td>0.82870</td>\n      <td>1.27570</td>\n      <td>0.0072</td>\n      <td>0.03920</td>\n      <td>-0.74775</td>\n      <td>0.31670</td>\n      <td>-0.09620</td>\n      <td>0.65350</td>\n      <td>-0.05410</td>\n      <td>...</td>\n      <td>-0.0394</td>\n      <td>0.9615</td>\n      <td>0.01110</td>\n      <td>0.31520</td>\n      <td>0.92880</td>\n      <td>0.64155</td>\n      <td>2.4101</td>\n      <td>0.89345</td>\n      <td>1.03015</td>\n      <td>0.04350</td>\n    </tr>\n    <tr>\n      <th>6023252</th>\n      <td>-0.52630</td>\n      <td>-0.46640</td>\n      <td>-0.10490</td>\n      <td>-1.0452</td>\n      <td>-0.35250</td>\n      <td>0.08180</td>\n      <td>-0.58010</td>\n      <td>-0.42900</td>\n      <td>NaN</td>\n      <td>-0.01800</td>\n      <td>...</td>\n      <td>-0.1274</td>\n      <td>0.3190</td>\n      <td>NaN</td>\n      <td>-0.43860</td>\n      <td>-2.00490</td>\n      <td>-0.18830</td>\n      <td>-0.0931</td>\n      <td>-0.91670</td>\n      <td>-0.17770</td>\n      <td>-0.20860</td>\n    </tr>\n    <tr>\n      <th>6023293</th>\n      <td>0.06265</td>\n      <td>-0.16035</td>\n      <td>-0.19505</td>\n      <td>-0.0936</td>\n      <td>0.33510</td>\n      <td>0.41080</td>\n      <td>0.14345</td>\n      <td>-0.07095</td>\n      <td>-0.49345</td>\n      <td>0.26530</td>\n      <td>...</td>\n      <td>0.4725</td>\n      <td>-0.1121</td>\n      <td>-0.38100</td>\n      <td>-0.32345</td>\n      <td>-0.18175</td>\n      <td>0.02445</td>\n      <td>-0.2360</td>\n      <td>0.25925</td>\n      <td>-0.52150</td>\n      <td>-0.17835</td>\n    </tr>\n    <tr>\n      <th>6023486</th>\n      <td>-0.82865</td>\n      <td>-0.91530</td>\n      <td>-0.70090</td>\n      <td>-0.5283</td>\n      <td>-0.22170</td>\n      <td>-0.10765</td>\n      <td>-0.02870</td>\n      <td>-0.23870</td>\n      <td>-0.36990</td>\n      <td>-0.05170</td>\n      <td>...</td>\n      <td>-0.2247</td>\n      <td>0.1526</td>\n      <td>0.63530</td>\n      <td>-0.30880</td>\n      <td>-2.18230</td>\n      <td>0.37105</td>\n      <td>-0.1432</td>\n      <td>0.40565</td>\n      <td>-0.80915</td>\n      <td>-0.11400</td>\n    </tr>\n    <tr>\n      <th>6023592</th>\n      <td>-0.13345</td>\n      <td>-0.05275</td>\n      <td>-0.03810</td>\n      <td>-0.5602</td>\n      <td>-0.40595</td>\n      <td>0.11790</td>\n      <td>0.30850</td>\n      <td>-0.16030</td>\n      <td>-1.18850</td>\n      <td>-0.04365</td>\n      <td>...</td>\n      <td>0.1319</td>\n      <td>0.1778</td>\n      <td>-0.21985</td>\n      <td>-0.31850</td>\n      <td>-0.35660</td>\n      <td>0.22475</td>\n      <td>-0.1545</td>\n      <td>-0.26770</td>\n      <td>0.25895</td>\n      <td>-0.04330</td>\n    </tr>\n  </tbody>\n</table>\n<p>52704 rows × 1463 columns</p>\n</div>"
     },
     "execution_count": 9,
     "metadata": {},
     "output_type": "execute_result"
    }
   ],
   "source": [
    "df = pd.read_csv(DATA_DIR / \"olink_data_ins0.csv\", index_col=0)\n",
    "df"
   ]
  },
  {
   "cell_type": "code",
   "execution_count": 54,
   "outputs": [
    {
     "data": {
      "text/plain": "NPPB      0.738274\nPCSK7     0.633576\nCTSV      0.231709\nTADA3     0.133785\nANG       0.088608\n            ...   \nICAM4     0.010170\nICAM3     0.010170\nEPHB6     0.010170\nSCARF2    0.010170\nCRTAM     0.010170\nLength: 1463, dtype: float64"
     },
     "execution_count": 54,
     "metadata": {},
     "output_type": "execute_result"
    }
   ],
   "source": [
    "(df.isna().sum(axis=0) / len(df)).sort_values(ascending=False)"
   ],
   "metadata": {
    "collapsed": false,
    "ExecuteTime": {
     "end_time": "2023-08-05T21:44:53.464430506Z",
     "start_time": "2023-08-05T21:44:52.653362422Z"
    }
   }
  },
  {
   "cell_type": "code",
   "execution_count": 55,
   "outputs": [
    {
     "data": {
      "text/plain": "eid\n5496659    1388\n5245071    1358\n3841765    1292\n4607585    1286\n3552748    1286\n           ... \n5165578       0\n2260963       0\n3064006       0\n3710781       0\n3503021       0\nLength: 52704, dtype: int64"
     },
     "execution_count": 55,
     "metadata": {},
     "output_type": "execute_result"
    }
   ],
   "source": [
    "df.isna().sum(axis=1).sort_values(ascending=False)"
   ],
   "metadata": {
    "collapsed": false,
    "ExecuteTime": {
     "end_time": "2023-08-05T21:44:54.006035492Z",
     "start_time": "2023-08-05T21:44:53.443191950Z"
    }
   }
  },
  {
   "cell_type": "code",
   "execution_count": 56,
   "outputs": [
    {
     "data": {
      "text/plain": "            eid  Sex  age      BMI Smokinstatus Alcoholintakefrequency  \\\n0       1000011    1   60  28,0557            0                      6   \n1       1000060    1   57  25,0363            0                      2   \n2       1000075    0   58  31,9283            0                      2   \n3       1000097    0   56  28,0969            1                      6   \n4       1000121    1   63  34,1438            0                      1   \n...         ...  ...  ...      ...          ...                    ...   \n409514  6023678    0   62  29,8029            0                      6   \n409515  6023680    1   64  27,3229            1                      2   \n409516  6023699    1   48  27,4939            0                      1   \n409517  6023703    0   62  26,9983            2                      4   \n409518  6023710    1   48  30,2382            0                      2   \n\n       HTNgroup fastingtime    SBP   DBP    PP  \n0             2           4  157,5  98,5    59  \n1             1           5  153,5    99  54,5  \n2             2           3  131,5    77  54,5  \n3             0           2    120    70    50  \n4             2           3    149  97,5  51,5  \n...         ...         ...    ...   ...   ...  \n409514        0           2  131,5    75  56,5  \n409515        2           4    169  97,5  71,5  \n409516        0          14    132  86,5  45,5  \n409517        2           2  122,5    76  46,5  \n409518        0           2    131    88    43  \n\n[409519 rows x 11 columns]",
      "text/html": "<div>\n<style scoped>\n    .dataframe tbody tr th:only-of-type {\n        vertical-align: middle;\n    }\n\n    .dataframe tbody tr th {\n        vertical-align: top;\n    }\n\n    .dataframe thead th {\n        text-align: right;\n    }\n</style>\n<table border=\"1\" class=\"dataframe\">\n  <thead>\n    <tr style=\"text-align: right;\">\n      <th></th>\n      <th>eid</th>\n      <th>Sex</th>\n      <th>age</th>\n      <th>BMI</th>\n      <th>Smokinstatus</th>\n      <th>Alcoholintakefrequency</th>\n      <th>HTNgroup</th>\n      <th>fastingtime</th>\n      <th>SBP</th>\n      <th>DBP</th>\n      <th>PP</th>\n    </tr>\n  </thead>\n  <tbody>\n    <tr>\n      <th>0</th>\n      <td>1000011</td>\n      <td>1</td>\n      <td>60</td>\n      <td>28,0557</td>\n      <td>0</td>\n      <td>6</td>\n      <td>2</td>\n      <td>4</td>\n      <td>157,5</td>\n      <td>98,5</td>\n      <td>59</td>\n    </tr>\n    <tr>\n      <th>1</th>\n      <td>1000060</td>\n      <td>1</td>\n      <td>57</td>\n      <td>25,0363</td>\n      <td>0</td>\n      <td>2</td>\n      <td>1</td>\n      <td>5</td>\n      <td>153,5</td>\n      <td>99</td>\n      <td>54,5</td>\n    </tr>\n    <tr>\n      <th>2</th>\n      <td>1000075</td>\n      <td>0</td>\n      <td>58</td>\n      <td>31,9283</td>\n      <td>0</td>\n      <td>2</td>\n      <td>2</td>\n      <td>3</td>\n      <td>131,5</td>\n      <td>77</td>\n      <td>54,5</td>\n    </tr>\n    <tr>\n      <th>3</th>\n      <td>1000097</td>\n      <td>0</td>\n      <td>56</td>\n      <td>28,0969</td>\n      <td>1</td>\n      <td>6</td>\n      <td>0</td>\n      <td>2</td>\n      <td>120</td>\n      <td>70</td>\n      <td>50</td>\n    </tr>\n    <tr>\n      <th>4</th>\n      <td>1000121</td>\n      <td>1</td>\n      <td>63</td>\n      <td>34,1438</td>\n      <td>0</td>\n      <td>1</td>\n      <td>2</td>\n      <td>3</td>\n      <td>149</td>\n      <td>97,5</td>\n      <td>51,5</td>\n    </tr>\n    <tr>\n      <th>...</th>\n      <td>...</td>\n      <td>...</td>\n      <td>...</td>\n      <td>...</td>\n      <td>...</td>\n      <td>...</td>\n      <td>...</td>\n      <td>...</td>\n      <td>...</td>\n      <td>...</td>\n      <td>...</td>\n    </tr>\n    <tr>\n      <th>409514</th>\n      <td>6023678</td>\n      <td>0</td>\n      <td>62</td>\n      <td>29,8029</td>\n      <td>0</td>\n      <td>6</td>\n      <td>0</td>\n      <td>2</td>\n      <td>131,5</td>\n      <td>75</td>\n      <td>56,5</td>\n    </tr>\n    <tr>\n      <th>409515</th>\n      <td>6023680</td>\n      <td>1</td>\n      <td>64</td>\n      <td>27,3229</td>\n      <td>1</td>\n      <td>2</td>\n      <td>2</td>\n      <td>4</td>\n      <td>169</td>\n      <td>97,5</td>\n      <td>71,5</td>\n    </tr>\n    <tr>\n      <th>409516</th>\n      <td>6023699</td>\n      <td>1</td>\n      <td>48</td>\n      <td>27,4939</td>\n      <td>0</td>\n      <td>1</td>\n      <td>0</td>\n      <td>14</td>\n      <td>132</td>\n      <td>86,5</td>\n      <td>45,5</td>\n    </tr>\n    <tr>\n      <th>409517</th>\n      <td>6023703</td>\n      <td>0</td>\n      <td>62</td>\n      <td>26,9983</td>\n      <td>2</td>\n      <td>4</td>\n      <td>2</td>\n      <td>2</td>\n      <td>122,5</td>\n      <td>76</td>\n      <td>46,5</td>\n    </tr>\n    <tr>\n      <th>409518</th>\n      <td>6023710</td>\n      <td>1</td>\n      <td>48</td>\n      <td>30,2382</td>\n      <td>0</td>\n      <td>2</td>\n      <td>0</td>\n      <td>2</td>\n      <td>131</td>\n      <td>88</td>\n      <td>43</td>\n    </tr>\n  </tbody>\n</table>\n<p>409519 rows × 11 columns</p>\n</div>"
     },
     "execution_count": 56,
     "metadata": {},
     "output_type": "execute_result"
    }
   ],
   "source": [
    "cov_df = pd.read_csv(DATA_DIR / \"BP_cov.zip\", sep=\"\\t\")\n",
    "cov_df"
   ],
   "metadata": {
    "collapsed": false,
    "ExecuteTime": {
     "end_time": "2023-08-05T21:44:54.517983984Z",
     "start_time": "2023-08-05T21:44:53.982913096Z"
    }
   }
  },
  {
   "cell_type": "code",
   "execution_count": 57,
   "outputs": [
    {
     "data": {
      "text/plain": "409519"
     },
     "execution_count": 57,
     "metadata": {},
     "output_type": "execute_result"
    }
   ],
   "source": [
    "cov_df.eid.nunique()"
   ],
   "metadata": {
    "collapsed": false,
    "ExecuteTime": {
     "end_time": "2023-08-05T21:44:54.540564796Z",
     "start_time": "2023-08-05T21:44:54.503651451Z"
    }
   }
  }
 ],
 "metadata": {
  "kernelspec": {
   "display_name": "Python 3",
   "language": "python",
   "name": "python3"
  },
  "language_info": {
   "codemirror_mode": {
    "name": "ipython",
    "version": 2
   },
   "file_extension": ".py",
   "mimetype": "text/x-python",
   "name": "python",
   "nbconvert_exporter": "python",
   "pygments_lexer": "ipython2",
   "version": "2.7.6"
  }
 },
 "nbformat": 4,
 "nbformat_minor": 0
}
