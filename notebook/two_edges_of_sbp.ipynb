{
 "cells": [
  {
   "cell_type": "code",
   "execution_count": 1,
   "metadata": {
    "ExecuteTime": {
     "end_time": "2023-08-15T00:31:43.992922973Z",
     "start_time": "2023-08-15T00:31:43.969160701Z"
    }
   },
   "outputs": [],
   "source": [
    "%load_ext autoreload\n",
    "%autoreload 2"
   ]
  },
  {
   "cell_type": "code",
   "execution_count": 2,
   "metadata": {
    "ExecuteTime": {
     "end_time": "2023-08-15T00:32:00.991717830Z",
     "start_time": "2023-08-15T00:31:44.443771718Z"
    },
    "collapsed": false,
    "jupyter": {
     "outputs_hidden": false
    }
   },
   "outputs": [],
   "source": [
    "import numpy as np\n",
    "import pandas as pd\n",
    "\n",
    "from biobank_olink.dataset import load_datasets\n",
    "\n",
    "ol_df, cov_df = load_datasets(cols_na_th=0, rows_na_th=0)"
   ]
  },
  {
   "cell_type": "code",
   "execution_count": 3,
   "metadata": {
    "ExecuteTime": {
     "end_time": "2023-08-15T00:32:01.060468827Z",
     "start_time": "2023-08-15T00:32:00.998780534Z"
    },
    "collapsed": false,
    "jupyter": {
     "outputs_hidden": false
    }
   },
   "outputs": [
    {
     "data": {
      "text/html": [
       "<div>\n",
       "<style scoped>\n",
       "    .dataframe tbody tr th:only-of-type {\n",
       "        vertical-align: middle;\n",
       "    }\n",
       "\n",
       "    .dataframe tbody tr th {\n",
       "        vertical-align: top;\n",
       "    }\n",
       "\n",
       "    .dataframe thead th {\n",
       "        text-align: right;\n",
       "    }\n",
       "</style>\n",
       "<table border=\"1\" class=\"dataframe\">\n",
       "  <thead>\n",
       "    <tr style=\"text-align: right;\">\n",
       "      <th></th>\n",
       "      <th>Sex</th>\n",
       "      <th>age</th>\n",
       "      <th>BMI</th>\n",
       "      <th>Smokinstatus</th>\n",
       "      <th>Alcoholintakefrequency</th>\n",
       "      <th>HTNgroup</th>\n",
       "      <th>fastingtime</th>\n",
       "      <th>SBP</th>\n",
       "      <th>DBP</th>\n",
       "      <th>PP</th>\n",
       "    </tr>\n",
       "    <tr>\n",
       "      <th>eid</th>\n",
       "      <th></th>\n",
       "      <th></th>\n",
       "      <th></th>\n",
       "      <th></th>\n",
       "      <th></th>\n",
       "      <th></th>\n",
       "      <th></th>\n",
       "      <th></th>\n",
       "      <th></th>\n",
       "      <th></th>\n",
       "    </tr>\n",
       "  </thead>\n",
       "  <tbody>\n",
       "    <tr>\n",
       "      <th>1100542</th>\n",
       "      <td>0.0</td>\n",
       "      <td>56.0</td>\n",
       "      <td>25.3302</td>\n",
       "      <td>0.0</td>\n",
       "      <td>2.0</td>\n",
       "      <td>0.0</td>\n",
       "      <td>3.0</td>\n",
       "      <td>76.5</td>\n",
       "      <td>47.0</td>\n",
       "      <td>29.5</td>\n",
       "    </tr>\n",
       "    <tr>\n",
       "      <th>2071806</th>\n",
       "      <td>1.0</td>\n",
       "      <td>61.0</td>\n",
       "      <td>32.7542</td>\n",
       "      <td>1.0</td>\n",
       "      <td>4.0</td>\n",
       "      <td>0.0</td>\n",
       "      <td>3.0</td>\n",
       "      <td>84.5</td>\n",
       "      <td>53.0</td>\n",
       "      <td>31.5</td>\n",
       "    </tr>\n",
       "    <tr>\n",
       "      <th>4670270</th>\n",
       "      <td>0.0</td>\n",
       "      <td>41.0</td>\n",
       "      <td>21.7004</td>\n",
       "      <td>0.0</td>\n",
       "      <td>4.0</td>\n",
       "      <td>0.0</td>\n",
       "      <td>4.0</td>\n",
       "      <td>84.5</td>\n",
       "      <td>62.0</td>\n",
       "      <td>22.5</td>\n",
       "    </tr>\n",
       "    <tr>\n",
       "      <th>3662467</th>\n",
       "      <td>0.0</td>\n",
       "      <td>55.0</td>\n",
       "      <td>20.3475</td>\n",
       "      <td>0.0</td>\n",
       "      <td>3.0</td>\n",
       "      <td>0.0</td>\n",
       "      <td>6.0</td>\n",
       "      <td>85.0</td>\n",
       "      <td>59.0</td>\n",
       "      <td>26.0</td>\n",
       "    </tr>\n",
       "    <tr>\n",
       "      <th>5301061</th>\n",
       "      <td>1.0</td>\n",
       "      <td>43.0</td>\n",
       "      <td>21.6512</td>\n",
       "      <td>1.0</td>\n",
       "      <td>6.0</td>\n",
       "      <td>0.0</td>\n",
       "      <td>2.0</td>\n",
       "      <td>85.5</td>\n",
       "      <td>55.5</td>\n",
       "      <td>30.0</td>\n",
       "    </tr>\n",
       "  </tbody>\n",
       "</table>\n",
       "</div>"
      ],
      "text/plain": [
       "         Sex   age      BMI  Smokinstatus  Alcoholintakefrequency  HTNgroup  \\\n",
       "eid                                                                           \n",
       "1100542  0.0  56.0  25.3302           0.0                     2.0       0.0   \n",
       "2071806  1.0  61.0  32.7542           1.0                     4.0       0.0   \n",
       "4670270  0.0  41.0  21.7004           0.0                     4.0       0.0   \n",
       "3662467  0.0  55.0  20.3475           0.0                     3.0       0.0   \n",
       "5301061  1.0  43.0  21.6512           1.0                     6.0       0.0   \n",
       "\n",
       "         fastingtime   SBP   DBP    PP  \n",
       "eid                                     \n",
       "1100542          3.0  76.5  47.0  29.5  \n",
       "2071806          3.0  84.5  53.0  31.5  \n",
       "4670270          4.0  84.5  62.0  22.5  \n",
       "3662467          6.0  85.0  59.0  26.0  \n",
       "5301061          2.0  85.5  55.5  30.0  "
      ]
     },
     "execution_count": 3,
     "metadata": {},
     "output_type": "execute_result"
    }
   ],
   "source": [
    "# W danych dodałem zmienną HTNgroup gdzie 0 to normotensja, 1 to nieleczone HTN (SBP>=140 lub DBP>=90) 2\n",
    "# to \"zażywanie leków antyHTN\"\n",
    "cov_df = cov_df[cov_df.HTNgroup < 2]\n",
    "cov_df = cov_df.sort_values(by='SBP')\n",
    "cov_df.head(5)"
   ]
  },
  {
   "cell_type": "code",
   "execution_count": 4,
   "metadata": {
    "ExecuteTime": {
     "end_time": "2023-08-15T00:36:55.229598702Z",
     "start_time": "2023-08-15T00:32:01.056570820Z"
    },
    "collapsed": false,
    "jupyter": {
     "outputs_hidden": false
    }
   },
   "outputs": [],
   "source": [
    "ol_df_corr = ol_df.corr()\n",
    "mask = np.triu(np.ones(ol_df_corr.shape), k=1).astype(bool)\n",
    "high_corr = ol_df_corr.where(mask)\n",
    "cols_to_remove = [column for column in high_corr.columns if any(high_corr[column] > 0.9)]\n",
    "ol_df.drop(columns=cols_to_remove, inplace=True)"
   ]
  },
  {
   "cell_type": "code",
   "execution_count": 5,
   "metadata": {
    "ExecuteTime": {
     "end_time": "2023-08-15T00:36:56.416366090Z",
     "start_time": "2023-08-15T00:36:56.332883802Z"
    },
    "collapsed": false,
    "jupyter": {
     "outputs_hidden": false
    }
   },
   "outputs": [
    {
     "data": {
      "text/html": [
       "<div>\n",
       "<style scoped>\n",
       "    .dataframe tbody tr th:only-of-type {\n",
       "        vertical-align: middle;\n",
       "    }\n",
       "\n",
       "    .dataframe tbody tr th {\n",
       "        vertical-align: top;\n",
       "    }\n",
       "\n",
       "    .dataframe thead th {\n",
       "        text-align: right;\n",
       "    }\n",
       "</style>\n",
       "<table border=\"1\" class=\"dataframe\">\n",
       "  <thead>\n",
       "    <tr style=\"text-align: right;\">\n",
       "      <th></th>\n",
       "      <th>low</th>\n",
       "      <th>high</th>\n",
       "    </tr>\n",
       "  </thead>\n",
       "  <tbody>\n",
       "    <tr>\n",
       "      <th>count</th>\n",
       "      <td>9028.000000</td>\n",
       "      <td>9014.000000</td>\n",
       "    </tr>\n",
       "    <tr>\n",
       "      <th>mean</th>\n",
       "      <td>116.173350</td>\n",
       "      <td>158.513035</td>\n",
       "    </tr>\n",
       "    <tr>\n",
       "      <th>std</th>\n",
       "      <td>6.918589</td>\n",
       "      <td>12.095320</td>\n",
       "    </tr>\n",
       "    <tr>\n",
       "      <th>min</th>\n",
       "      <td>76.500000</td>\n",
       "      <td>145.000000</td>\n",
       "    </tr>\n",
       "    <tr>\n",
       "      <th>25%</th>\n",
       "      <td>112.000000</td>\n",
       "      <td>149.500000</td>\n",
       "    </tr>\n",
       "    <tr>\n",
       "      <th>50%</th>\n",
       "      <td>117.500000</td>\n",
       "      <td>155.000000</td>\n",
       "    </tr>\n",
       "    <tr>\n",
       "      <th>75%</th>\n",
       "      <td>122.000000</td>\n",
       "      <td>164.500000</td>\n",
       "    </tr>\n",
       "    <tr>\n",
       "      <th>max</th>\n",
       "      <td>125.000000</td>\n",
       "      <td>246.000000</td>\n",
       "    </tr>\n",
       "  </tbody>\n",
       "</table>\n",
       "</div>"
      ],
      "text/plain": [
       "               low         high\n",
       "count  9028.000000  9014.000000\n",
       "mean    116.173350   158.513035\n",
       "std       6.918589    12.095320\n",
       "min      76.500000   145.000000\n",
       "25%     112.000000   149.500000\n",
       "50%     117.500000   155.000000\n",
       "75%     122.000000   164.500000\n",
       "max     125.000000   246.000000"
      ]
     },
     "execution_count": 5,
     "metadata": {},
     "output_type": "execute_result"
    }
   ],
   "source": [
    "threshold = 0.3\n",
    "lower_bound, upper_bound = cov_df.SBP.quantile([threshold, 1 - threshold]).values\n",
    "low_cov_df = cov_df[cov_df.SBP < lower_bound]\n",
    "high_cov_df = cov_df[upper_bound < cov_df.SBP]\n",
    "pd.concat([low_cov_df.SBP.describe(), high_cov_df.SBP.describe()], axis=1, keys=[\"low\", \"high\"])"
   ]
  },
  {
   "cell_type": "code",
   "execution_count": 6,
   "metadata": {
    "ExecuteTime": {
     "end_time": "2023-08-14T23:47:14.911982938Z",
     "start_time": "2023-08-14T23:47:14.812396266Z"
    },
    "collapsed": false,
    "jupyter": {
     "outputs_hidden": false
    }
   },
   "outputs": [
    {
     "data": {
      "text/html": [
       "<div>\n",
       "<style scoped>\n",
       "    .dataframe tbody tr th:only-of-type {\n",
       "        vertical-align: middle;\n",
       "    }\n",
       "\n",
       "    .dataframe tbody tr th {\n",
       "        vertical-align: top;\n",
       "    }\n",
       "\n",
       "    .dataframe thead th {\n",
       "        text-align: right;\n",
       "    }\n",
       "</style>\n",
       "<table border=\"1\" class=\"dataframe\">\n",
       "  <thead>\n",
       "    <tr style=\"text-align: right;\">\n",
       "      <th></th>\n",
       "      <th>Sex</th>\n",
       "      <th>age</th>\n",
       "      <th>BMI</th>\n",
       "    </tr>\n",
       "    <tr>\n",
       "      <th>eid</th>\n",
       "      <th></th>\n",
       "      <th></th>\n",
       "      <th></th>\n",
       "    </tr>\n",
       "  </thead>\n",
       "  <tbody>\n",
       "    <tr>\n",
       "      <th>1100542</th>\n",
       "      <td>-0.820553</td>\n",
       "      <td>-0.017659</td>\n",
       "      <td>-0.291991</td>\n",
       "    </tr>\n",
       "    <tr>\n",
       "      <th>2071806</th>\n",
       "      <td>1.218623</td>\n",
       "      <td>0.590351</td>\n",
       "      <td>1.377041</td>\n",
       "    </tr>\n",
       "    <tr>\n",
       "      <th>4670270</th>\n",
       "      <td>-0.820553</td>\n",
       "      <td>-1.841688</td>\n",
       "      <td>-1.108027</td>\n",
       "    </tr>\n",
       "    <tr>\n",
       "      <th>3662467</th>\n",
       "      <td>-0.820553</td>\n",
       "      <td>-0.139261</td>\n",
       "      <td>-1.412180</td>\n",
       "    </tr>\n",
       "    <tr>\n",
       "      <th>5301061</th>\n",
       "      <td>1.218623</td>\n",
       "      <td>-1.598484</td>\n",
       "      <td>-1.119088</td>\n",
       "    </tr>\n",
       "  </tbody>\n",
       "</table>\n",
       "</div>"
      ],
      "text/plain": [
       "              Sex       age       BMI\n",
       "eid                                  \n",
       "1100542 -0.820553 -0.017659 -0.291991\n",
       "2071806  1.218623  0.590351  1.377041\n",
       "4670270 -0.820553 -1.841688 -1.108027\n",
       "3662467 -0.820553 -0.139261 -1.412180\n",
       "5301061  1.218623 -1.598484 -1.119088"
      ]
     },
     "execution_count": 6,
     "metadata": {},
     "output_type": "execute_result"
    }
   ],
   "source": [
    "correction_df = pd.concat([low_cov_df, high_cov_df])\n",
    "correction_cols = [\"Sex\", \"age\", \"BMI\"]\n",
    "correction_df = correction_df[correction_cols]\n",
    "correction_df = (correction_df - correction_df.mean()) / correction_df.std()\n",
    "correction_df.head()"
   ]
  },
  {
   "cell_type": "code",
   "execution_count": 7,
   "metadata": {
    "ExecuteTime": {
     "end_time": "2023-08-14T23:47:23.665737376Z",
     "start_time": "2023-08-14T23:47:14.846432687Z"
    },
    "collapsed": false,
    "jupyter": {
     "outputs_hidden": false
    }
   },
   "outputs": [
    {
     "data": {
      "text/html": [
       "<div>\n",
       "<style scoped>\n",
       "    .dataframe tbody tr th:only-of-type {\n",
       "        vertical-align: middle;\n",
       "    }\n",
       "\n",
       "    .dataframe tbody tr th {\n",
       "        vertical-align: top;\n",
       "    }\n",
       "\n",
       "    .dataframe thead th {\n",
       "        text-align: right;\n",
       "    }\n",
       "</style>\n",
       "<table border=\"1\" class=\"dataframe\">\n",
       "  <thead>\n",
       "    <tr style=\"text-align: right;\">\n",
       "      <th></th>\n",
       "      <th>p2_id</th>\n",
       "      <th>dist</th>\n",
       "    </tr>\n",
       "    <tr>\n",
       "      <th>eid</th>\n",
       "      <th></th>\n",
       "      <th></th>\n",
       "    </tr>\n",
       "  </thead>\n",
       "  <tbody>\n",
       "    <tr>\n",
       "      <th>2692226</th>\n",
       "      <td>5952781</td>\n",
       "      <td>0.0</td>\n",
       "    </tr>\n",
       "    <tr>\n",
       "      <th>4402558</th>\n",
       "      <td>4581635</td>\n",
       "      <td>0.0</td>\n",
       "    </tr>\n",
       "    <tr>\n",
       "      <th>2278270</th>\n",
       "      <td>5787420</td>\n",
       "      <td>0.0</td>\n",
       "    </tr>\n",
       "    <tr>\n",
       "      <th>1092280</th>\n",
       "      <td>4767076</td>\n",
       "      <td>0.0</td>\n",
       "    </tr>\n",
       "    <tr>\n",
       "      <th>1084054</th>\n",
       "      <td>2184694</td>\n",
       "      <td>0.0</td>\n",
       "    </tr>\n",
       "  </tbody>\n",
       "</table>\n",
       "</div>"
      ],
      "text/plain": [
       "           p2_id  dist\n",
       "eid                   \n",
       "2692226  5952781   0.0\n",
       "4402558  4581635   0.0\n",
       "2278270  5787420   0.0\n",
       "1092280  4767076   0.0\n",
       "1084054  2184694   0.0"
      ]
     },
     "execution_count": 7,
     "metadata": {},
     "output_type": "execute_result"
    }
   ],
   "source": [
    "from scipy.spatial.distance import pdist, squareform\n",
    "\n",
    "similarities = squareform(pdist(correction_df))\n",
    "np.fill_diagonal(similarities, np.inf)\n",
    "similarities_df = pd.DataFrame(similarities, index=correction_df.index, columns=correction_df.index)\n",
    "similarities_sub_df = similarities_df.loc[low_cov_df.index, high_cov_df.index]\n",
    "\n",
    "paired_up_df = similarities_sub_df.idxmin().to_frame(\"p2_id\")\n",
    "paired_up_df[\"dist\"] = similarities_df.min()\n",
    "paired_up_df2 = similarities_sub_df.T.idxmin().to_frame(\"p2_id\")\n",
    "paired_up_df2[\"dist\"] = similarities_df.T.min()\n",
    "paired_up_df = pd.concat([paired_up_df, paired_up_df2])\n",
    "paired_up_df.sort_values(by=\"dist\", inplace=True)\n",
    "\n",
    "del similarities_df, similarities\n",
    "paired_up_df.head()"
   ]
  },
  {
   "cell_type": "code",
   "execution_count": 8,
   "metadata": {
    "ExecuteTime": {
     "end_time": "2023-08-14T23:47:23.748933017Z",
     "start_time": "2023-08-14T23:47:23.664873240Z"
    },
    "collapsed": false,
    "jupyter": {
     "outputs_hidden": false
    }
   },
   "outputs": [
    {
     "data": {
      "text/html": [
       "<div>\n",
       "<style scoped>\n",
       "    .dataframe tbody tr th:only-of-type {\n",
       "        vertical-align: middle;\n",
       "    }\n",
       "\n",
       "    .dataframe tbody tr th {\n",
       "        vertical-align: top;\n",
       "    }\n",
       "\n",
       "    .dataframe thead th {\n",
       "        text-align: right;\n",
       "    }\n",
       "</style>\n",
       "<table border=\"1\" class=\"dataframe\">\n",
       "  <thead>\n",
       "    <tr style=\"text-align: right;\">\n",
       "      <th></th>\n",
       "      <th>Sex</th>\n",
       "      <th>age</th>\n",
       "      <th>BMI</th>\n",
       "      <th>Smokinstatus</th>\n",
       "      <th>Alcoholintakefrequency</th>\n",
       "      <th>HTNgroup</th>\n",
       "      <th>fastingtime</th>\n",
       "      <th>SBP</th>\n",
       "      <th>DBP</th>\n",
       "      <th>PP</th>\n",
       "    </tr>\n",
       "    <tr>\n",
       "      <th>eid</th>\n",
       "      <th></th>\n",
       "      <th></th>\n",
       "      <th></th>\n",
       "      <th></th>\n",
       "      <th></th>\n",
       "      <th></th>\n",
       "      <th></th>\n",
       "      <th></th>\n",
       "      <th></th>\n",
       "      <th></th>\n",
       "    </tr>\n",
       "  </thead>\n",
       "  <tbody>\n",
       "    <tr>\n",
       "      <th>5519244</th>\n",
       "      <td>1.0</td>\n",
       "      <td>65.0</td>\n",
       "      <td>50.9975</td>\n",
       "      <td>1.0</td>\n",
       "      <td>3.0</td>\n",
       "      <td>1.0</td>\n",
       "      <td>4.0</td>\n",
       "      <td>150.0</td>\n",
       "      <td>90.0</td>\n",
       "      <td>60.0</td>\n",
       "    </tr>\n",
       "    <tr>\n",
       "      <th>5865888</th>\n",
       "      <td>1.0</td>\n",
       "      <td>56.0</td>\n",
       "      <td>44.9063</td>\n",
       "      <td>2.0</td>\n",
       "      <td>6.0</td>\n",
       "      <td>0.0</td>\n",
       "      <td>4.0</td>\n",
       "      <td>122.5</td>\n",
       "      <td>77.0</td>\n",
       "      <td>45.5</td>\n",
       "    </tr>\n",
       "  </tbody>\n",
       "</table>\n",
       "</div>"
      ],
      "text/plain": [
       "         Sex   age      BMI  Smokinstatus  Alcoholintakefrequency  HTNgroup  \\\n",
       "eid                                                                           \n",
       "5519244  1.0  65.0  50.9975           1.0                     3.0       1.0   \n",
       "5865888  1.0  56.0  44.9063           2.0                     6.0       0.0   \n",
       "\n",
       "         fastingtime    SBP   DBP    PP  \n",
       "eid                                      \n",
       "5519244          4.0  150.0  90.0  60.0  \n",
       "5865888          4.0  122.5  77.0  45.5  "
      ]
     },
     "execution_count": 8,
     "metadata": {},
     "output_type": "execute_result"
    }
   ],
   "source": [
    "p1, p2, _ = paired_up_df.reset_index().iloc[-1].values\n",
    "cov_df.loc[[p1, p2]]"
   ]
  },
  {
   "cell_type": "code",
   "execution_count": 9,
   "metadata": {
    "ExecuteTime": {
     "end_time": "2023-08-14T23:47:24.417906141Z",
     "start_time": "2023-08-14T23:47:23.692589855Z"
    },
    "collapsed": false,
    "jupyter": {
     "outputs_hidden": false
    }
   },
   "outputs": [
    {
     "data": {
      "text/html": [
       "<div>\n",
       "<style scoped>\n",
       "    .dataframe tbody tr th:only-of-type {\n",
       "        vertical-align: middle;\n",
       "    }\n",
       "\n",
       "    .dataframe tbody tr th {\n",
       "        vertical-align: top;\n",
       "    }\n",
       "\n",
       "    .dataframe thead th {\n",
       "        text-align: right;\n",
       "    }\n",
       "</style>\n",
       "<table border=\"1\" class=\"dataframe\">\n",
       "  <thead>\n",
       "    <tr style=\"text-align: right;\">\n",
       "      <th></th>\n",
       "      <th>low</th>\n",
       "      <th>high</th>\n",
       "    </tr>\n",
       "  </thead>\n",
       "  <tbody>\n",
       "    <tr>\n",
       "      <th>count</th>\n",
       "      <td>4082.000000</td>\n",
       "      <td>4082.000000</td>\n",
       "    </tr>\n",
       "    <tr>\n",
       "      <th>mean</th>\n",
       "      <td>117.208844</td>\n",
       "      <td>157.715948</td>\n",
       "    </tr>\n",
       "    <tr>\n",
       "      <th>std</th>\n",
       "      <td>6.410988</td>\n",
       "      <td>11.701788</td>\n",
       "    </tr>\n",
       "    <tr>\n",
       "      <th>min</th>\n",
       "      <td>76.500000</td>\n",
       "      <td>145.000000</td>\n",
       "    </tr>\n",
       "    <tr>\n",
       "      <th>25%</th>\n",
       "      <td>113.500000</td>\n",
       "      <td>149.000000</td>\n",
       "    </tr>\n",
       "    <tr>\n",
       "      <th>50%</th>\n",
       "      <td>119.000000</td>\n",
       "      <td>154.500000</td>\n",
       "    </tr>\n",
       "    <tr>\n",
       "      <th>75%</th>\n",
       "      <td>122.500000</td>\n",
       "      <td>163.000000</td>\n",
       "    </tr>\n",
       "    <tr>\n",
       "      <th>max</th>\n",
       "      <td>125.000000</td>\n",
       "      <td>246.000000</td>\n",
       "    </tr>\n",
       "  </tbody>\n",
       "</table>\n",
       "</div>"
      ],
      "text/plain": [
       "               low         high\n",
       "count  4082.000000  4082.000000\n",
       "mean    117.208844   157.715948\n",
       "std       6.410988    11.701788\n",
       "min      76.500000   145.000000\n",
       "25%     113.500000   149.000000\n",
       "50%     119.000000   154.500000\n",
       "75%     122.500000   163.000000\n",
       "max     125.000000   246.000000"
      ]
     },
     "execution_count": 9,
     "metadata": {},
     "output_type": "execute_result"
    }
   ],
   "source": [
    "chosen = set()\n",
    "for p1_idx, (p2_idx, _) in paired_up_df.iterrows():\n",
    "    if p1_idx in chosen or p2_idx in chosen:\n",
    "        continue\n",
    "    chosen.add(p1_idx)\n",
    "    chosen.add(p2_idx)\n",
    "\n",
    "chosen_cov_df = cov_df.loc[list(chosen)]\n",
    "low_cov_df = chosen_cov_df[chosen_cov_df.SBP < lower_bound]\n",
    "high_cov_df = chosen_cov_df[upper_bound < chosen_cov_df.SBP]\n",
    "pd.concat([low_cov_df.SBP.describe(), high_cov_df.SBP.describe()], axis=1, keys=[\"low\", \"high\"])"
   ]
  },
  {
   "cell_type": "code",
   "execution_count": 10,
   "metadata": {
    "ExecuteTime": {
     "end_time": "2023-08-14T23:47:24.468007222Z",
     "start_time": "2023-08-14T23:47:24.417547734Z"
    },
    "collapsed": false,
    "jupyter": {
     "outputs_hidden": false
    }
   },
   "outputs": [
    {
     "data": {
      "text/html": [
       "<div>\n",
       "<style scoped>\n",
       "    .dataframe tbody tr th:only-of-type {\n",
       "        vertical-align: middle;\n",
       "    }\n",
       "\n",
       "    .dataframe tbody tr th {\n",
       "        vertical-align: top;\n",
       "    }\n",
       "\n",
       "    .dataframe thead tr th {\n",
       "        text-align: left;\n",
       "    }\n",
       "</style>\n",
       "<table border=\"1\" class=\"dataframe\">\n",
       "  <thead>\n",
       "    <tr>\n",
       "      <th></th>\n",
       "      <th colspan=\"3\" halign=\"left\">low</th>\n",
       "      <th colspan=\"3\" halign=\"left\">high</th>\n",
       "    </tr>\n",
       "    <tr>\n",
       "      <th></th>\n",
       "      <th>Sex</th>\n",
       "      <th>age</th>\n",
       "      <th>BMI</th>\n",
       "      <th>Sex</th>\n",
       "      <th>age</th>\n",
       "      <th>BMI</th>\n",
       "    </tr>\n",
       "  </thead>\n",
       "  <tbody>\n",
       "    <tr>\n",
       "      <th>count</th>\n",
       "      <td>4082.000000</td>\n",
       "      <td>4082.000000</td>\n",
       "      <td>4082.000000</td>\n",
       "      <td>4082.000000</td>\n",
       "      <td>4082.000000</td>\n",
       "      <td>4082.000000</td>\n",
       "    </tr>\n",
       "    <tr>\n",
       "      <th>mean</th>\n",
       "      <td>0.417687</td>\n",
       "      <td>56.854238</td>\n",
       "      <td>26.705207</td>\n",
       "      <td>0.417687</td>\n",
       "      <td>56.861098</td>\n",
       "      <td>26.710776</td>\n",
       "    </tr>\n",
       "    <tr>\n",
       "      <th>std</th>\n",
       "      <td>0.493239</td>\n",
       "      <td>7.564025</td>\n",
       "      <td>4.248771</td>\n",
       "      <td>0.493239</td>\n",
       "      <td>7.561465</td>\n",
       "      <td>4.262156</td>\n",
       "    </tr>\n",
       "    <tr>\n",
       "      <th>min</th>\n",
       "      <td>0.000000</td>\n",
       "      <td>40.000000</td>\n",
       "      <td>15.353500</td>\n",
       "      <td>0.000000</td>\n",
       "      <td>40.000000</td>\n",
       "      <td>15.657300</td>\n",
       "    </tr>\n",
       "    <tr>\n",
       "      <th>25%</th>\n",
       "      <td>0.000000</td>\n",
       "      <td>51.000000</td>\n",
       "      <td>23.777975</td>\n",
       "      <td>0.000000</td>\n",
       "      <td>51.000000</td>\n",
       "      <td>23.796600</td>\n",
       "    </tr>\n",
       "    <tr>\n",
       "      <th>50%</th>\n",
       "      <td>0.000000</td>\n",
       "      <td>58.000000</td>\n",
       "      <td>26.150300</td>\n",
       "      <td>0.000000</td>\n",
       "      <td>58.000000</td>\n",
       "      <td>26.127700</td>\n",
       "    </tr>\n",
       "    <tr>\n",
       "      <th>75%</th>\n",
       "      <td>1.000000</td>\n",
       "      <td>63.000000</td>\n",
       "      <td>28.934400</td>\n",
       "      <td>1.000000</td>\n",
       "      <td>63.000000</td>\n",
       "      <td>28.925700</td>\n",
       "    </tr>\n",
       "    <tr>\n",
       "      <th>max</th>\n",
       "      <td>1.000000</td>\n",
       "      <td>70.000000</td>\n",
       "      <td>46.517100</td>\n",
       "      <td>1.000000</td>\n",
       "      <td>70.000000</td>\n",
       "      <td>56.263000</td>\n",
       "    </tr>\n",
       "  </tbody>\n",
       "</table>\n",
       "</div>"
      ],
      "text/plain": [
       "               low                                   high               \\\n",
       "               Sex          age          BMI          Sex          age   \n",
       "count  4082.000000  4082.000000  4082.000000  4082.000000  4082.000000   \n",
       "mean      0.417687    56.854238    26.705207     0.417687    56.861098   \n",
       "std       0.493239     7.564025     4.248771     0.493239     7.561465   \n",
       "min       0.000000    40.000000    15.353500     0.000000    40.000000   \n",
       "25%       0.000000    51.000000    23.777975     0.000000    51.000000   \n",
       "50%       0.000000    58.000000    26.150300     0.000000    58.000000   \n",
       "75%       1.000000    63.000000    28.934400     1.000000    63.000000   \n",
       "max       1.000000    70.000000    46.517100     1.000000    70.000000   \n",
       "\n",
       "                    \n",
       "               BMI  \n",
       "count  4082.000000  \n",
       "mean     26.710776  \n",
       "std       4.262156  \n",
       "min      15.657300  \n",
       "25%      23.796600  \n",
       "50%      26.127700  \n",
       "75%      28.925700  \n",
       "max      56.263000  "
      ]
     },
     "execution_count": 10,
     "metadata": {},
     "output_type": "execute_result"
    }
   ],
   "source": [
    "pd.concat([low_cov_df[correction_cols].describe(), high_cov_df[correction_cols].describe()], axis=1,\n",
    "          keys=[\"low\", \"high\"])"
   ]
  },
  {
   "cell_type": "markdown",
   "metadata": {
    "collapsed": false,
    "jupyter": {
     "outputs_hidden": false
    }
   },
   "source": [
    "## Classification"
   ]
  },
  {
   "cell_type": "code",
   "execution_count": 16,
   "metadata": {
    "ExecuteTime": {
     "start_time": "2023-08-15T00:01:04.861069512Z"
    },
    "collapsed": false,
    "jupyter": {
     "outputs_hidden": false
    }
   },
   "outputs": [
    {
     "data": {
      "text/plain": [
       "array([0.73194614, 0.71481028, 0.71603427, 0.73194614, 0.71568627,\n",
       "       0.70955882, 0.72671569, 0.7377451 , 0.76102941, 0.70588235])"
      ]
     },
     "execution_count": 16,
     "metadata": {},
     "output_type": "execute_result"
    }
   ],
   "source": [
    "from xgboost import XGBClassifier\n",
    "from sklearn.model_selection import cross_val_score\n",
    "\n",
    "x = ol_df.loc[chosen_cov_df.index]\n",
    "y = chosen_cov_df.index.isin(high_cov_df.index)\n",
    "\n",
    "est = XGBClassifier(tree_method=\"hist\", random_state=42, n_estimators=500)\n",
    "scores = cross_val_score(est, x, y, scoring=\"accuracy\", cv=5, n_jobs=5)\n",
    "scores, scores.mean()"
   ]
  },
  {
   "cell_type": "code",
   "execution_count": null,
   "outputs": [],
   "source": [
    "from sklearn.neural_network import MLPClassifier\n",
    "\n",
    "model = MLPClassifier(hidden_layer_sizes=(64, 64), max_iter=100, random_state=42)\n",
    "scores = cross_val_score(est, x, y, scoring=\"accuracy\", cv=5, n_jobs=5)\n",
    "scores, scores.mean()"
   ],
   "metadata": {
    "collapsed": false
   }
  }
 ],
 "metadata": {
  "kernelspec": {
   "display_name": "olink",
   "language": "python",
   "name": "olink"
  },
  "language_info": {
   "codemirror_mode": {
    "name": "ipython",
    "version": 3
   },
   "file_extension": ".py",
   "mimetype": "text/x-python",
   "name": "python",
   "nbconvert_exporter": "python",
   "pygments_lexer": "ipython3",
   "version": "3.10.12"
  }
 },
 "nbformat": 4,
 "nbformat_minor": 4
}
