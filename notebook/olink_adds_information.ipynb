{
 "cells": [
  {
   "cell_type": "code",
   "execution_count": 51,
   "id": "initial_id",
   "metadata": {
    "ExecuteTime": {
     "end_time": "2023-08-14T18:55:46.315549957Z",
     "start_time": "2023-08-14T18:55:46.253876568Z"
    }
   },
   "outputs": [
    {
     "name": "stdout",
     "output_type": "stream",
     "text": [
      "The autoreload extension is already loaded. To reload it, use:\n",
      "  %reload_ext autoreload\n"
     ]
    }
   ],
   "source": [
    "%load_ext autoreload\n",
    "%autoreload 2"
   ]
  },
  {
   "cell_type": "markdown",
   "id": "5bb4d11c",
   "metadata": {
    "collapsed": false,
    "jupyter": {
     "outputs_hidden": false
    }
   },
   "source": [
    "## Data preparation"
   ]
  },
  {
   "cell_type": "code",
   "execution_count": 52,
   "id": "7060e82c314b573e",
   "metadata": {
    "collapsed": false,
    "jupyter": {
     "outputs_hidden": false
    },
    "ExecuteTime": {
     "end_time": "2023-08-14T18:56:05.709123570Z",
     "start_time": "2023-08-14T18:55:51.565564106Z"
    }
   },
   "outputs": [
    {
     "name": "stdout",
     "output_type": "stream",
     "text": [
      "dropping 2 columns\n",
      "dropping 576 rows\n"
     ]
    }
   ],
   "source": [
    "from importlib.resources import files\n",
    "\n",
    "import pandas as pd\n",
    "\n",
    "from biobank_olink.dataset import load_datasets\n",
    "\n",
    "DATA_DIR = files(\"biobank_olink.data\")\n",
    "\n",
    "ol_df, cov_df = load_datasets()"
   ]
  },
  {
   "cell_type": "code",
   "execution_count": 75,
   "id": "e28dc9f3141c8b",
   "metadata": {
    "ExecuteTime": {
     "end_time": "2023-08-13T22:42:36.916733565Z",
     "start_time": "2023-08-13T22:42:34.716274312Z"
    },
    "collapsed": false,
    "jupyter": {
     "outputs_hidden": false
    }
   },
   "outputs": [
    {
     "name": "stderr",
     "output_type": "stream",
     "text": [
      "ol_df shape: (39157, 1461)\n",
      "cov_df shape: (39157, 10)\n"
     ]
    }
   ],
   "source": [
    "eids = ol_df.index.intersection(cov_df.index)\n",
    "ol_df = ol_df.loc[eids]\n",
    "cov_df = cov_df.loc[eids]\n",
    "\n",
    "\n",
    "def median_impute(df):\n",
    "    return df.fillna(df.median())\n",
    "\n",
    "\n",
    "ol_df = median_impute(ol_df)\n",
    "cov_df = median_impute(cov_df)\n",
    "\n",
    "print(\"ol_df shape: {}\".format(ol_df.shape))\n",
    "print(\"cov_df shape: {}\".format(cov_df.shape))"
   ]
  },
  {
   "cell_type": "markdown",
   "id": "38a71282",
   "metadata": {
    "collapsed": false,
    "jupyter": {
     "outputs_hidden": false
    }
   },
   "source": [
    "## Evaluation"
   ]
  },
  {
   "cell_type": "code",
   "execution_count": 76,
   "id": "36fb0b40c0f1f124",
   "metadata": {
    "ExecuteTime": {
     "end_time": "2023-08-13T22:42:36.980927607Z",
     "start_time": "2023-08-13T22:42:36.912747386Z"
    },
    "collapsed": false,
    "jupyter": {
     "outputs_hidden": false
    }
   },
   "outputs": [
    {
     "data": {
      "text/plain": [
       "['Cardiometabolic',\n",
       " 'Cardiometabolic_II',\n",
       " 'Inflammation',\n",
       " 'Inflammation_II',\n",
       " 'Neurology',\n",
       " 'Neurology_II',\n",
       " 'Oncology',\n",
       " 'Oncology_II']"
      ]
     },
     "execution_count": 76,
     "metadata": {},
     "output_type": "execute_result"
    }
   ],
   "source": [
    "olink_assays = pd.read_csv(DATA_DIR / \"olink-explore-3072-assay-list-2023-06-08.csv\")\n",
    "assays_mapping = olink_assays.groupby(\"Explore 384 panel\")[\"Gene name\"].apply(list).to_dict()\n",
    "list(assays_mapping.keys())"
   ]
  },
  {
   "cell_type": "code",
   "execution_count": 77,
   "id": "06b72061",
   "metadata": {
    "ExecuteTime": {
     "end_time": "2023-08-13T22:46:59.020195177Z",
     "start_time": "2023-08-13T22:45:26.665209981Z"
    },
    "collapsed": false,
    "jupyter": {
     "outputs_hidden": false
    }
   },
   "outputs": [],
   "source": [
    "from sklearn.model_selection import cross_val_score\n",
    "from xgboost import XGBRegressor\n",
    "\n",
    "baseline_cols = [\"Sex\", \"age\", \"BMI\"]\n",
    "\n",
    "\n",
    "def experiment(x, y, fit_params=None):\n",
    "    model = XGBRegressor(tree_method=\"hist\", random_state=42, n_estimators=1000, learning_rate=0.05)\n",
    "    scores = cross_val_score(model, x, y, scoring=\"r2\", cv=5, fit_params=fit_params, n_jobs=5)\n",
    "    return scores\n",
    "\n",
    "\n",
    "scores = {}\n",
    "x_base = cov_df[baseline_cols]\n",
    "\n",
    "scores[\"baseline\"] = experiment(x_base, cov_df.SBP)\n",
    "\n",
    "scores[f\"all ({ol_df.shape[1]})\"] = experiment(x_base.join(ol_df), cov_df.SBP)\n",
    "\n",
    "for assay_name in assays_mapping.keys():\n",
    "    cols = [c for c in ol_df.columns if c in assays_mapping[assay_name]]\n",
    "    exp_score = experiment(x_base.join(ol_df.loc[:, cols]), cov_df.SBP)\n",
    "    scores[f\"{assay_name.lower()} ({len(cols)})\"] = exp_score"
   ]
  },
  {
   "cell_type": "code",
   "execution_count": 80,
   "id": "a5f077ee",
   "metadata": {
    "ExecuteTime": {
     "end_time": "2023-08-13T22:50:19.900071300Z",
     "start_time": "2023-08-13T22:50:19.847518737Z"
    },
    "collapsed": false,
    "jupyter": {
     "outputs_hidden": false
    }
   },
   "outputs": [
    {
     "data": {
      "text/html": [
       "<div>\n",
       "<style scoped>\n",
       "    .dataframe tbody tr th:only-of-type {\n",
       "        vertical-align: middle;\n",
       "    }\n",
       "\n",
       "    .dataframe tbody tr th {\n",
       "        vertical-align: top;\n",
       "    }\n",
       "\n",
       "    .dataframe thead th {\n",
       "        text-align: right;\n",
       "    }\n",
       "</style>\n",
       "<table border=\"1\" class=\"dataframe\">\n",
       "  <thead>\n",
       "    <tr style=\"text-align: right;\">\n",
       "      <th></th>\n",
       "      <th>r2</th>\n",
       "      <th>corr</th>\n",
       "    </tr>\n",
       "  </thead>\n",
       "  <tbody>\n",
       "    <tr>\n",
       "      <th>baseline</th>\n",
       "      <td>0.112490</td>\n",
       "      <td>0.335395</td>\n",
       "    </tr>\n",
       "    <tr>\n",
       "      <th>all (1461)</th>\n",
       "      <td>0.356470</td>\n",
       "      <td>0.597051</td>\n",
       "    </tr>\n",
       "    <tr>\n",
       "      <th>cardiometabolic (202)</th>\n",
       "      <td>0.219468</td>\n",
       "      <td>0.468474</td>\n",
       "    </tr>\n",
       "    <tr>\n",
       "      <th>cardiometabolic_ii (164)</th>\n",
       "      <td>0.218778</td>\n",
       "      <td>0.467737</td>\n",
       "    </tr>\n",
       "    <tr>\n",
       "      <th>inflammation (223)</th>\n",
       "      <td>0.238699</td>\n",
       "      <td>0.488568</td>\n",
       "    </tr>\n",
       "    <tr>\n",
       "      <th>inflammation_ii (186)</th>\n",
       "      <td>0.257549</td>\n",
       "      <td>0.507492</td>\n",
       "    </tr>\n",
       "    <tr>\n",
       "      <th>neurology (197)</th>\n",
       "      <td>0.220568</td>\n",
       "      <td>0.469647</td>\n",
       "    </tr>\n",
       "    <tr>\n",
       "      <th>neurology_ii (150)</th>\n",
       "      <td>0.188529</td>\n",
       "      <td>0.434199</td>\n",
       "    </tr>\n",
       "    <tr>\n",
       "      <th>oncology (194)</th>\n",
       "      <td>0.212533</td>\n",
       "      <td>0.461013</td>\n",
       "    </tr>\n",
       "    <tr>\n",
       "      <th>oncology_ii (154)</th>\n",
       "      <td>0.185867</td>\n",
       "      <td>0.431123</td>\n",
       "    </tr>\n",
       "  </tbody>\n",
       "</table>\n",
       "</div>"
      ],
      "text/plain": [
       "                                r2      corr\n",
       "baseline                  0.112490  0.335395\n",
       "all (1461)                0.356470  0.597051\n",
       "cardiometabolic (202)     0.219468  0.468474\n",
       "cardiometabolic_ii (164)  0.218778  0.467737\n",
       "inflammation (223)        0.238699  0.488568\n",
       "inflammation_ii (186)     0.257549  0.507492\n",
       "neurology (197)           0.220568  0.469647\n",
       "neurology_ii (150)        0.188529  0.434199\n",
       "oncology (194)            0.212533  0.461013\n",
       "oncology_ii (154)         0.185867  0.431123"
      ]
     },
     "execution_count": 80,
     "metadata": {},
     "output_type": "execute_result"
    }
   ],
   "source": [
    "scores_df = pd.DataFrame(scores).mean().to_frame(\"r2\")\n",
    "scores_df[\"corr\"] = np.sqrt(scores_df[\"r2\"])\n",
    "scores_df"
   ]
  }
 ],
 "metadata": {
  "kernelspec": {
   "display_name": "Python 3 (ipykernel)",
   "language": "python",
   "name": "python3"
  },
  "language_info": {
   "codemirror_mode": {
    "name": "ipython",
    "version": 3
   },
   "file_extension": ".py",
   "mimetype": "text/x-python",
   "name": "python",
   "nbconvert_exporter": "python",
   "pygments_lexer": "ipython3",
   "version": "3.10.12"
  }
 },
 "nbformat": 4,
 "nbformat_minor": 5
}
