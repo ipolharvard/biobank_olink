{
 "cells": [
  {
   "cell_type": "code",
   "execution_count": 10,
   "id": "initial_id",
   "metadata": {
    "collapsed": true,
    "ExecuteTime": {
     "end_time": "2023-11-07T23:36:03.862585920Z",
     "start_time": "2023-11-07T23:36:03.415382105Z"
    }
   },
   "outputs": [
    {
     "name": "stdout",
     "output_type": "stream",
     "text": [
      "The autoreload extension is already loaded. To reload it, use:\n",
      "  %reload_ext autoreload\n"
     ]
    }
   ],
   "source": [
    "%load_ext autoreload\n",
    "%autoreload 2\n",
    "\n",
    "import json\n",
    "from itertools import chain\n",
    "\n",
    "import pandas as pd\n",
    "\n",
    "from biobank_olink.constants import PROJECT_ROOT\n"
   ]
  },
  {
   "cell_type": "code",
   "execution_count": 12,
   "outputs": [
    {
     "data": {
      "text/plain": "                             mean_auc_score  mean_num_trials  \\\nyears lifestyle bp    olink                                    \n5     False     False False        0.672441            264.6   \n      True      False False        0.709863            307.0   \n                True  False        0.713865            307.0   \n                      True         0.753414             93.8   \n10    False     False False        0.669090            306.4   \n      True      False False        0.705777            306.4   \n                True  False        0.717391            290.6   \n                      True         0.751353            307.0   \n\n                             mean_best_trial_no  mean_n_estimators  count  \nyears lifestyle bp    olink                                                \n5     False     False False               166.2             3583.6      5  \n      True      False False               193.0             3526.0      5  \n                True  False               256.4             3140.6      5  \n                      True                 67.8             2771.6      5  \n10    False     False False               158.8             2694.4      5  \n      True      False False               158.0             3731.2      5  \n                True  False               223.4             2156.8      5  \n                      True                244.8             3727.6      5  ",
      "text/html": "<div>\n<style scoped>\n    .dataframe tbody tr th:only-of-type {\n        vertical-align: middle;\n    }\n\n    .dataframe tbody tr th {\n        vertical-align: top;\n    }\n\n    .dataframe thead th {\n        text-align: right;\n    }\n</style>\n<table border=\"1\" class=\"dataframe\">\n  <thead>\n    <tr style=\"text-align: right;\">\n      <th></th>\n      <th></th>\n      <th></th>\n      <th></th>\n      <th>mean_auc_score</th>\n      <th>mean_num_trials</th>\n      <th>mean_best_trial_no</th>\n      <th>mean_n_estimators</th>\n      <th>count</th>\n    </tr>\n    <tr>\n      <th>years</th>\n      <th>lifestyle</th>\n      <th>bp</th>\n      <th>olink</th>\n      <th></th>\n      <th></th>\n      <th></th>\n      <th></th>\n      <th></th>\n    </tr>\n  </thead>\n  <tbody>\n    <tr>\n      <th rowspan=\"4\" valign=\"top\">5</th>\n      <th>False</th>\n      <th>False</th>\n      <th>False</th>\n      <td>0.672441</td>\n      <td>264.6</td>\n      <td>166.2</td>\n      <td>3583.6</td>\n      <td>5</td>\n    </tr>\n    <tr>\n      <th rowspan=\"3\" valign=\"top\">True</th>\n      <th>False</th>\n      <th>False</th>\n      <td>0.709863</td>\n      <td>307.0</td>\n      <td>193.0</td>\n      <td>3526.0</td>\n      <td>5</td>\n    </tr>\n    <tr>\n      <th rowspan=\"2\" valign=\"top\">True</th>\n      <th>False</th>\n      <td>0.713865</td>\n      <td>307.0</td>\n      <td>256.4</td>\n      <td>3140.6</td>\n      <td>5</td>\n    </tr>\n    <tr>\n      <th>True</th>\n      <td>0.753414</td>\n      <td>93.8</td>\n      <td>67.8</td>\n      <td>2771.6</td>\n      <td>5</td>\n    </tr>\n    <tr>\n      <th rowspan=\"4\" valign=\"top\">10</th>\n      <th>False</th>\n      <th>False</th>\n      <th>False</th>\n      <td>0.669090</td>\n      <td>306.4</td>\n      <td>158.8</td>\n      <td>2694.4</td>\n      <td>5</td>\n    </tr>\n    <tr>\n      <th rowspan=\"3\" valign=\"top\">True</th>\n      <th>False</th>\n      <th>False</th>\n      <td>0.705777</td>\n      <td>306.4</td>\n      <td>158.0</td>\n      <td>3731.2</td>\n      <td>5</td>\n    </tr>\n    <tr>\n      <th rowspan=\"2\" valign=\"top\">True</th>\n      <th>False</th>\n      <td>0.717391</td>\n      <td>290.6</td>\n      <td>223.4</td>\n      <td>2156.8</td>\n      <td>5</td>\n    </tr>\n    <tr>\n      <th>True</th>\n      <td>0.751353</td>\n      <td>307.0</td>\n      <td>244.8</td>\n      <td>3727.6</td>\n      <td>5</td>\n    </tr>\n  </tbody>\n</table>\n</div>"
     },
     "execution_count": 12,
     "metadata": {},
     "output_type": "execute_result"
    }
   ],
   "source": [
    "results = [json.load(p.open()) for p in (PROJECT_ROOT / \"results\").iterdir()\n",
    "           if p.name.startswith(\"pred_diagnosis\")]\n",
    "results = pd.DataFrame(chain.from_iterable(results))\n",
    "\n",
    "panels = results.panel.unique()\n",
    "\n",
    "agg_values = {f\"mean_{v}\": (v, \"mean\") for v in\n",
    "              [\"auc_score\", \"num_trials\", \"best_trial_no\", \"n_estimators\"]}\n",
    "results.groupby([\"years\", \"lifestyle\", \"bp\", \"olink\"], dropna=False).agg(**agg_values,\n",
    "                                                                         count=(\"model\", 'size'))"
   ],
   "metadata": {
    "collapsed": false,
    "ExecuteTime": {
     "end_time": "2023-11-07T23:36:44.653458864Z",
     "start_time": "2023-11-07T23:36:44.376916394Z"
    }
   },
   "id": "569f079ccee9fb6a"
  }
 ],
 "metadata": {
  "kernelspec": {
   "display_name": "Python 3",
   "language": "python",
   "name": "python3"
  },
  "language_info": {
   "codemirror_mode": {
    "name": "ipython",
    "version": 2
   },
   "file_extension": ".py",
   "mimetype": "text/x-python",
   "name": "python",
   "nbconvert_exporter": "python",
   "pygments_lexer": "ipython2",
   "version": "2.7.6"
  }
 },
 "nbformat": 4,
 "nbformat_minor": 5
}
