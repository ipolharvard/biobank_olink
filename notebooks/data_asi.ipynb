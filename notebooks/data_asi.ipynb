{
 "cells": [
  {
   "cell_type": "code",
   "id": "initial_id",
   "metadata": {
    "collapsed": true,
    "ExecuteTime": {
     "end_time": "2024-08-29T00:27:06.662436Z",
     "start_time": "2024-08-29T00:27:06.630933Z"
    }
   },
   "source": [
    "%load_ext autoreload\n",
    "%autoreload 2\n",
    "\n",
    "import seaborn as sns\n",
    "import pandas as pd\n",
    "import polars as pl\n",
    "import shap\n",
    "\n",
    "from biobank_olink.constants import PROJECT_DATA\n",
    "\n",
    "nb_data = PROJECT_DATA / \"olink\"\n",
    "\n",
    "sns.set()"
   ],
   "outputs": [
    {
     "name": "stdout",
     "output_type": "stream",
     "text": [
      "The autoreload extension is already loaded. To reload it, use:\n",
      "  %reload_ext autoreload\n"
     ]
    }
   ],
   "execution_count": 46
  },
  {
   "metadata": {
    "ExecuteTime": {
     "end_time": "2024-08-29T00:27:15.365341Z",
     "start_time": "2024-08-29T00:27:07.692846Z"
    }
   },
   "cell_type": "code",
   "source": [
    "index_cols = [\"sex\", \"age\", \"BMI\", \"Smokinstatus\", \"HTNgroup\", \"ASI\"]\n",
    "cols = [\"protein_id\", \"result\"] + index_cols\n",
    "\n",
    "coding = pl.read_csv(nb_data / \"coding143.tsv\", separator=\"\\t\").with_columns(\n",
    "    pl.col(\"meaning\").str.split(\";\").list.get(0).alias(\"meaning\"),\n",
    ")\n",
    "df = (\n",
    "    pl.scan_parquet(nb_data / \"Olink whole dataset long format ASI_*.parquet\")\n",
    "    .select(cols)\n",
    "    .filter(pl.col(\"ASI\").is_not_null(), pl.col(\"HTNgroup\") != 2)\n",
    "    .with_columns(\n",
    "        pl.col(\"protein_id\").replace_strict(coding[\"coding\"], coding[\"meaning\"],\n",
    "                                            return_dtype=pl.String)\n",
    "    )\n",
    ").collect()\n",
    "\n",
    "df = df.pivot(on=\"protein_id\", index=index_cols, values=\"result\")"
   ],
   "id": "f12f464d8a5a038",
   "outputs": [],
   "execution_count": 47
  },
  {
   "metadata": {
    "ExecuteTime": {
     "end_time": "2024-08-27T20:15:07.989249Z",
     "start_time": "2024-08-27T20:15:07.707107Z"
    }
   },
   "cell_type": "code",
   "source": [
    "df_htn = df.filter(pl.col(\"HTNgroup\") == 1).select(pl.exclude(\"HTNgroup\")).to_pandas()\n",
    "df_ntn = df.filter(pl.col(\"HTNgroup\") == 0).select(pl.exclude(\"HTNgroup\")).to_pandas()\n",
    "\n",
    "\"htn: {}, ntn: {}\".format(df_htn.shape, df_ntn.shape)"
   ],
   "id": "226cf06123a7e52b",
   "outputs": [
    {
     "data": {
      "text/plain": [
       "'htn: (2174, 2928), ntn: (3053, 2928)'"
      ]
     },
     "execution_count": 23,
     "metadata": {},
     "output_type": "execute_result"
    }
   ],
   "execution_count": 23
  },
  {
   "metadata": {
    "ExecuteTime": {
     "end_time": "2024-08-29T00:50:34.290288Z",
     "start_time": "2024-08-29T00:50:34.258566Z"
    }
   },
   "cell_type": "code",
   "source": [
    "import numpy as np\n",
    "\n",
    "from xgboost import XGBRegressor\n",
    "\n",
    "\n",
    "def impute_and_standardize(_df):\n",
    "    _df = _df.fillna(_df.mean())\n",
    "    return (_df - _df.mean()) / _df.std()\n",
    "\n",
    "\n",
    "def shap_to_importance(values):\n",
    "    return pd.Series(np.abs(values.values).sum(axis=0), index=x.columns).sort_values(\n",
    "        ascending=False)\n",
    "\n",
    "\n",
    "def train_xgb(x, y, n_estimators=40):\n",
    "    estimator = XGBRegressor(n_estimators=n_estimators, tree_method=\"hist\", random_state=42)\n",
    "    estimator.fit(x, y)\n",
    "    print(\"R2:\", estimator.score(x, y))\n",
    "    return estimator\n"
   ],
   "id": "aaea2c40001e2727",
   "outputs": [],
   "execution_count": 69
  },
  {
   "metadata": {},
   "cell_type": "markdown",
   "source": "## XGBoost",
   "id": "7cc9a6a189c54ef4"
  },
  {
   "metadata": {
    "ExecuteTime": {
     "end_time": "2024-08-29T00:51:09.946689Z",
     "start_time": "2024-08-29T00:50:36.624272Z"
    }
   },
   "cell_type": "code",
   "source": [
    "x, y = df_ntn.drop(\"ASI\", axis=1), df_ntn[\"ASI\"]\n",
    "\n",
    "model = train_xgb(x, y)"
   ],
   "id": "1ad40f24527ee87",
   "outputs": [
    {
     "name": "stdout",
     "output_type": "stream",
     "text": [
      "R2: 0.9761645263699109\n"
     ]
    }
   ],
   "execution_count": 70
  },
  {
   "metadata": {
    "ExecuteTime": {
     "end_time": "2024-08-29T00:51:11.045517Z",
     "start_time": "2024-08-29T00:51:10.030688Z"
    }
   },
   "cell_type": "code",
   "source": [
    "explainer = shap.TreeExplainer(model)\n",
    "shap_values = explainer(x)\n",
    "# shap.summary_plot(shap_values, x, max_display=10)\n",
    "shap_to_importance(shap_values)"
   ],
   "id": "706d2e4d81f0c83c",
   "outputs": [
    {
     "data": {
      "text/plain": [
       "age        1323.922241\n",
       "SPINK6      899.275452\n",
       "PRCP        355.819122\n",
       "sex         327.657654\n",
       "CXCL17      325.735229\n",
       "              ...     \n",
       "IGFBP6        0.000000\n",
       "IGFBP3        0.000000\n",
       "IGFBP2        0.000000\n",
       "IGF2BP3       0.000000\n",
       "SOWAHA        0.000000\n",
       "Length: 2927, dtype: float32"
      ]
     },
     "execution_count": 71,
     "metadata": {},
     "output_type": "execute_result"
    }
   ],
   "execution_count": 71
  },
  {
   "metadata": {
    "ExecuteTime": {
     "end_time": "2024-08-29T00:51:40.989276Z",
     "start_time": "2024-08-29T00:51:11.215601Z"
    }
   },
   "cell_type": "code",
   "source": [
    "x, y = df_htn.drop(\"ASI\", axis=1), df_htn[\"ASI\"]\n",
    "\n",
    "model = train_xgb(x, y)"
   ],
   "id": "4a92ee617bf23f6d",
   "outputs": [
    {
     "name": "stdout",
     "output_type": "stream",
     "text": [
      "R2: 0.9899182658174113\n"
     ]
    }
   ],
   "execution_count": 72
  },
  {
   "metadata": {
    "ExecuteTime": {
     "end_time": "2024-08-29T00:51:51.590421Z",
     "start_time": "2024-08-29T00:51:50.666795Z"
    }
   },
   "cell_type": "code",
   "source": [
    "explainer = shap.TreeExplainer(model)\n",
    "shap_values = explainer(x)\n",
    "# shap.summary_plot(shap_values, x, max_display=10)\n",
    "shap_to_importance(shap_values)\n"
   ],
   "id": "a89b1640bca275d0",
   "outputs": [
    {
     "data": {
      "text/plain": [
       "SPINK6    750.584595\n",
       "GDF15     264.549805\n",
       "age       252.890915\n",
       "CDHR2     226.077393\n",
       "PGF       216.860565\n",
       "             ...    \n",
       "SPRED2      0.000000\n",
       "BEX3        0.000000\n",
       "MDM1        0.000000\n",
       "MECR        0.000000\n",
       "SRPX        0.000000\n",
       "Length: 2927, dtype: float32"
      ]
     },
     "execution_count": 74,
     "metadata": {},
     "output_type": "execute_result"
    }
   ],
   "execution_count": 74
  },
  {
   "metadata": {
    "ExecuteTime": {
     "end_time": "2024-08-29T00:52:06.667299Z",
     "start_time": "2024-08-29T00:52:06.227006Z"
    }
   },
   "cell_type": "code",
   "source": "pd.read_excel(nb_data / \"GLM Olink ASI ntn Zscore 0.1.xlsx\", skiprows=1)",
   "id": "7c1335df93e3b345",
   "outputs": [
    {
     "data": {
      "text/plain": [
       "        Zresult  protein_id  \\\n",
       "0       Zresult      2541.0   \n",
       "1       Zresult      1357.0   \n",
       "2       Zresult      2128.0   \n",
       "3       Zresult      1189.0   \n",
       "4       Zresult       534.0   \n",
       "...         ...         ...   \n",
       "2920    Zresult      1773.0   \n",
       "2921    Zresult      2570.0   \n",
       "2922  Parameter         NaN   \n",
       "2923    Zresult      1173.0   \n",
       "2924        NaN         NaN   \n",
       "\n",
       "                                                       protein_name         B  \\\n",
       "0                     SPINK6;Serine protease inhibitor Kazal-type 6  0.360215   \n",
       "1                                    IGSF9;Protein turtle homolog A  0.381995   \n",
       "2                               PRAP1;Proline-rich acidic protein 1  0.330221   \n",
       "3                        GNPDA1;Glucosamine-6-phosphate isomerase 1  0.279562   \n",
       "4                                     CES1;Liver carboxylesterase 1  0.307877   \n",
       "...                                                             ...       ...   \n",
       "2920        MTIF3;Translation initiation factor IF-3, mitochondrial -0.000035   \n",
       "2921  ST8SIA1;Alpha-N-acetylneuraminide alpha-2,8-sialyltransferase -0.000009   \n",
       "2922                                                            NaN         B   \n",
       "2923                   GLIPR1;Glioma pathogenesis-related protein 1 -4.450034   \n",
       "2924                                                            NaN       NaN   \n",
       "\n",
       "           Std.E         t      Sig.  Rank  Sig.-adj FDR  \\\n",
       "0       0.040518  8.890359       0.0     1  2.442627e-15   \n",
       "1       0.052664  7.253424       0.0     2  6.984484e-10   \n",
       "2       0.049485  6.673095       0.0     3  2.743049e-08   \n",
       "3       0.041979  6.659536       0.0     4  2.268915e-08   \n",
       "4       0.047922  6.424501       0.0     5  8.463242e-08   \n",
       "...          ...       ...       ...   ...           ...   \n",
       "2920    0.043857 -0.000803  0.999359  2921  1.000044e+00   \n",
       "2921    0.041118 -0.000209  0.999833  2922  1.000175e+00   \n",
       "2922  Std. Error         t      Sig.  2923           NaN   \n",
       "2923         NaN       NaN       NaN  2924  0.000000e+00   \n",
       "2924         NaN       NaN       NaN  2925  0.000000e+00   \n",
       "\n",
       "                  Lower bound  Upper bound              Squared  \\\n",
       "0                    0.280783     0.439647             0.015528   \n",
       "1                    0.278747     0.485243             0.011832   \n",
       "2                    0.233205     0.427237             0.010021   \n",
       "3                     0.19726     0.361864             0.010538   \n",
       "4                    0.213928     0.401826             0.008304   \n",
       "...                       ...          ...                  ...   \n",
       "2920                -0.086017     0.085947                  0.0   \n",
       "2921                -0.080622     0.080605                  0.0   \n",
       "2922  95% Confidence Interval          NaN  Partial Eta Squared   \n",
       "2923                      NaN          NaN                  NaN   \n",
       "2924              Lower Bound  Upper Bound                  NaN   \n",
       "\n",
       "               Parameter            Power  number_subjects  \n",
       "0               8.890359              1.0           5023.0  \n",
       "1               7.253424              1.0           4406.0  \n",
       "2               6.673095         0.999999           4411.0  \n",
       "3               6.659536         0.999999           4176.0  \n",
       "4               6.424501         0.999996           4941.0  \n",
       "...                  ...              ...              ...  \n",
       "2920            0.000803             0.05           4342.0  \n",
       "2921            0.000209             0.05           4025.0  \n",
       "2922  Noncent. Parameter  Observed Powerb              NaN  \n",
       "2923                 NaN              NaN             11.0  \n",
       "2924                 NaN              NaN              NaN  \n",
       "\n",
       "[2925 rows x 15 columns]"
      ],
      "text/html": [
       "<div>\n",
       "<style scoped>\n",
       "    .dataframe tbody tr th:only-of-type {\n",
       "        vertical-align: middle;\n",
       "    }\n",
       "\n",
       "    .dataframe tbody tr th {\n",
       "        vertical-align: top;\n",
       "    }\n",
       "\n",
       "    .dataframe thead th {\n",
       "        text-align: right;\n",
       "    }\n",
       "</style>\n",
       "<table border=\"1\" class=\"dataframe\">\n",
       "  <thead>\n",
       "    <tr style=\"text-align: right;\">\n",
       "      <th></th>\n",
       "      <th>Zresult</th>\n",
       "      <th>protein_id</th>\n",
       "      <th>protein_name</th>\n",
       "      <th>B</th>\n",
       "      <th>Std.E</th>\n",
       "      <th>t</th>\n",
       "      <th>Sig.</th>\n",
       "      <th>Rank</th>\n",
       "      <th>Sig.-adj FDR</th>\n",
       "      <th>Lower bound</th>\n",
       "      <th>Upper bound</th>\n",
       "      <th>Squared</th>\n",
       "      <th>Parameter</th>\n",
       "      <th>Power</th>\n",
       "      <th>number_subjects</th>\n",
       "    </tr>\n",
       "  </thead>\n",
       "  <tbody>\n",
       "    <tr>\n",
       "      <th>0</th>\n",
       "      <td>Zresult</td>\n",
       "      <td>2541.0</td>\n",
       "      <td>SPINK6;Serine protease inhibitor Kazal-type 6</td>\n",
       "      <td>0.360215</td>\n",
       "      <td>0.040518</td>\n",
       "      <td>8.890359</td>\n",
       "      <td>0.0</td>\n",
       "      <td>1</td>\n",
       "      <td>2.442627e-15</td>\n",
       "      <td>0.280783</td>\n",
       "      <td>0.439647</td>\n",
       "      <td>0.015528</td>\n",
       "      <td>8.890359</td>\n",
       "      <td>1.0</td>\n",
       "      <td>5023.0</td>\n",
       "    </tr>\n",
       "    <tr>\n",
       "      <th>1</th>\n",
       "      <td>Zresult</td>\n",
       "      <td>1357.0</td>\n",
       "      <td>IGSF9;Protein turtle homolog A</td>\n",
       "      <td>0.381995</td>\n",
       "      <td>0.052664</td>\n",
       "      <td>7.253424</td>\n",
       "      <td>0.0</td>\n",
       "      <td>2</td>\n",
       "      <td>6.984484e-10</td>\n",
       "      <td>0.278747</td>\n",
       "      <td>0.485243</td>\n",
       "      <td>0.011832</td>\n",
       "      <td>7.253424</td>\n",
       "      <td>1.0</td>\n",
       "      <td>4406.0</td>\n",
       "    </tr>\n",
       "    <tr>\n",
       "      <th>2</th>\n",
       "      <td>Zresult</td>\n",
       "      <td>2128.0</td>\n",
       "      <td>PRAP1;Proline-rich acidic protein 1</td>\n",
       "      <td>0.330221</td>\n",
       "      <td>0.049485</td>\n",
       "      <td>6.673095</td>\n",
       "      <td>0.0</td>\n",
       "      <td>3</td>\n",
       "      <td>2.743049e-08</td>\n",
       "      <td>0.233205</td>\n",
       "      <td>0.427237</td>\n",
       "      <td>0.010021</td>\n",
       "      <td>6.673095</td>\n",
       "      <td>0.999999</td>\n",
       "      <td>4411.0</td>\n",
       "    </tr>\n",
       "    <tr>\n",
       "      <th>3</th>\n",
       "      <td>Zresult</td>\n",
       "      <td>1189.0</td>\n",
       "      <td>GNPDA1;Glucosamine-6-phosphate isomerase 1</td>\n",
       "      <td>0.279562</td>\n",
       "      <td>0.041979</td>\n",
       "      <td>6.659536</td>\n",
       "      <td>0.0</td>\n",
       "      <td>4</td>\n",
       "      <td>2.268915e-08</td>\n",
       "      <td>0.19726</td>\n",
       "      <td>0.361864</td>\n",
       "      <td>0.010538</td>\n",
       "      <td>6.659536</td>\n",
       "      <td>0.999999</td>\n",
       "      <td>4176.0</td>\n",
       "    </tr>\n",
       "    <tr>\n",
       "      <th>4</th>\n",
       "      <td>Zresult</td>\n",
       "      <td>534.0</td>\n",
       "      <td>CES1;Liver carboxylesterase 1</td>\n",
       "      <td>0.307877</td>\n",
       "      <td>0.047922</td>\n",
       "      <td>6.424501</td>\n",
       "      <td>0.0</td>\n",
       "      <td>5</td>\n",
       "      <td>8.463242e-08</td>\n",
       "      <td>0.213928</td>\n",
       "      <td>0.401826</td>\n",
       "      <td>0.008304</td>\n",
       "      <td>6.424501</td>\n",
       "      <td>0.999996</td>\n",
       "      <td>4941.0</td>\n",
       "    </tr>\n",
       "    <tr>\n",
       "      <th>...</th>\n",
       "      <td>...</td>\n",
       "      <td>...</td>\n",
       "      <td>...</td>\n",
       "      <td>...</td>\n",
       "      <td>...</td>\n",
       "      <td>...</td>\n",
       "      <td>...</td>\n",
       "      <td>...</td>\n",
       "      <td>...</td>\n",
       "      <td>...</td>\n",
       "      <td>...</td>\n",
       "      <td>...</td>\n",
       "      <td>...</td>\n",
       "      <td>...</td>\n",
       "      <td>...</td>\n",
       "    </tr>\n",
       "    <tr>\n",
       "      <th>2920</th>\n",
       "      <td>Zresult</td>\n",
       "      <td>1773.0</td>\n",
       "      <td>MTIF3;Translation initiation factor IF-3, mitochondrial</td>\n",
       "      <td>-0.000035</td>\n",
       "      <td>0.043857</td>\n",
       "      <td>-0.000803</td>\n",
       "      <td>0.999359</td>\n",
       "      <td>2921</td>\n",
       "      <td>1.000044e+00</td>\n",
       "      <td>-0.086017</td>\n",
       "      <td>0.085947</td>\n",
       "      <td>0.0</td>\n",
       "      <td>0.000803</td>\n",
       "      <td>0.05</td>\n",
       "      <td>4342.0</td>\n",
       "    </tr>\n",
       "    <tr>\n",
       "      <th>2921</th>\n",
       "      <td>Zresult</td>\n",
       "      <td>2570.0</td>\n",
       "      <td>ST8SIA1;Alpha-N-acetylneuraminide alpha-2,8-sialyltransferase</td>\n",
       "      <td>-0.000009</td>\n",
       "      <td>0.041118</td>\n",
       "      <td>-0.000209</td>\n",
       "      <td>0.999833</td>\n",
       "      <td>2922</td>\n",
       "      <td>1.000175e+00</td>\n",
       "      <td>-0.080622</td>\n",
       "      <td>0.080605</td>\n",
       "      <td>0.0</td>\n",
       "      <td>0.000209</td>\n",
       "      <td>0.05</td>\n",
       "      <td>4025.0</td>\n",
       "    </tr>\n",
       "    <tr>\n",
       "      <th>2922</th>\n",
       "      <td>Parameter</td>\n",
       "      <td>NaN</td>\n",
       "      <td>NaN</td>\n",
       "      <td>B</td>\n",
       "      <td>Std. Error</td>\n",
       "      <td>t</td>\n",
       "      <td>Sig.</td>\n",
       "      <td>2923</td>\n",
       "      <td>NaN</td>\n",
       "      <td>95% Confidence Interval</td>\n",
       "      <td>NaN</td>\n",
       "      <td>Partial Eta Squared</td>\n",
       "      <td>Noncent. Parameter</td>\n",
       "      <td>Observed Powerb</td>\n",
       "      <td>NaN</td>\n",
       "    </tr>\n",
       "    <tr>\n",
       "      <th>2923</th>\n",
       "      <td>Zresult</td>\n",
       "      <td>1173.0</td>\n",
       "      <td>GLIPR1;Glioma pathogenesis-related protein 1</td>\n",
       "      <td>-4.450034</td>\n",
       "      <td>NaN</td>\n",
       "      <td>NaN</td>\n",
       "      <td>NaN</td>\n",
       "      <td>2924</td>\n",
       "      <td>0.000000e+00</td>\n",
       "      <td>NaN</td>\n",
       "      <td>NaN</td>\n",
       "      <td>NaN</td>\n",
       "      <td>NaN</td>\n",
       "      <td>NaN</td>\n",
       "      <td>11.0</td>\n",
       "    </tr>\n",
       "    <tr>\n",
       "      <th>2924</th>\n",
       "      <td>NaN</td>\n",
       "      <td>NaN</td>\n",
       "      <td>NaN</td>\n",
       "      <td>NaN</td>\n",
       "      <td>NaN</td>\n",
       "      <td>NaN</td>\n",
       "      <td>NaN</td>\n",
       "      <td>2925</td>\n",
       "      <td>0.000000e+00</td>\n",
       "      <td>Lower Bound</td>\n",
       "      <td>Upper Bound</td>\n",
       "      <td>NaN</td>\n",
       "      <td>NaN</td>\n",
       "      <td>NaN</td>\n",
       "      <td>NaN</td>\n",
       "    </tr>\n",
       "  </tbody>\n",
       "</table>\n",
       "<p>2925 rows × 15 columns</p>\n",
       "</div>"
      ]
     },
     "execution_count": 75,
     "metadata": {},
     "output_type": "execute_result"
    }
   ],
   "execution_count": 75
  }
 ],
 "metadata": {
  "kernelspec": {
   "display_name": "Python 3",
   "language": "python",
   "name": "python3"
  },
  "language_info": {
   "codemirror_mode": {
    "name": "ipython",
    "version": 2
   },
   "file_extension": ".py",
   "mimetype": "text/x-python",
   "name": "python",
   "nbconvert_exporter": "python",
   "pygments_lexer": "ipython2",
   "version": "2.7.6"
  }
 },
 "nbformat": 4,
 "nbformat_minor": 5
}
