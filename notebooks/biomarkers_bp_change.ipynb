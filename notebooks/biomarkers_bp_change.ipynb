{
 "cells": [
  {
   "cell_type": "code",
   "id": "initial_id",
   "metadata": {
    "ExecuteTime": {
     "end_time": "2024-10-04T00:37:25.907426Z",
     "start_time": "2024-10-04T00:37:23.886967Z"
    }
   },
   "source": [
    "%load_ext autoreload\n",
    "%autoreload 2\n",
    "\n",
    "import warnings\n",
    "from functools import partial\n",
    "from typing import Mapping\n",
    "\n",
    "import matplotlib.pyplot as plt\n",
    "import numpy as np\n",
    "import pandas as pd\n",
    "import polars as pl\n",
    "import seaborn as sns\n",
    "import shap\n",
    "import wandb\n",
    "import xgboost as xgb\n",
    "from sklearn.model_selection import train_test_split\n",
    "\n",
    "from biobank_olink.constants import PROJECT_DATA\n",
    "\n",
    "warnings.filterwarnings('ignore', category=UserWarning)\n",
    "nb_data = PROJECT_DATA / \"olink\"\n",
    "olink_xlsx = nb_data / \"Olink_whole_caucasian_nonrandom_Zscore.parquet\"\n",
    "\n",
    "sns.set_theme()\n",
    "pl.__version__"
   ],
   "outputs": [
    {
     "data": {
      "text/plain": [
       "'1.7.1'"
      ]
     },
     "execution_count": 1,
     "metadata": {},
     "output_type": "execute_result"
    }
   ],
   "execution_count": 1
  },
  {
   "metadata": {
    "ExecuteTime": {
     "end_time": "2024-10-04T00:37:31.611995Z",
     "start_time": "2024-10-04T00:37:26.198505Z"
    }
   },
   "cell_type": "code",
   "source": [
    "import polars.selectors as cs\n",
    "\n",
    "feat2code = {\n",
    "    \"SBP\": \"4080\",\n",
    "    \"DBP\": \"4079\",\n",
    "    \"ASI\": \"21021\",\n",
    "    \"DATE\": \"53\",\n",
    "}\n",
    "instances = [0, 1, 2, 3]\n",
    "\n",
    "(\n",
    "    pl.scan_csv(nb_data / \"BP_ASI_instances0123_participant.csv\")\n",
    "    .select(\n",
    "        \"eid\",\n",
    "        *[\n",
    "            pl.concat_list(cs.contains(f\"{feat2code[feat]}-{ins}.\")).list.mean().alias(f\"{feat}/{ins}\")\n",
    "            for feat in [\"SBP\", \"DBP\"]\n",
    "            for ins in instances\n",
    "        ],\n",
    "        *[\n",
    "            pl.col(f\"{feat2code[feat]}-{ins}.0\").cast(t).alias(f\"{feat}/{ins}\")\n",
    "            for feat, t in [(\"ASI\", pl.Float64), (\"DATE\", pl.Date)]\n",
    "            for ins in instances\n",
    "        ],\n",
    "    )\n",
    "    .with_columns(\n",
    "        (pl.col(\"^DATE/[123]$\") - pl.col(\"DATE/0\")).dt.total_days()\n",
    "    )\n",
    "    .drop(\"DATE/0\")\n",
    "    .unpivot(index=\"eid\")\n",
    "    .filter(pl.col(\"value\").is_not_null())\n",
    "    .with_columns(\n",
    "        pl.col(\"variable\").str.split_exact(\"/\", 1)\n",
    "    )\n",
    "    .with_columns(\n",
    "        variable=pl.col(\"variable\").struct[0],\n",
    "        ins_index=pl.col(\"variable\").struct[1].cast(pl.Int64)\n",
    "    )\n",
    "    .collect()\n",
    "    .pivot(index=[\"eid\", \"ins_index\"], on=\"variable\")\n",
    ")\n"
   ],
   "id": "affd95980a6a1272",
   "outputs": [
    {
     "data": {
      "text/plain": [
       "shape: (576_974, 6)\n",
       "┌─────────┬───────────┬───────┬──────┬─────────┬────────┐\n",
       "│ eid     ┆ ins_index ┆ SBP   ┆ DBP  ┆ ASI     ┆ DATE   │\n",
       "│ ---     ┆ ---       ┆ ---   ┆ ---  ┆ ---     ┆ ---    │\n",
       "│ i64     ┆ i64       ┆ f64   ┆ f64  ┆ f64     ┆ f64    │\n",
       "╞═════════╪═══════════╪═══════╪══════╪═════════╪════════╡\n",
       "│ 3638897 ┆ 0         ┆ 165.5 ┆ 83.0 ┆ null    ┆ null   │\n",
       "│ 4415148 ┆ 0         ┆ 155.5 ┆ 96.5 ┆ null    ┆ null   │\n",
       "│ 5164480 ┆ 0         ┆ 152.0 ┆ 97.5 ┆ 10.5921 ┆ null   │\n",
       "│ 3753362 ┆ 0         ┆ 126.0 ┆ 79.5 ┆ null    ┆ null   │\n",
       "│ 1689649 ┆ 0         ┆ 100.0 ┆ 65.0 ┆ null    ┆ null   │\n",
       "│ …       ┆ …         ┆ …     ┆ …    ┆ …       ┆ …      │\n",
       "│ 1627458 ┆ 3         ┆ null  ┆ null ┆ null    ┆ 5521.0 │\n",
       "│ 1040988 ┆ 3         ┆ null  ┆ null ┆ null    ┆ 4466.0 │\n",
       "│ 5950006 ┆ 3         ┆ null  ┆ null ┆ null    ┆ 5439.0 │\n",
       "│ 5433150 ┆ 3         ┆ null  ┆ null ┆ null    ┆ 5315.0 │\n",
       "│ 2716490 ┆ 3         ┆ null  ┆ null ┆ null    ┆ 4976.0 │\n",
       "└─────────┴───────────┴───────┴──────┴─────────┴────────┘"
      ],
      "text/html": [
       "<div><style>\n",
       ".dataframe > thead > tr,\n",
       ".dataframe > tbody > tr {\n",
       "  text-align: right;\n",
       "  white-space: pre-wrap;\n",
       "}\n",
       "</style>\n",
       "<small>shape: (576_974, 6)</small><table border=\"1\" class=\"dataframe\"><thead><tr><th>eid</th><th>ins_index</th><th>SBP</th><th>DBP</th><th>ASI</th><th>DATE</th></tr><tr><td>i64</td><td>i64</td><td>f64</td><td>f64</td><td>f64</td><td>f64</td></tr></thead><tbody><tr><td>3638897</td><td>0</td><td>165.5</td><td>83.0</td><td>null</td><td>null</td></tr><tr><td>4415148</td><td>0</td><td>155.5</td><td>96.5</td><td>null</td><td>null</td></tr><tr><td>5164480</td><td>0</td><td>152.0</td><td>97.5</td><td>10.5921</td><td>null</td></tr><tr><td>3753362</td><td>0</td><td>126.0</td><td>79.5</td><td>null</td><td>null</td></tr><tr><td>1689649</td><td>0</td><td>100.0</td><td>65.0</td><td>null</td><td>null</td></tr><tr><td>&hellip;</td><td>&hellip;</td><td>&hellip;</td><td>&hellip;</td><td>&hellip;</td><td>&hellip;</td></tr><tr><td>1627458</td><td>3</td><td>null</td><td>null</td><td>null</td><td>5521.0</td></tr><tr><td>1040988</td><td>3</td><td>null</td><td>null</td><td>null</td><td>4466.0</td></tr><tr><td>5950006</td><td>3</td><td>null</td><td>null</td><td>null</td><td>5439.0</td></tr><tr><td>5433150</td><td>3</td><td>null</td><td>null</td><td>null</td><td>5315.0</td></tr><tr><td>2716490</td><td>3</td><td>null</td><td>null</td><td>null</td><td>4976.0</td></tr></tbody></table></div>"
      ]
     },
     "execution_count": 2,
     "metadata": {},
     "output_type": "execute_result"
    }
   ],
   "execution_count": 2
  },
  {
   "metadata": {
    "ExecuteTime": {
     "end_time": "2024-10-03T21:40:43.899483Z",
     "start_time": "2024-10-03T21:40:42.771879Z"
    }
   },
   "cell_type": "code",
   "source": [
    "df_followups = (\n",
    " \n",
    " \n",
    "    pl.read_excel(nb_data / \"Olink BP and ASI follow-up Pawel.xlsx\")\n",
    "    # .unpivot(index=\"eid\")\n",
    "    # .filter(pl.col(\"value\").is_not_null())\n",
    "    # .with_columns(\n",
    "    #     pl.col(\"variable\").str.strip_chars(\"123_\"),\n",
    "    #     ins_index=pl.col(\"variable\").str.slice(-1).cast(pl.Int64)\n",
    "    # )\n",
    "    # .pivot(index=[\"eid\", \"ins_index\"], on=\"variable\", values=\"value\")\n",
    "    # .rename({\"time_to_ins\": \"followup_time\"})\n",
    ")\n",
    "df_followups"
   ],
   "id": "9f818fff9591b2b7",
   "outputs": [
    {
     "data": {
      "text/plain": [
       "shape: (38_840, 13)\n",
       "┌─────────┬──────────────┬───────┬───────┬───┬───────┬─────────┬───────┬───────┐\n",
       "│ eid     ┆ time_to_ins1 ┆ DBP_1 ┆ SBP_1 ┆ … ┆ SBP_3 ┆ ASI_2   ┆ ASI_3 ┆ ASI_1 │\n",
       "│ ---     ┆ ---          ┆ ---   ┆ ---   ┆   ┆ ---   ┆ ---     ┆ ---   ┆ ---   │\n",
       "│ i64     ┆ i64          ┆ f64   ┆ f64   ┆   ┆ f64   ┆ f64     ┆ f64   ┆ f64   │\n",
       "╞═════════╪══════════════╪═══════╪═══════╪═══╪═══════╪═════════╪═══════╪═══════╡\n",
       "│ 1000011 ┆ null         ┆ null  ┆ null  ┆ … ┆ null  ┆ null    ┆ null  ┆ null  │\n",
       "│ 1000121 ┆ null         ┆ null  ┆ null  ┆ … ┆ null  ┆ null    ┆ null  ┆ null  │\n",
       "│ 1000366 ┆ null         ┆ null  ┆ null  ┆ … ┆ null  ┆ null    ┆ null  ┆ null  │\n",
       "│ 1000807 ┆ null         ┆ null  ┆ null  ┆ … ┆ null  ┆ null    ┆ null  ┆ null  │\n",
       "│ 1001025 ┆ null         ┆ null  ┆ null  ┆ … ┆ null  ┆ null    ┆ null  ┆ null  │\n",
       "│ …       ┆ …            ┆ …     ┆ …     ┆ … ┆ …     ┆ …       ┆ …     ┆ …     │\n",
       "│ 6023060 ┆ null         ┆ null  ┆ null  ┆ … ┆ null  ┆ null    ┆ null  ┆ null  │\n",
       "│ 6023200 ┆ null         ┆ null  ┆ null  ┆ … ┆ null  ┆ null    ┆ null  ┆ null  │\n",
       "│ 6023252 ┆ null         ┆ null  ┆ null  ┆ … ┆ null  ┆ null    ┆ null  ┆ null  │\n",
       "│ 6023293 ┆ null         ┆ null  ┆ null  ┆ … ┆ null  ┆ 15.8182 ┆ null  ┆ null  │\n",
       "│ 6023592 ┆ null         ┆ null  ┆ null  ┆ … ┆ null  ┆ null    ┆ null  ┆ null  │\n",
       "└─────────┴──────────────┴───────┴───────┴───┴───────┴─────────┴───────┴───────┘"
      ],
      "text/html": [
       "<div><style>\n",
       ".dataframe > thead > tr,\n",
       ".dataframe > tbody > tr {\n",
       "  text-align: right;\n",
       "  white-space: pre-wrap;\n",
       "}\n",
       "</style>\n",
       "<small>shape: (38_840, 13)</small><table border=\"1\" class=\"dataframe\"><thead><tr><th>eid</th><th>time_to_ins1</th><th>DBP_1</th><th>SBP_1</th><th>time_to_ins2</th><th>DBP_2</th><th>SBP_2</th><th>time_to_ins3</th><th>DBP_3</th><th>SBP_3</th><th>ASI_2</th><th>ASI_3</th><th>ASI_1</th></tr><tr><td>i64</td><td>i64</td><td>f64</td><td>f64</td><td>i64</td><td>f64</td><td>f64</td><td>i64</td><td>f64</td><td>f64</td><td>f64</td><td>f64</td><td>f64</td></tr></thead><tbody><tr><td>1000011</td><td>null</td><td>null</td><td>null</td><td>null</td><td>null</td><td>null</td><td>null</td><td>null</td><td>null</td><td>null</td><td>null</td><td>null</td></tr><tr><td>1000121</td><td>null</td><td>null</td><td>null</td><td>null</td><td>null</td><td>null</td><td>null</td><td>null</td><td>null</td><td>null</td><td>null</td><td>null</td></tr><tr><td>1000366</td><td>null</td><td>null</td><td>null</td><td>null</td><td>null</td><td>null</td><td>null</td><td>null</td><td>null</td><td>null</td><td>null</td><td>null</td></tr><tr><td>1000807</td><td>null</td><td>null</td><td>null</td><td>null</td><td>null</td><td>null</td><td>null</td><td>null</td><td>null</td><td>null</td><td>null</td><td>null</td></tr><tr><td>1001025</td><td>null</td><td>null</td><td>null</td><td>null</td><td>null</td><td>null</td><td>null</td><td>null</td><td>null</td><td>null</td><td>null</td><td>null</td></tr><tr><td>&hellip;</td><td>&hellip;</td><td>&hellip;</td><td>&hellip;</td><td>&hellip;</td><td>&hellip;</td><td>&hellip;</td><td>&hellip;</td><td>&hellip;</td><td>&hellip;</td><td>&hellip;</td><td>&hellip;</td><td>&hellip;</td></tr><tr><td>6023060</td><td>null</td><td>null</td><td>null</td><td>4878</td><td>null</td><td>null</td><td>null</td><td>null</td><td>null</td><td>null</td><td>null</td><td>null</td></tr><tr><td>6023200</td><td>null</td><td>null</td><td>null</td><td>null</td><td>null</td><td>null</td><td>null</td><td>null</td><td>null</td><td>null</td><td>null</td><td>null</td></tr><tr><td>6023252</td><td>null</td><td>null</td><td>null</td><td>null</td><td>null</td><td>null</td><td>null</td><td>null</td><td>null</td><td>null</td><td>null</td><td>null</td></tr><tr><td>6023293</td><td>null</td><td>null</td><td>null</td><td>5361</td><td>86.0</td><td>136.0</td><td>null</td><td>null</td><td>null</td><td>15.8182</td><td>null</td><td>null</td></tr><tr><td>6023592</td><td>null</td><td>null</td><td>null</td><td>null</td><td>null</td><td>null</td><td>null</td><td>null</td><td>null</td><td>null</td><td>null</td><td>null</td></tr></tbody></table></div>"
      ]
     },
     "execution_count": 66,
     "metadata": {},
     "output_type": "execute_result"
    }
   ],
   "execution_count": 66
  },
  {
   "metadata": {
    "ExecuteTime": {
     "end_time": "2024-10-03T18:57:52.570325Z",
     "start_time": "2024-10-03T18:57:52.468921Z"
    }
   },
   "cell_type": "code",
   "source": "df_followups.filter(pl.col(\"ASI\").is_not_null()).group_by(\"eid\").agg(pl.col(\"ins_index\").len())[\"ins_index\"].value_counts(sort=True)",
   "id": "172ba12da74ae701",
   "outputs": [
    {
     "data": {
      "text/plain": [
       "shape: (3, 2)\n",
       "┌───────────┬───────┐\n",
       "│ ins_index ┆ count │\n",
       "│ ---       ┆ ---   │\n",
       "│ u32       ┆ u32   │\n",
       "╞═══════════╪═══════╡\n",
       "│ 1         ┆ 4963  │\n",
       "│ 2         ┆ 1534  │\n",
       "│ 3         ┆ 194   │\n",
       "└───────────┴───────┘"
      ],
      "text/html": [
       "<div><style>\n",
       ".dataframe > thead > tr,\n",
       ".dataframe > tbody > tr {\n",
       "  text-align: right;\n",
       "  white-space: pre-wrap;\n",
       "}\n",
       "</style>\n",
       "<small>shape: (3, 2)</small><table border=\"1\" class=\"dataframe\"><thead><tr><th>ins_index</th><th>count</th></tr><tr><td>u32</td><td>u32</td></tr></thead><tbody><tr><td>1</td><td>4963</td></tr><tr><td>2</td><td>1534</td></tr><tr><td>3</td><td>194</td></tr></tbody></table></div>"
      ]
     },
     "execution_count": 41,
     "metadata": {},
     "output_type": "execute_result"
    }
   ],
   "execution_count": 41
  },
  {
   "metadata": {
    "ExecuteTime": {
     "end_time": "2024-10-03T21:38:08.258306Z",
     "start_time": "2024-10-03T21:38:08.125200Z"
    }
   },
   "cell_type": "code",
   "source": [
    "df_followups.filter(\n",
    "    pl.col(\"SBP\").is_not_null(), pl.col(\"DBP\").is_not_null()\n",
    ").group_by(\"eid\").agg(\"ins_index\")[\"ins_index\"].value_counts(sort=True)\n"
   ],
   "id": "e08888a68cbab9db",
   "outputs": [
    {
     "data": {
      "text/plain": [
       "shape: (7, 2)\n",
       "┌───────────┬───────┐\n",
       "│ ins_index ┆ count │\n",
       "│ ---       ┆ ---   │\n",
       "│ list[i64] ┆ u32   │\n",
       "╞═══════════╪═══════╡\n",
       "│ [2]       ┆ 3693  │\n",
       "│ [1]       ┆ 928   │\n",
       "│ [2, 3]    ┆ 838   │\n",
       "│ [1, 2]    ┆ 671   │\n",
       "│ [3]       ┆ 260   │\n",
       "│ [1, 2, 3] ┆ 233   │\n",
       "│ [1, 3]    ┆ 20    │\n",
       "└───────────┴───────┘"
      ],
      "text/html": [
       "<div><style>\n",
       ".dataframe > thead > tr,\n",
       ".dataframe > tbody > tr {\n",
       "  text-align: right;\n",
       "  white-space: pre-wrap;\n",
       "}\n",
       "</style>\n",
       "<small>shape: (7, 2)</small><table border=\"1\" class=\"dataframe\"><thead><tr><th>ins_index</th><th>count</th></tr><tr><td>list[i64]</td><td>u32</td></tr></thead><tbody><tr><td>[2]</td><td>3693</td></tr><tr><td>[1]</td><td>928</td></tr><tr><td>[2, 3]</td><td>838</td></tr><tr><td>[1, 2]</td><td>671</td></tr><tr><td>[3]</td><td>260</td></tr><tr><td>[1, 2, 3]</td><td>233</td></tr><tr><td>[1, 3]</td><td>20</td></tr></tbody></table></div>"
      ]
     },
     "execution_count": 65,
     "metadata": {},
     "output_type": "execute_result"
    }
   ],
   "execution_count": 65
  },
  {
   "metadata": {},
   "cell_type": "markdown",
   "source": [
    " - 222 patients with BP measurements performed at instances 0,1,2,3 (4 total measurements during follow-up)\n",
    " - 975 patients with BP measurements performed at instances 0,2,3 (3 total measurements during follow-up)\n",
    " - 5,016 patients with BP measurements performed at instances 0,2 (2 total measurements during follow-up)\n",
    "------------------\n",
    " - 53 patients with ASI measurements performed at instances 0,1,2,3 (4 total measurements during follow-up)\n",
    " - 325 patients with ASI measurements performed at instances 0,2,3 (3 total measurements during follow-up)\n",
    " - 1,076 patients with ASI measurements performed at instances 0,2 (2 total measurements during follow-up)"
   ],
   "id": "402f5e58a1782353"
  }
 ],
 "metadata": {
  "kernelspec": {
   "display_name": "Python 3 (ipykernel)",
   "language": "python",
   "name": "python3"
  },
  "language_info": {
   "codemirror_mode": {
    "name": "ipython",
    "version": 3
   },
   "file_extension": ".py",
   "mimetype": "text/x-python",
   "name": "python",
   "nbconvert_exporter": "python",
   "pygments_lexer": "ipython3",
   "version": "3.11.9"
  }
 },
 "nbformat": 4,
 "nbformat_minor": 5
}
