{
 "cells": [
  {
   "cell_type": "code",
   "id": "initial_id",
   "metadata": {},
   "source": [
    "%load_ext autoreload\n",
    "%autoreload 2\n",
    "\n",
    "from functools import partial\n",
    "\n",
    "import matplotlib.pyplot as plt\n",
    "import numpy as np\n",
    "import pandas as pd\n",
    "import polars as pl\n",
    "import seaborn as sns\n",
    "import shap\n",
    "import xgboost as xgb\n",
    "from sklearn.model_selection import train_test_split\n",
    "\n",
    "from biobank_olink.constants import PROJECT_DATA\n",
    "\n",
    "nb_data = PROJECT_DATA / \"olink\"\n",
    "olink_xlsx = nb_data / \"Olink_whole_caucasian_nonrandom_Zscore.parquet\"\n",
    "\n",
    "TEST_SIZE = 0.2\n",
    "MAX_SHAP_FEATS = 20\n",
    "\n",
    "sns.set_theme()\n",
    "pl.__version__"
   ],
   "outputs": [],
   "execution_count": null
  },
  {
   "cell_type": "code",
   "id": "affd95980a6a1272",
   "metadata": {},
   "source": [
    "import polars.selectors as cs\n",
    "\n",
    "feat2code = {\n",
    "    \"SBP\": \"4080\",\n",
    "    \"DBP\": \"4079\",\n",
    "    \"ASI\": \"21021\",\n",
    "    \"DATE\": \"53\",\n",
    "    \"DRUGS_Q1\": \"6177\",\n",
    "    \"DRUGS_Q2\": \"6153\",\n",
    "\n",
    "}\n",
    "instances = [0, 1, 2, 3]\n",
    "\n",
    "df_followups = (\n",
    "    pl.scan_csv(nb_data / \"BP_ASI_instances0123_participant.csv\").join(\n",
    "        pl.scan_csv(nb_data / \"Drugs_instances123_participant.csv\", infer_schema_length=1_000_000),\n",
    "        on=\"eid\"\n",
    "    )\n",
    "    .select(\n",
    "        \"eid\",\n",
    "        *[\n",
    "            pl.concat_list(cs.contains(f\"{feat2code[feat]}-{ins}.\")).list.mean().alias(\n",
    "                f\"{feat}/{ins}\")\n",
    "            for feat in [\"SBP\", \"DBP\"]\n",
    "            for ins in instances\n",
    "        ],\n",
    "        *[\n",
    "            pl.col(f\"{feat2code[feat]}-{ins}.0\").cast(t).alias(f\"{feat}/{ins}\")\n",
    "            for feat, t in [(\"ASI\", pl.Float64), (\"DATE\", pl.Date)]\n",
    "            for ins in instances\n",
    "        ],\n",
    "        *[\n",
    "            pl.any_horizontal(\n",
    "                pl.col(f\"{feat2code[feat]}-{ins}.0\").str.contains(\"2\")\n",
    "                for feat in [\"DRUGS_Q1\", \"DRUGS_Q2\"]\n",
    "            ).fill_null(False).alias(f\"BP_DRUGS/{ins}\")\n",
    "            for ins in instances[1:]\n",
    "        ],\n",
    "    )\n",
    "    .with_columns(\n",
    "        (pl.col(\"^DATE/[123]$\") - pl.col(\"DATE/0\")).dt.total_days() / 365.25\n",
    "    )\n",
    "    .drop(\"DATE/0\")\n",
    "    .unpivot(index=\"eid\")\n",
    "    .filter(pl.col(\"value\").is_not_null())\n",
    "    .with_columns(\n",
    "        pl.col(\"variable\").str.split_exact(\"/\", 1)\n",
    "    )\n",
    "    .with_columns(\n",
    "        variable=pl.col(\"variable\").struct[0],\n",
    "        ins_index=pl.col(\"variable\").struct[1].cast(pl.Int64)\n",
    "    )\n",
    "    .collect()\n",
    "    .pivot(index=[\"eid\", \"ins_index\"], on=\"variable\")\n",
    "    .rename({\"DATE\": \"followup_time\"})\n",
    "    # Remove rows where a patient does not take BP drugs,\n",
    "    # so BP_DRUGS is null or 0 (false)\n",
    "    .filter(pl.col(\"BP_DRUGS\").is_null() | (pl.col(\"BP_DRUGS\") == 0))\n",
    "    .drop(\"BP_DRUGS\")\n",
    ")\n",
    "df_followups"
   ],
   "outputs": [],
   "execution_count": null
  },
  {
   "cell_type": "code",
   "id": "ce5ee588b2371d93",
   "metadata": {},
   "source": [
    "def create_target_at_followups(target) -> pl.DataFrame:\n",
    "    df_baseline = (\n",
    "        df_followups\n",
    "        .filter(pl.col(\"ins_index\") == 0, pl.col(target).is_not_null())\n",
    "        .rename({target: \"target_at_baseline\"})\n",
    "        .select(\"eid\", \"target_at_baseline\")\n",
    "    )\n",
    "    return (\n",
    "        df_followups\n",
    "        .filter(\n",
    "            pl.col(\"ins_index\") != 0,\n",
    "            pl.col(target).is_not_null(),\n",
    "        )\n",
    "        .select(\"eid\", target, \"followup_time\")\n",
    "        .join(df_baseline, on=\"eid\")\n",
    "        .select(\n",
    "            \"eid\",\n",
    "            \"followup_time\",\n",
    "            target=(pl.col(target) - pl.col(\"target_at_baseline\")) / pl.col(\"followup_time\")\n",
    "        )\n",
    "    )\n"
   ],
   "outputs": [],
   "execution_count": null
  },
  {
   "cell_type": "code",
   "id": "b23c5b9b1cd00b3",
   "metadata": {},
   "source": [
    "index_cols = [\"eid\", \"sex\", \"age\", \"BMI\", \"Smokinstatus\"]\n",
    "cols = [\"protein_id\", \"result\"] + index_cols\n",
    "\n",
    "coding = (\n",
    "    pl.read_csv(nb_data / \"coding143.tsv\", separator=\"\\t\")\n",
    "    .with_columns(pl.col(\"meaning\").str.split(\";\").list.get(0))\n",
    ")\n",
    "\n",
    "\n",
    "def create_dataset(target) -> pl.DataFrame:\n",
    "    df_target = create_target_at_followups(target)\n",
    "    df_ol = (\n",
    "        pl.scan_parquet(olink_xlsx.with_suffix(\".parquet\"))\n",
    "        .filter(\n",
    "            pl.col(\"HTNgroup\").is_in([0, 1]),\n",
    "            pl.col(\"eid\").is_in(df_target[\"eid\"]),\n",
    "        )\n",
    "        .select(cols)\n",
    "        .with_columns(\n",
    "            pl.col(\"protein_id\").replace_strict(\n",
    "                coding[\"coding\"], coding[\"meaning\"], return_dtype=pl.String\n",
    "            )\n",
    "        )\n",
    "        .collect()\n",
    "        .pivot(on=\"protein_id\", index=index_cols, values=\"result\",\n",
    "               aggregate_function=\"first\")\n",
    "    )\n",
    "    df_ol = (\n",
    "        df_ol.with_columns(\n",
    "            df_ol[\"Smokinstatus\"].to_dummies(drop_first=True)\n",
    "        )\n",
    "        .drop(\"Smokinstatus\")\n",
    "    )\n",
    "    return df_ol.join(df_target, on=\"eid\", how=\"inner\").drop(\"eid\")"
   ],
   "outputs": [],
   "execution_count": null
  },
  {
   "cell_type": "code",
   "id": "a58b01f6b67275a3",
   "metadata": {},
   "source": [
    "import wandb\n",
    "\n",
    "\n",
    "def shap_to_importance(values, feat_names) -> pd.Series:\n",
    "    return (\n",
    "        pd.Series(np.abs(values.values).sum(axis=0), index=feat_names)\n",
    "        .sort_values(ascending=False)\n",
    "    )\n",
    "\n",
    "\n",
    "def print_true_vs_pred(y_true, y_pred, title=\"Train\"):\n",
    "    ax = sns.scatterplot(x=y_true, y=y_pred, alpha=0.4)\n",
    "    max_lim = max(ax.get_xlim()[1], ax.get_ylim()[1])\n",
    "    min_lim = min(ax.get_xlim()[0], ax.get_ylim()[0])\n",
    "    ax.set(xlabel=\"y_true\", ylabel=\"y_pred\", title=title,\n",
    "           xlim=(min_lim, max_lim), ylim=(min_lim, max_lim))\n",
    "\n",
    "\n",
    "def setup_xgb(config, seed=42, device=\"gpu\") -> xgb.XGBRegressor:\n",
    "    xgb_params = dict(config)\n",
    "\n",
    "    early_stop = xgb.callback.EarlyStopping(\n",
    "        rounds=10, save_best=True\n",
    "    )\n",
    "\n",
    "    return xgb.XGBRegressor(\n",
    "        tree_method=\"hist\",\n",
    "        device=device,\n",
    "        random_state=seed,\n",
    "        callbacks=[early_stop],\n",
    "        **xgb_params,\n",
    "    )\n",
    "\n",
    "\n",
    "def eval_xgb(x, y, config, seed=42, device=\"gpu\") -> xgb.XGBRegressor:\n",
    "    x_train, x_eval, y_train, y_eval = train_test_split(x, y, test_size=TEST_SIZE, random_state=seed)\n",
    "\n",
    "    clf = setup_xgb(config, seed, device)\n",
    "    clf.fit(x_train, y_train, eval_set=[(x_eval, y_eval)], verbose=10)\n",
    "\n",
    "    plt.figure(figsize=(12, 4))\n",
    "    plt.subplot(1, 2, 1)\n",
    "    y_train_pred = clf.predict(x_train)\n",
    "    corr_train = np.corrcoef(y_train, y_train_pred)[1, 0]\n",
    "    print_true_vs_pred(y_train, y_train_pred,\n",
    "                       title=f\"Train (r2={clf.score(x_train, y_train):.4f}, corr={corr_train:.4f})\")\n",
    "\n",
    "    plt.subplot(1, 2, 2)\n",
    "    y_eval_pred = clf.predict(x_eval)\n",
    "    corr_eval = np.corrcoef(y_eval, y_eval_pred)[1, 0]\n",
    "    print_true_vs_pred(y_eval, y_eval_pred,\n",
    "                       title=f\"Eval (r2={clf.score(x_eval, y_eval):.4f}, corr={corr_eval:.4f})\")\n",
    "    return clf\n",
    "\n",
    "\n",
    "def get_elbow_point(series: pd.Series) -> int:\n",
    "    from kneed import KneeLocator\n",
    "\n",
    "    x = np.arange(0, len(series))\n",
    "    y = series.values\n",
    "    kneedle = KneeLocator(x, y, curve='convex', direction='decreasing')\n",
    "    elbow_point = kneedle.elbow\n",
    "\n",
    "    ax = series.plot.line()\n",
    "    ax.axvline(x=elbow_point, color='k', linestyle='--', lw=1)\n",
    "    return elbow_point\n",
    "\n",
    "\n",
    "def get_xy(target) -> tuple[pl.DataFrame, pl.Series]:\n",
    "    df = create_dataset(target)\n",
    "    return df.drop(\"target\"), df[\"target\"]"
   ],
   "outputs": [],
   "execution_count": null
  },
  {
   "cell_type": "markdown",
   "id": "47a126faeae696d3",
   "metadata": {},
   "source": [
    "## SDB"
   ]
  },
  {
   "cell_type": "code",
   "id": "cf1ba728068b1c1d",
   "metadata": {},
   "source": [
    "x_sbp, y_sbp = get_xy(\"SBP\")\n",
    "sbp_sweep = wandb.Api().sweep(\"olink_change_sbp/ehwymdx1\")\n",
    "best_run = sbp_sweep.best_run(order=\"r2\")\n",
    "model_sbp = eval_xgb(x_sbp, y_sbp, best_run.config)"
   ],
   "outputs": [],
   "execution_count": null
  },
  {
   "cell_type": "code",
   "id": "ef0f2de1a2d5054",
   "metadata": {},
   "source": [
    "explainer = shap.TreeExplainer(model_sbp)\n",
    "shap_values_sbp = explainer(x_sbp)\n",
    "imps = shap_to_importance(shap_values_sbp, x_sbp.columns)\n",
    "sbp_elbow = get_elbow_point(imps)\n",
    "sbp_important_feats = imps[:sbp_elbow]"
   ],
   "outputs": [],
   "execution_count": null
  },
  {
   "cell_type": "code",
   "id": "5401f7f6780d68a",
   "metadata": {},
   "source": [
    "sbp_important_feats.index.values, f\"Number of important feats: {len(sbp_important_feats)}\""
   ],
   "outputs": [],
   "execution_count": null
  },
  {
   "cell_type": "code",
   "id": "92ea39676e839d59",
   "metadata": {},
   "source": [
    "shap.summary_plot(shap_values_sbp, x_sbp.to_pandas(), max_display=min(len(sbp_important_feats), MAX_SHAP_FEATS))"
   ],
   "outputs": [],
   "execution_count": null
  },
  {
   "cell_type": "markdown",
   "id": "58d554c21b29925",
   "metadata": {},
   "source": [
    "## DBP"
   ]
  },
  {
   "cell_type": "code",
   "id": "84330e08-1f93-4686-9902-9b7297c45b31",
   "metadata": {},
   "source": [
    "x_dbp, y_dbp = get_xy(\"DBP\")\n",
    "sbp_sweep = wandb.Api().sweep(\"olink_change_dbp/p2zfmuhv\")\n",
    "best_run = sbp_sweep.best_run(order=\"r2\")\n",
    "model_dbp = eval_xgb(x_dbp, y_dbp, best_run.config)"
   ],
   "outputs": [],
   "execution_count": null
  },
  {
   "cell_type": "code",
   "id": "a464e76a-15db-4843-8622-7cbe5d0486d9",
   "metadata": {},
   "source": [
    "explainer = shap.TreeExplainer(model_dbp)\n",
    "shap_values_dbp = explainer(x_dbp)\n",
    "imps = shap_to_importance(shap_values_dbp, x_dbp.columns)\n",
    "dbp_elbow = get_elbow_point(imps)\n",
    "dbp_important_feats = imps[:dbp_elbow]"
   ],
   "outputs": [],
   "execution_count": null
  },
  {
   "cell_type": "code",
   "id": "6483cae1-f194-4b67-bc85-256782db93c0",
   "metadata": {},
   "source": [
    "dbp_important_feats.index.values, f\"Number of important feats: {len(dbp_important_feats)}\""
   ],
   "outputs": [],
   "execution_count": null
  },
  {
   "cell_type": "code",
   "id": "9e89cb70-c15d-4db8-bda5-8119b6e1fcd6",
   "metadata": {},
   "source": [
    "shap.summary_plot(shap_values_dbp, x_dbp.to_pandas(), max_display=min(len(dbp_important_feats), MAX_SHAP_FEATS))"
   ],
   "outputs": [],
   "execution_count": null
  },
  {
   "cell_type": "markdown",
   "id": "d1e4f895afa426fd",
   "metadata": {},
   "source": [
    "## ASI"
   ]
  },
  {
   "cell_type": "code",
   "id": "d4d990762e18851f",
   "metadata": {},
   "source": [
    "x_asi, y_asi = get_xy(\"ASI\")\n",
    "sbp_sweep = wandb.Api().sweep(\"olink_change_asi/p2zfmuhv\")\n",
    "best_run = sbp_sweep.best_run(order=\"r2\")\n",
    "model_asi = eval_xgb(x_asi, y_asi, best_run.config)"
   ],
   "outputs": [],
   "execution_count": null
  },
  {
   "cell_type": "code",
   "id": "af5a83eb7efdf948",
   "metadata": {},
   "source": [
    "explainer = shap.TreeExplainer(model_asi)\n",
    "shap_values_asi = explainer(x_asi)\n",
    "imps = shap_to_importance(shap_values_asi, x_asi.columns)\n",
    "asi_elbow = get_elbow_point(imps)\n",
    "asi_important_feats = imps[:asi_elbow]"
   ],
   "outputs": [],
   "execution_count": null
  },
  {
   "cell_type": "code",
   "id": "b617e8fc7e0118b0",
   "metadata": {},
   "source": [
    "asi_important_feats.index.values, f\"Number of important feats: {len(asi_important_feats)}\""
   ],
   "outputs": [],
   "execution_count": null
  },
  {
   "cell_type": "code",
   "id": "6764b722140194b9",
   "metadata": {},
   "source": [
    "shap.summary_plot(shap_values_asi, x_asi.to_pandas(), max_display=min(len(asi_important_feats), MAX_SHAP_FEATS))"
   ],
   "outputs": [],
   "execution_count": null
  },
  {
   "cell_type": "markdown",
   "id": "f7e3b92a40e386cc",
   "metadata": {},
   "source": [
    "## Wandb sweep"
   ]
  },
  {
   "cell_type": "code",
   "id": "4c44f4b70d66a0ec",
   "metadata": {},
   "source": [
    "def wandb_eval_xgb(config, x, y, seed=42):\n",
    "    X_train, X_eval, y_train, y_eval = train_test_split(x, y, test_size=TEST_SIZE, random_state=seed)\n",
    "\n",
    "    estimator = setup_xgb(config, seed)\n",
    "    estimator.fit(X_train, y_train, eval_set=[(X_eval, y_eval)], verbose=0)\n",
    "    return estimator.score(X_eval, y_eval)\n",
    "\n",
    "\n",
    "target = \"SBP\"\n",
    "project_name = f\"olink_change_{target.lower()}\"\n",
    "x, y = get_xy(target)\n",
    "objective = partial(wandb_eval_xgb, x=x, y=y)\n",
    "\n",
    "\n",
    "def main():\n",
    "    wandb.init(project=project_name)\n",
    "    score = max(objective(wandb.config), -10)\n",
    "    wandb.log({\"r2\": score})\n",
    "\n",
    "\n",
    "sweep_configurations = {\n",
    "    \"method\": \"bayes\",\n",
    "    \"metric\": {\"name\": \"r2\", \"goal\": \"maximize\"},\n",
    "    \"parameters\": {\n",
    "        'n_estimators': {'distribution': 'int_uniform', 'min': 50, 'max': 500},\n",
    "        'max_depth': {'distribution': 'int_uniform', 'min': 1, 'max': 10},\n",
    "        'learning_rate': {'distribution': 'log_uniform_values', 'min': 0.001, 'max': 0.1},\n",
    "        'subsample': {'distribution': 'uniform', 'min': 0.5, 'max': 1.0},\n",
    "        'colsample_bytree': {'distribution': 'uniform', 'min': 0.5, 'max': 1.0},\n",
    "        'gamma': {'distribution': 'uniform', 'min': 0, 'max': 10},\n",
    "        'min_child_weight': {'distribution': 'int_uniform', 'min': 1, 'max': 20},\n",
    "        'reg_alpha': {'distribution': 'log_uniform_values', 'min': 1e-5, 'max': 100},\n",
    "        'reg_lambda': {'distribution': 'log_uniform_values', 'min': 1e-5, 'max': 100},\n",
    "    },\n",
    "}\n",
    "\n",
    "sweep_id = wandb.sweep(sweep_configurations, project=project_name)\n",
    "sweep_id"
   ],
   "outputs": [],
   "execution_count": null
  },
  {
   "cell_type": "code",
   "id": "79e54ffc0166c6c",
   "metadata": {
    "scrolled": true
   },
   "source": [
    "wandb.teardown()\n",
    "wandb.agent(sweep_id, function=main)"
   ],
   "outputs": [],
   "execution_count": null
  }
 ],
 "metadata": {
  "kernelspec": {
   "display_name": "Python 3 (ipykernel)",
   "language": "python",
   "name": "python3"
  },
  "language_info": {
   "codemirror_mode": {
    "name": "ipython",
    "version": 3
   },
   "file_extension": ".py",
   "mimetype": "text/x-python",
   "name": "python",
   "nbconvert_exporter": "python",
   "pygments_lexer": "ipython3",
   "version": "3.11.9"
  }
 },
 "nbformat": 4,
 "nbformat_minor": 5
}
