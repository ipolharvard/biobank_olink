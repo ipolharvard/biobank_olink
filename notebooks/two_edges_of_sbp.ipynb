{
 "cells": [
  {
   "cell_type": "code",
   "execution_count": 14,
   "metadata": {
    "ExecuteTime": {
     "end_time": "2023-08-15T21:58:16.080372056Z",
     "start_time": "2023-08-15T21:58:16.043587455Z"
    }
   },
   "outputs": [
    {
     "name": "stdout",
     "output_type": "stream",
     "text": [
      "The autoreload extension is already loaded. To reload it, use:\n",
      "  %reload_ext autoreload\n"
     ]
    }
   ],
   "source": [
    "%load_ext autoreload\n",
    "%autoreload 2"
   ]
  },
  {
   "cell_type": "code",
   "execution_count": 15,
   "metadata": {
    "ExecuteTime": {
     "end_time": "2023-08-15T21:58:28.096623501Z",
     "start_time": "2023-08-15T21:58:16.500770511Z"
    },
    "collapsed": false,
    "jupyter": {
     "outputs_hidden": false
    }
   },
   "outputs": [],
   "source": [
    "import numpy as np\n",
    "import pandas as pd\n",
    "\n",
    "from biobank_olink.dataset import load_datasets\n",
    "\n",
    "ol_df, cov_df = load_datasets(cols_na_th=0, rows_na_th=0)"
   ]
  },
  {
   "cell_type": "code",
   "execution_count": 16,
   "metadata": {
    "ExecuteTime": {
     "end_time": "2023-08-15T21:58:28.138678724Z",
     "start_time": "2023-08-15T21:58:28.098447084Z"
    },
    "collapsed": false,
    "jupyter": {
     "outputs_hidden": false
    }
   },
   "outputs": [
    {
     "data": {
      "text/html": [
       "<div>\n",
       "<style scoped>\n",
       "    .dataframe tbody tr th:only-of-type {\n",
       "        vertical-align: middle;\n",
       "    }\n",
       "\n",
       "    .dataframe tbody tr th {\n",
       "        vertical-align: top;\n",
       "    }\n",
       "\n",
       "    .dataframe thead th {\n",
       "        text-align: right;\n",
       "    }\n",
       "</style>\n",
       "<table border=\"1\" class=\"dataframe\">\n",
       "  <thead>\n",
       "    <tr style=\"text-align: right;\">\n",
       "      <th></th>\n",
       "      <th>Sex</th>\n",
       "      <th>age</th>\n",
       "      <th>BMI</th>\n",
       "      <th>Smokinstatus</th>\n",
       "      <th>Alcoholintakefrequency</th>\n",
       "      <th>HTNgroup</th>\n",
       "      <th>fastingtime</th>\n",
       "      <th>SBP</th>\n",
       "      <th>DBP</th>\n",
       "      <th>PP</th>\n",
       "    </tr>\n",
       "    <tr>\n",
       "      <th>eid</th>\n",
       "      <th></th>\n",
       "      <th></th>\n",
       "      <th></th>\n",
       "      <th></th>\n",
       "      <th></th>\n",
       "      <th></th>\n",
       "      <th></th>\n",
       "      <th></th>\n",
       "      <th></th>\n",
       "      <th></th>\n",
       "    </tr>\n",
       "  </thead>\n",
       "  <tbody>\n",
       "    <tr>\n",
       "      <th>1100542</th>\n",
       "      <td>0.0</td>\n",
       "      <td>56.0</td>\n",
       "      <td>25.3302</td>\n",
       "      <td>0.0</td>\n",
       "      <td>2.0</td>\n",
       "      <td>0.0</td>\n",
       "      <td>3.0</td>\n",
       "      <td>76.5</td>\n",
       "      <td>47.0</td>\n",
       "      <td>29.5</td>\n",
       "    </tr>\n",
       "    <tr>\n",
       "      <th>2071806</th>\n",
       "      <td>1.0</td>\n",
       "      <td>61.0</td>\n",
       "      <td>32.7542</td>\n",
       "      <td>1.0</td>\n",
       "      <td>4.0</td>\n",
       "      <td>0.0</td>\n",
       "      <td>3.0</td>\n",
       "      <td>84.5</td>\n",
       "      <td>53.0</td>\n",
       "      <td>31.5</td>\n",
       "    </tr>\n",
       "    <tr>\n",
       "      <th>4670270</th>\n",
       "      <td>0.0</td>\n",
       "      <td>41.0</td>\n",
       "      <td>21.7004</td>\n",
       "      <td>0.0</td>\n",
       "      <td>4.0</td>\n",
       "      <td>0.0</td>\n",
       "      <td>4.0</td>\n",
       "      <td>84.5</td>\n",
       "      <td>62.0</td>\n",
       "      <td>22.5</td>\n",
       "    </tr>\n",
       "    <tr>\n",
       "      <th>3662467</th>\n",
       "      <td>0.0</td>\n",
       "      <td>55.0</td>\n",
       "      <td>20.3475</td>\n",
       "      <td>0.0</td>\n",
       "      <td>3.0</td>\n",
       "      <td>0.0</td>\n",
       "      <td>6.0</td>\n",
       "      <td>85.0</td>\n",
       "      <td>59.0</td>\n",
       "      <td>26.0</td>\n",
       "    </tr>\n",
       "    <tr>\n",
       "      <th>5301061</th>\n",
       "      <td>1.0</td>\n",
       "      <td>43.0</td>\n",
       "      <td>21.6512</td>\n",
       "      <td>1.0</td>\n",
       "      <td>6.0</td>\n",
       "      <td>0.0</td>\n",
       "      <td>2.0</td>\n",
       "      <td>85.5</td>\n",
       "      <td>55.5</td>\n",
       "      <td>30.0</td>\n",
       "    </tr>\n",
       "  </tbody>\n",
       "</table>\n",
       "</div>"
      ],
      "text/plain": [
       "         Sex   age      BMI  Smokinstatus  Alcoholintakefrequency  HTNgroup  \\\n",
       "eid                                                                           \n",
       "1100542  0.0  56.0  25.3302           0.0                     2.0       0.0   \n",
       "2071806  1.0  61.0  32.7542           1.0                     4.0       0.0   \n",
       "4670270  0.0  41.0  21.7004           0.0                     4.0       0.0   \n",
       "3662467  0.0  55.0  20.3475           0.0                     3.0       0.0   \n",
       "5301061  1.0  43.0  21.6512           1.0                     6.0       0.0   \n",
       "\n",
       "         fastingtime   SBP   DBP    PP  \n",
       "eid                                     \n",
       "1100542          3.0  76.5  47.0  29.5  \n",
       "2071806          3.0  84.5  53.0  31.5  \n",
       "4670270          4.0  84.5  62.0  22.5  \n",
       "3662467          6.0  85.0  59.0  26.0  \n",
       "5301061          2.0  85.5  55.5  30.0  "
      ]
     },
     "execution_count": 16,
     "metadata": {},
     "output_type": "execute_result"
    }
   ],
   "source": [
    "# W danych dodałem zmienną HTNgroup gdzie 0 to normotensja, 1 to nieleczone HTN (SBP>=140 lub DBP>=90) 2\n",
    "# to \"zażywanie leków antyHTN\"\n",
    "cov_df = cov_df[cov_df.HTNgroup < 2]\n",
    "cov_df = cov_df.sort_values(by='SBP')\n",
    "cov_df.head(5)"
   ]
  },
  {
   "cell_type": "code",
   "execution_count": 17,
   "metadata": {
    "ExecuteTime": {
     "end_time": "2023-08-15T00:36:55.229598702Z",
     "start_time": "2023-08-15T00:32:01.056570820Z"
    },
    "collapsed": false,
    "jupyter": {
     "outputs_hidden": false
    }
   },
   "outputs": [],
   "source": [
    "ol_df_corr = ol_df.corr()\n",
    "mask = np.triu(np.ones(ol_df_corr.shape), k=1).astype(bool)\n",
    "high_corr = ol_df_corr.where(mask)\n",
    "cols_to_remove = [column for column in high_corr.columns if any(high_corr[column] > 0.9)]\n",
    "ol_df.drop(columns=cols_to_remove, inplace=True)"
   ]
  },
  {
   "cell_type": "code",
   "execution_count": 18,
   "metadata": {
    "ExecuteTime": {
     "end_time": "2023-08-15T21:58:28.165070401Z",
     "start_time": "2023-08-15T21:58:28.135597072Z"
    },
    "collapsed": false,
    "jupyter": {
     "outputs_hidden": false
    }
   },
   "outputs": [
    {
     "data": {
      "text/html": [
       "<div>\n",
       "<style scoped>\n",
       "    .dataframe tbody tr th:only-of-type {\n",
       "        vertical-align: middle;\n",
       "    }\n",
       "\n",
       "    .dataframe tbody tr th {\n",
       "        vertical-align: top;\n",
       "    }\n",
       "\n",
       "    .dataframe thead th {\n",
       "        text-align: right;\n",
       "    }\n",
       "</style>\n",
       "<table border=\"1\" class=\"dataframe\">\n",
       "  <thead>\n",
       "    <tr style=\"text-align: right;\">\n",
       "      <th></th>\n",
       "      <th>low</th>\n",
       "      <th>high</th>\n",
       "    </tr>\n",
       "  </thead>\n",
       "  <tbody>\n",
       "    <tr>\n",
       "      <th>count</th>\n",
       "      <td>10679.000000</td>\n",
       "      <td>10721.000000</td>\n",
       "    </tr>\n",
       "    <tr>\n",
       "      <th>mean</th>\n",
       "      <td>117.774230</td>\n",
       "      <td>156.075972</td>\n",
       "    </tr>\n",
       "    <tr>\n",
       "      <th>std</th>\n",
       "      <td>7.386252</td>\n",
       "      <td>12.429014</td>\n",
       "    </tr>\n",
       "    <tr>\n",
       "      <th>min</th>\n",
       "      <td>76.500000</td>\n",
       "      <td>142.000000</td>\n",
       "    </tr>\n",
       "    <tr>\n",
       "      <th>25%</th>\n",
       "      <td>113.000000</td>\n",
       "      <td>146.500000</td>\n",
       "    </tr>\n",
       "    <tr>\n",
       "      <th>50%</th>\n",
       "      <td>119.500000</td>\n",
       "      <td>153.000000</td>\n",
       "    </tr>\n",
       "    <tr>\n",
       "      <th>75%</th>\n",
       "      <td>124.000000</td>\n",
       "      <td>162.000000</td>\n",
       "    </tr>\n",
       "    <tr>\n",
       "      <th>max</th>\n",
       "      <td>127.500000</td>\n",
       "      <td>246.000000</td>\n",
       "    </tr>\n",
       "  </tbody>\n",
       "</table>\n",
       "</div>"
      ],
      "text/plain": [
       "                low          high\n",
       "count  10679.000000  10721.000000\n",
       "mean     117.774230    156.075972\n",
       "std        7.386252     12.429014\n",
       "min       76.500000    142.000000\n",
       "25%      113.000000    146.500000\n",
       "50%      119.500000    153.000000\n",
       "75%      124.000000    162.000000\n",
       "max      127.500000    246.000000"
      ]
     },
     "execution_count": 18,
     "metadata": {},
     "output_type": "execute_result"
    }
   ],
   "source": [
    "threshold = 0.35\n",
    "lower_bound, upper_bound = cov_df.SBP.quantile([threshold, 1 - threshold]).values\n",
    "low_cov_df = cov_df[cov_df.SBP < lower_bound]\n",
    "high_cov_df = cov_df[upper_bound < cov_df.SBP]\n",
    "pd.concat([low_cov_df.SBP.describe(), high_cov_df.SBP.describe()], axis=1, keys=[\"low\", \"high\"])"
   ]
  },
  {
   "cell_type": "code",
   "execution_count": 19,
   "metadata": {
    "ExecuteTime": {
     "end_time": "2023-08-15T21:58:45.540672710Z",
     "start_time": "2023-08-15T21:58:45.475688509Z"
    },
    "collapsed": false,
    "jupyter": {
     "outputs_hidden": false
    }
   },
   "outputs": [
    {
     "data": {
      "text/html": [
       "<div>\n",
       "<style scoped>\n",
       "    .dataframe tbody tr th:only-of-type {\n",
       "        vertical-align: middle;\n",
       "    }\n",
       "\n",
       "    .dataframe tbody tr th {\n",
       "        vertical-align: top;\n",
       "    }\n",
       "\n",
       "    .dataframe thead th {\n",
       "        text-align: right;\n",
       "    }\n",
       "</style>\n",
       "<table border=\"1\" class=\"dataframe\">\n",
       "  <thead>\n",
       "    <tr style=\"text-align: right;\">\n",
       "      <th></th>\n",
       "      <th>Sex</th>\n",
       "      <th>age</th>\n",
       "      <th>BMI</th>\n",
       "    </tr>\n",
       "    <tr>\n",
       "      <th>eid</th>\n",
       "      <th></th>\n",
       "      <th></th>\n",
       "      <th></th>\n",
       "    </tr>\n",
       "  </thead>\n",
       "  <tbody>\n",
       "    <tr>\n",
       "      <th>1100542</th>\n",
       "      <td>-0.837467</td>\n",
       "      <td>-0.017329</td>\n",
       "      <td>-0.306785</td>\n",
       "    </tr>\n",
       "    <tr>\n",
       "      <th>2071806</th>\n",
       "      <td>1.194021</td>\n",
       "      <td>0.593013</td>\n",
       "      <td>1.366313</td>\n",
       "    </tr>\n",
       "    <tr>\n",
       "      <th>4670270</th>\n",
       "      <td>-0.837467</td>\n",
       "      <td>-1.848354</td>\n",
       "      <td>-1.124809</td>\n",
       "    </tr>\n",
       "    <tr>\n",
       "      <th>3662467</th>\n",
       "      <td>-0.837467</td>\n",
       "      <td>-0.139397</td>\n",
       "      <td>-1.429703</td>\n",
       "    </tr>\n",
       "    <tr>\n",
       "      <th>5301061</th>\n",
       "      <td>1.194021</td>\n",
       "      <td>-1.604218</td>\n",
       "      <td>-1.135897</td>\n",
       "    </tr>\n",
       "  </tbody>\n",
       "</table>\n",
       "</div>"
      ],
      "text/plain": [
       "              Sex       age       BMI\n",
       "eid                                  \n",
       "1100542 -0.837467 -0.017329 -0.306785\n",
       "2071806  1.194021  0.593013  1.366313\n",
       "4670270 -0.837467 -1.848354 -1.124809\n",
       "3662467 -0.837467 -0.139397 -1.429703\n",
       "5301061  1.194021 -1.604218 -1.135897"
      ]
     },
     "execution_count": 19,
     "metadata": {},
     "output_type": "execute_result"
    }
   ],
   "source": [
    "correction_df = pd.concat([low_cov_df, high_cov_df])\n",
    "correction_cols = [\"Sex\", \"age\", \"BMI\"]\n",
    "correction_df = correction_df[correction_cols]\n",
    "correction_df = (correction_df - correction_df.mean()) / correction_df.std()\n",
    "correction_df.head()"
   ]
  },
  {
   "cell_type": "code",
   "execution_count": 20,
   "metadata": {
    "ExecuteTime": {
     "end_time": "2023-08-15T21:59:05.597406776Z",
     "start_time": "2023-08-15T21:58:48.756634413Z"
    },
    "collapsed": false,
    "jupyter": {
     "outputs_hidden": false
    }
   },
   "outputs": [
    {
     "data": {
      "text/html": [
       "<div>\n",
       "<style scoped>\n",
       "    .dataframe tbody tr th:only-of-type {\n",
       "        vertical-align: middle;\n",
       "    }\n",
       "\n",
       "    .dataframe tbody tr th {\n",
       "        vertical-align: top;\n",
       "    }\n",
       "\n",
       "    .dataframe thead th {\n",
       "        text-align: right;\n",
       "    }\n",
       "</style>\n",
       "<table border=\"1\" class=\"dataframe\">\n",
       "  <thead>\n",
       "    <tr style=\"text-align: right;\">\n",
       "      <th></th>\n",
       "      <th>p2_id</th>\n",
       "      <th>dist</th>\n",
       "    </tr>\n",
       "    <tr>\n",
       "      <th>eid</th>\n",
       "      <th></th>\n",
       "      <th></th>\n",
       "    </tr>\n",
       "  </thead>\n",
       "  <tbody>\n",
       "    <tr>\n",
       "      <th>3636713</th>\n",
       "      <td>4051783</td>\n",
       "      <td>0.0</td>\n",
       "    </tr>\n",
       "    <tr>\n",
       "      <th>2389551</th>\n",
       "      <td>2986916</td>\n",
       "      <td>0.0</td>\n",
       "    </tr>\n",
       "    <tr>\n",
       "      <th>1528084</th>\n",
       "      <td>5331657</td>\n",
       "      <td>0.0</td>\n",
       "    </tr>\n",
       "    <tr>\n",
       "      <th>2116722</th>\n",
       "      <td>4731896</td>\n",
       "      <td>0.0</td>\n",
       "    </tr>\n",
       "    <tr>\n",
       "      <th>2263355</th>\n",
       "      <td>5522598</td>\n",
       "      <td>0.0</td>\n",
       "    </tr>\n",
       "  </tbody>\n",
       "</table>\n",
       "</div>"
      ],
      "text/plain": [
       "           p2_id  dist\n",
       "eid                   \n",
       "3636713  4051783   0.0\n",
       "2389551  2986916   0.0\n",
       "1528084  5331657   0.0\n",
       "2116722  4731896   0.0\n",
       "2263355  5522598   0.0"
      ]
     },
     "execution_count": 20,
     "metadata": {},
     "output_type": "execute_result"
    }
   ],
   "source": [
    "from scipy.spatial.distance import pdist, squareform\n",
    "\n",
    "similarities = squareform(pdist(correction_df))\n",
    "np.fill_diagonal(similarities, np.inf)\n",
    "similarities_df = pd.DataFrame(similarities, index=correction_df.index, columns=correction_df.index)\n",
    "similarities_sub_df = similarities_df.loc[low_cov_df.index, high_cov_df.index]\n",
    "\n",
    "paired_up_df = similarities_sub_df.idxmin().to_frame(\"p2_id\")\n",
    "paired_up_df[\"dist\"] = similarities_df.min()\n",
    "paired_up_df2 = similarities_sub_df.T.idxmin().to_frame(\"p2_id\")\n",
    "paired_up_df2[\"dist\"] = similarities_df.T.min()\n",
    "paired_up_df = pd.concat([paired_up_df, paired_up_df2])\n",
    "paired_up_df.sort_values(by=\"dist\", inplace=True)\n",
    "\n",
    "del similarities_df, similarities\n",
    "paired_up_df.head()"
   ]
  },
  {
   "cell_type": "code",
   "execution_count": 21,
   "metadata": {
    "ExecuteTime": {
     "end_time": "2023-08-15T21:59:05.741793632Z",
     "start_time": "2023-08-15T21:59:05.595199599Z"
    },
    "collapsed": false,
    "jupyter": {
     "outputs_hidden": false
    }
   },
   "outputs": [
    {
     "data": {
      "text/html": [
       "<div>\n",
       "<style scoped>\n",
       "    .dataframe tbody tr th:only-of-type {\n",
       "        vertical-align: middle;\n",
       "    }\n",
       "\n",
       "    .dataframe tbody tr th {\n",
       "        vertical-align: top;\n",
       "    }\n",
       "\n",
       "    .dataframe thead th {\n",
       "        text-align: right;\n",
       "    }\n",
       "</style>\n",
       "<table border=\"1\" class=\"dataframe\">\n",
       "  <thead>\n",
       "    <tr style=\"text-align: right;\">\n",
       "      <th></th>\n",
       "      <th>Sex</th>\n",
       "      <th>age</th>\n",
       "      <th>BMI</th>\n",
       "      <th>Smokinstatus</th>\n",
       "      <th>Alcoholintakefrequency</th>\n",
       "      <th>HTNgroup</th>\n",
       "      <th>fastingtime</th>\n",
       "      <th>SBP</th>\n",
       "      <th>DBP</th>\n",
       "      <th>PP</th>\n",
       "    </tr>\n",
       "    <tr>\n",
       "      <th>eid</th>\n",
       "      <th></th>\n",
       "      <th></th>\n",
       "      <th></th>\n",
       "      <th></th>\n",
       "      <th></th>\n",
       "      <th></th>\n",
       "      <th></th>\n",
       "      <th></th>\n",
       "      <th></th>\n",
       "      <th></th>\n",
       "    </tr>\n",
       "  </thead>\n",
       "  <tbody>\n",
       "    <tr>\n",
       "      <th>5519244</th>\n",
       "      <td>1.0</td>\n",
       "      <td>65.0</td>\n",
       "      <td>50.9975</td>\n",
       "      <td>1.0</td>\n",
       "      <td>3.0</td>\n",
       "      <td>1.0</td>\n",
       "      <td>4.0</td>\n",
       "      <td>150.0</td>\n",
       "      <td>90.0</td>\n",
       "      <td>60.0</td>\n",
       "    </tr>\n",
       "    <tr>\n",
       "      <th>1939696</th>\n",
       "      <td>1.0</td>\n",
       "      <td>55.0</td>\n",
       "      <td>48.3703</td>\n",
       "      <td>0.0</td>\n",
       "      <td>3.0</td>\n",
       "      <td>0.0</td>\n",
       "      <td>12.0</td>\n",
       "      <td>127.0</td>\n",
       "      <td>86.5</td>\n",
       "      <td>40.5</td>\n",
       "    </tr>\n",
       "  </tbody>\n",
       "</table>\n",
       "</div>"
      ],
      "text/plain": [
       "         Sex   age      BMI  Smokinstatus  Alcoholintakefrequency  HTNgroup  \\\n",
       "eid                                                                           \n",
       "5519244  1.0  65.0  50.9975           1.0                     3.0       1.0   \n",
       "1939696  1.0  55.0  48.3703           0.0                     3.0       0.0   \n",
       "\n",
       "         fastingtime    SBP   DBP    PP  \n",
       "eid                                      \n",
       "5519244          4.0  150.0  90.0  60.0  \n",
       "1939696         12.0  127.0  86.5  40.5  "
      ]
     },
     "execution_count": 21,
     "metadata": {},
     "output_type": "execute_result"
    }
   ],
   "source": [
    "p1, p2, _ = paired_up_df.reset_index().iloc[-1].values\n",
    "cov_df.loc[[p1, p2]]"
   ]
  },
  {
   "cell_type": "code",
   "execution_count": 22,
   "metadata": {
    "ExecuteTime": {
     "end_time": "2023-08-15T21:59:06.606882361Z",
     "start_time": "2023-08-15T21:59:05.643805711Z"
    },
    "collapsed": false,
    "jupyter": {
     "outputs_hidden": false
    }
   },
   "outputs": [
    {
     "data": {
      "text/html": [
       "<div>\n",
       "<style scoped>\n",
       "    .dataframe tbody tr th:only-of-type {\n",
       "        vertical-align: middle;\n",
       "    }\n",
       "\n",
       "    .dataframe tbody tr th {\n",
       "        vertical-align: top;\n",
       "    }\n",
       "\n",
       "    .dataframe thead th {\n",
       "        text-align: right;\n",
       "    }\n",
       "</style>\n",
       "<table border=\"1\" class=\"dataframe\">\n",
       "  <thead>\n",
       "    <tr style=\"text-align: right;\">\n",
       "      <th></th>\n",
       "      <th>low</th>\n",
       "      <th>high</th>\n",
       "    </tr>\n",
       "  </thead>\n",
       "  <tbody>\n",
       "    <tr>\n",
       "      <th>count</th>\n",
       "      <td>5133.000000</td>\n",
       "      <td>5133.000000</td>\n",
       "    </tr>\n",
       "    <tr>\n",
       "      <th>mean</th>\n",
       "      <td>118.922950</td>\n",
       "      <td>155.348821</td>\n",
       "    </tr>\n",
       "    <tr>\n",
       "      <th>std</th>\n",
       "      <td>6.843063</td>\n",
       "      <td>12.172580</td>\n",
       "    </tr>\n",
       "    <tr>\n",
       "      <th>min</th>\n",
       "      <td>76.500000</td>\n",
       "      <td>142.000000</td>\n",
       "    </tr>\n",
       "    <tr>\n",
       "      <th>25%</th>\n",
       "      <td>115.000000</td>\n",
       "      <td>146.000000</td>\n",
       "    </tr>\n",
       "    <tr>\n",
       "      <th>50%</th>\n",
       "      <td>120.500000</td>\n",
       "      <td>152.000000</td>\n",
       "    </tr>\n",
       "    <tr>\n",
       "      <th>75%</th>\n",
       "      <td>124.500000</td>\n",
       "      <td>161.000000</td>\n",
       "    </tr>\n",
       "    <tr>\n",
       "      <th>max</th>\n",
       "      <td>127.500000</td>\n",
       "      <td>246.000000</td>\n",
       "    </tr>\n",
       "  </tbody>\n",
       "</table>\n",
       "</div>"
      ],
      "text/plain": [
       "               low         high\n",
       "count  5133.000000  5133.000000\n",
       "mean    118.922950   155.348821\n",
       "std       6.843063    12.172580\n",
       "min      76.500000   142.000000\n",
       "25%     115.000000   146.000000\n",
       "50%     120.500000   152.000000\n",
       "75%     124.500000   161.000000\n",
       "max     127.500000   246.000000"
      ]
     },
     "execution_count": 22,
     "metadata": {},
     "output_type": "execute_result"
    }
   ],
   "source": [
    "chosen = set()\n",
    "for p1_idx, (p2_idx, _) in paired_up_df.iterrows():\n",
    "    if p1_idx in chosen or p2_idx in chosen:\n",
    "        continue\n",
    "    chosen.add(p1_idx)\n",
    "    chosen.add(p2_idx)\n",
    "\n",
    "chosen_cov_df = cov_df.loc[list(chosen)]\n",
    "low_cov_df = chosen_cov_df[chosen_cov_df.SBP < lower_bound]\n",
    "high_cov_df = chosen_cov_df[upper_bound < chosen_cov_df.SBP]\n",
    "pd.concat([low_cov_df.SBP.describe(), high_cov_df.SBP.describe()], axis=1, keys=[\"low\", \"high\"])"
   ]
  },
  {
   "cell_type": "code",
   "execution_count": 23,
   "metadata": {
    "ExecuteTime": {
     "end_time": "2023-08-15T21:59:06.736325195Z",
     "start_time": "2023-08-15T21:59:06.605974730Z"
    },
    "collapsed": false,
    "jupyter": {
     "outputs_hidden": false
    }
   },
   "outputs": [
    {
     "data": {
      "text/html": [
       "<div>\n",
       "<style scoped>\n",
       "    .dataframe tbody tr th:only-of-type {\n",
       "        vertical-align: middle;\n",
       "    }\n",
       "\n",
       "    .dataframe tbody tr th {\n",
       "        vertical-align: top;\n",
       "    }\n",
       "\n",
       "    .dataframe thead tr th {\n",
       "        text-align: left;\n",
       "    }\n",
       "</style>\n",
       "<table border=\"1\" class=\"dataframe\">\n",
       "  <thead>\n",
       "    <tr>\n",
       "      <th></th>\n",
       "      <th colspan=\"3\" halign=\"left\">low</th>\n",
       "      <th colspan=\"3\" halign=\"left\">high</th>\n",
       "    </tr>\n",
       "    <tr>\n",
       "      <th></th>\n",
       "      <th>Sex</th>\n",
       "      <th>age</th>\n",
       "      <th>BMI</th>\n",
       "      <th>Sex</th>\n",
       "      <th>age</th>\n",
       "      <th>BMI</th>\n",
       "    </tr>\n",
       "  </thead>\n",
       "  <tbody>\n",
       "    <tr>\n",
       "      <th>count</th>\n",
       "      <td>5133.000000</td>\n",
       "      <td>5133.000000</td>\n",
       "      <td>5133.000000</td>\n",
       "      <td>5133.000000</td>\n",
       "      <td>5133.000000</td>\n",
       "      <td>5133.000000</td>\n",
       "    </tr>\n",
       "    <tr>\n",
       "      <th>mean</th>\n",
       "      <td>0.431522</td>\n",
       "      <td>56.676018</td>\n",
       "      <td>26.796728</td>\n",
       "      <td>0.431522</td>\n",
       "      <td>56.678745</td>\n",
       "      <td>26.798973</td>\n",
       "    </tr>\n",
       "    <tr>\n",
       "      <th>std</th>\n",
       "      <td>0.495337</td>\n",
       "      <td>7.627332</td>\n",
       "      <td>4.289300</td>\n",
       "      <td>0.495337</td>\n",
       "      <td>7.626911</td>\n",
       "      <td>4.289026</td>\n",
       "    </tr>\n",
       "    <tr>\n",
       "      <th>min</th>\n",
       "      <td>0.000000</td>\n",
       "      <td>40.000000</td>\n",
       "      <td>15.353500</td>\n",
       "      <td>0.000000</td>\n",
       "      <td>40.000000</td>\n",
       "      <td>15.657300</td>\n",
       "    </tr>\n",
       "    <tr>\n",
       "      <th>25%</th>\n",
       "      <td>0.000000</td>\n",
       "      <td>51.000000</td>\n",
       "      <td>23.843700</td>\n",
       "      <td>0.000000</td>\n",
       "      <td>51.000000</td>\n",
       "      <td>23.857200</td>\n",
       "    </tr>\n",
       "    <tr>\n",
       "      <th>50%</th>\n",
       "      <td>0.000000</td>\n",
       "      <td>58.000000</td>\n",
       "      <td>26.228400</td>\n",
       "      <td>0.000000</td>\n",
       "      <td>58.000000</td>\n",
       "      <td>26.225200</td>\n",
       "    </tr>\n",
       "    <tr>\n",
       "      <th>75%</th>\n",
       "      <td>1.000000</td>\n",
       "      <td>63.000000</td>\n",
       "      <td>29.039200</td>\n",
       "      <td>1.000000</td>\n",
       "      <td>63.000000</td>\n",
       "      <td>29.054200</td>\n",
       "    </tr>\n",
       "    <tr>\n",
       "      <th>max</th>\n",
       "      <td>1.000000</td>\n",
       "      <td>70.000000</td>\n",
       "      <td>55.134100</td>\n",
       "      <td>1.000000</td>\n",
       "      <td>70.000000</td>\n",
       "      <td>56.501900</td>\n",
       "    </tr>\n",
       "  </tbody>\n",
       "</table>\n",
       "</div>"
      ],
      "text/plain": [
       "               low                                   high               \\\n",
       "               Sex          age          BMI          Sex          age   \n",
       "count  5133.000000  5133.000000  5133.000000  5133.000000  5133.000000   \n",
       "mean      0.431522    56.676018    26.796728     0.431522    56.678745   \n",
       "std       0.495337     7.627332     4.289300     0.495337     7.626911   \n",
       "min       0.000000    40.000000    15.353500     0.000000    40.000000   \n",
       "25%       0.000000    51.000000    23.843700     0.000000    51.000000   \n",
       "50%       0.000000    58.000000    26.228400     0.000000    58.000000   \n",
       "75%       1.000000    63.000000    29.039200     1.000000    63.000000   \n",
       "max       1.000000    70.000000    55.134100     1.000000    70.000000   \n",
       "\n",
       "                    \n",
       "               BMI  \n",
       "count  5133.000000  \n",
       "mean     26.798973  \n",
       "std       4.289026  \n",
       "min      15.657300  \n",
       "25%      23.857200  \n",
       "50%      26.225200  \n",
       "75%      29.054200  \n",
       "max      56.501900  "
      ]
     },
     "execution_count": 23,
     "metadata": {},
     "output_type": "execute_result"
    }
   ],
   "source": [
    "pd.concat([low_cov_df[correction_cols].describe(), high_cov_df[correction_cols].describe()], axis=1,\n",
    "          keys=[\"low\", \"high\"])"
   ]
  },
  {
   "cell_type": "markdown",
   "metadata": {
    "collapsed": false,
    "jupyter": {
     "outputs_hidden": false
    }
   },
   "source": [
    "## Classification"
   ]
  },
  {
   "cell_type": "code",
   "execution_count": 26,
   "metadata": {
    "ExecuteTime": {
     "start_time": "2023-08-15T00:01:04.861069512Z"
    },
    "collapsed": false,
    "jupyter": {
     "outputs_hidden": false
    }
   },
   "outputs": [
    {
     "data": {
      "text/plain": [
       "(array([0.6976631 , 0.71115441, 0.71358987, 0.70725767, 0.7116415 ]),\n",
       " 0.7082613090018122)"
      ]
     },
     "execution_count": 26,
     "metadata": {},
     "output_type": "execute_result"
    }
   ],
   "source": [
    "from xgboost import XGBClassifier\n",
    "from sklearn.model_selection import cross_val_score\n",
    "\n",
    "x = ol_df.loc[chosen_cov_df.index]\n",
    "y = chosen_cov_df.index.isin(high_cov_df.index)\n",
    "\n",
    "est = XGBClassifier(tree_method=\"gpu_hist\", random_state=42, n_estimators=1000)\n",
    "scores = cross_val_score(est, x, y, scoring=\"accuracy\", cv=5, n_jobs=5)\n",
    "scores, scores.mean()"
   ]
  }
 ],
 "metadata": {
  "kernelspec": {
   "display_name": "olink",
   "language": "python",
   "name": "olink"
  },
  "language_info": {
   "codemirror_mode": {
    "name": "ipython",
    "version": 3
   },
   "file_extension": ".py",
   "mimetype": "text/x-python",
   "name": "python",
   "nbconvert_exporter": "python",
   "pygments_lexer": "ipython3",
   "version": "3.10.12"
  }
 },
 "nbformat": 4,
 "nbformat_minor": 4
}
