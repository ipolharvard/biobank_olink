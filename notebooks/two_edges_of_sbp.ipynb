{
 "cells": [
  {
   "cell_type": "code",
   "execution_count": 1,
   "metadata": {
    "ExecuteTime": {
     "end_time": "2023-08-17T15:52:09.738125154Z",
     "start_time": "2023-08-17T15:52:09.736957822Z"
    }
   },
   "outputs": [],
   "source": [
    "%load_ext autoreload\n",
    "%autoreload 2"
   ]
  },
  {
   "cell_type": "code",
   "execution_count": 2,
   "metadata": {
    "collapsed": false,
    "jupyter": {
     "outputs_hidden": false
    },
    "ExecuteTime": {
     "end_time": "2023-08-17T15:52:30.635291667Z",
     "start_time": "2023-08-17T15:52:10.007457689Z"
    }
   },
   "outputs": [],
   "source": [
    "import numpy as np\n",
    "import pandas as pd\n",
    "\n",
    "from biobank_olink.dataset import load_datasets\n",
    "\n",
    "ol_df, cov_df = load_datasets(cols_na_th=0, rows_na_th=0)"
   ]
  },
  {
   "cell_type": "code",
   "execution_count": 3,
   "metadata": {
    "collapsed": false,
    "jupyter": {
     "outputs_hidden": false
    },
    "ExecuteTime": {
     "end_time": "2023-08-17T15:52:30.683978439Z",
     "start_time": "2023-08-17T15:52:30.636031439Z"
    }
   },
   "outputs": [
    {
     "data": {
      "text/plain": "         Sex   age      BMI  Smokinstatus  Alcoholintakefrequency  HTNgroup  \\\neid                                                                           \n1100542  0.0  56.0  25.3302           0.0                     2.0       0.0   \n2071806  1.0  61.0  32.7542           1.0                     4.0       0.0   \n4670270  0.0  41.0  21.7004           0.0                     4.0       0.0   \n3662467  0.0  55.0  20.3475           0.0                     3.0       0.0   \n5301061  1.0  43.0  21.6512           1.0                     6.0       0.0   \n\n         fastingtime   SBP   DBP    PP  \neid                                     \n1100542          3.0  76.5  47.0  29.5  \n2071806          3.0  84.5  53.0  31.5  \n4670270          4.0  84.5  62.0  22.5  \n3662467          6.0  85.0  59.0  26.0  \n5301061          2.0  85.5  55.5  30.0  ",
      "text/html": "<div>\n<style scoped>\n    .dataframe tbody tr th:only-of-type {\n        vertical-align: middle;\n    }\n\n    .dataframe tbody tr th {\n        vertical-align: top;\n    }\n\n    .dataframe thead th {\n        text-align: right;\n    }\n</style>\n<table border=\"1\" class=\"dataframe\">\n  <thead>\n    <tr style=\"text-align: right;\">\n      <th></th>\n      <th>Sex</th>\n      <th>age</th>\n      <th>BMI</th>\n      <th>Smokinstatus</th>\n      <th>Alcoholintakefrequency</th>\n      <th>HTNgroup</th>\n      <th>fastingtime</th>\n      <th>SBP</th>\n      <th>DBP</th>\n      <th>PP</th>\n    </tr>\n    <tr>\n      <th>eid</th>\n      <th></th>\n      <th></th>\n      <th></th>\n      <th></th>\n      <th></th>\n      <th></th>\n      <th></th>\n      <th></th>\n      <th></th>\n      <th></th>\n    </tr>\n  </thead>\n  <tbody>\n    <tr>\n      <th>1100542</th>\n      <td>0.0</td>\n      <td>56.0</td>\n      <td>25.3302</td>\n      <td>0.0</td>\n      <td>2.0</td>\n      <td>0.0</td>\n      <td>3.0</td>\n      <td>76.5</td>\n      <td>47.0</td>\n      <td>29.5</td>\n    </tr>\n    <tr>\n      <th>2071806</th>\n      <td>1.0</td>\n      <td>61.0</td>\n      <td>32.7542</td>\n      <td>1.0</td>\n      <td>4.0</td>\n      <td>0.0</td>\n      <td>3.0</td>\n      <td>84.5</td>\n      <td>53.0</td>\n      <td>31.5</td>\n    </tr>\n    <tr>\n      <th>4670270</th>\n      <td>0.0</td>\n      <td>41.0</td>\n      <td>21.7004</td>\n      <td>0.0</td>\n      <td>4.0</td>\n      <td>0.0</td>\n      <td>4.0</td>\n      <td>84.5</td>\n      <td>62.0</td>\n      <td>22.5</td>\n    </tr>\n    <tr>\n      <th>3662467</th>\n      <td>0.0</td>\n      <td>55.0</td>\n      <td>20.3475</td>\n      <td>0.0</td>\n      <td>3.0</td>\n      <td>0.0</td>\n      <td>6.0</td>\n      <td>85.0</td>\n      <td>59.0</td>\n      <td>26.0</td>\n    </tr>\n    <tr>\n      <th>5301061</th>\n      <td>1.0</td>\n      <td>43.0</td>\n      <td>21.6512</td>\n      <td>1.0</td>\n      <td>6.0</td>\n      <td>0.0</td>\n      <td>2.0</td>\n      <td>85.5</td>\n      <td>55.5</td>\n      <td>30.0</td>\n    </tr>\n  </tbody>\n</table>\n</div>"
     },
     "execution_count": 3,
     "metadata": {},
     "output_type": "execute_result"
    }
   ],
   "source": [
    "# W danych dodałem zmienną HTNgroup gdzie 0 to normotensja, 1 to nieleczone HTN (SBP>=140 lub DBP>=90) 2\n",
    "# to \"zażywanie leków antyHTN\"\n",
    "cov_df = cov_df[cov_df.HTNgroup < 2]\n",
    "cov_df = cov_df.sort_values(by='SBP')\n",
    "cov_df.head(5)"
   ]
  },
  {
   "cell_type": "code",
   "execution_count": 17,
   "metadata": {
    "ExecuteTime": {
     "end_time": "2023-08-15T00:36:55.229598702Z",
     "start_time": "2023-08-15T00:32:01.056570820Z"
    },
    "collapsed": false,
    "jupyter": {
     "outputs_hidden": false
    }
   },
   "outputs": [],
   "source": [
    "ol_df_corr = ol_df.corr()\n",
    "mask = np.triu(np.ones(ol_df_corr.shape), k=1).astype(bool)\n",
    "high_corr = ol_df_corr.where(mask)\n",
    "cols_to_remove = [column for column in high_corr.columns if any(high_corr[column] > 0.9)]\n",
    "ol_df.drop(columns=cols_to_remove, inplace=True)"
   ]
  },
  {
   "cell_type": "code",
   "execution_count": 4,
   "metadata": {
    "collapsed": false,
    "jupyter": {
     "outputs_hidden": false
    },
    "ExecuteTime": {
     "end_time": "2023-08-17T15:52:30.704226447Z",
     "start_time": "2023-08-17T15:52:30.673103193Z"
    }
   },
   "outputs": [
    {
     "data": {
      "text/plain": "                low          high\ncount  10679.000000  10721.000000\nmean     117.774230    156.075972\nstd        7.386252     12.429014\nmin       76.500000    142.000000\n25%      113.000000    146.500000\n50%      119.500000    153.000000\n75%      124.000000    162.000000\nmax      127.500000    246.000000",
      "text/html": "<div>\n<style scoped>\n    .dataframe tbody tr th:only-of-type {\n        vertical-align: middle;\n    }\n\n    .dataframe tbody tr th {\n        vertical-align: top;\n    }\n\n    .dataframe thead th {\n        text-align: right;\n    }\n</style>\n<table border=\"1\" class=\"dataframe\">\n  <thead>\n    <tr style=\"text-align: right;\">\n      <th></th>\n      <th>low</th>\n      <th>high</th>\n    </tr>\n  </thead>\n  <tbody>\n    <tr>\n      <th>count</th>\n      <td>10679.000000</td>\n      <td>10721.000000</td>\n    </tr>\n    <tr>\n      <th>mean</th>\n      <td>117.774230</td>\n      <td>156.075972</td>\n    </tr>\n    <tr>\n      <th>std</th>\n      <td>7.386252</td>\n      <td>12.429014</td>\n    </tr>\n    <tr>\n      <th>min</th>\n      <td>76.500000</td>\n      <td>142.000000</td>\n    </tr>\n    <tr>\n      <th>25%</th>\n      <td>113.000000</td>\n      <td>146.500000</td>\n    </tr>\n    <tr>\n      <th>50%</th>\n      <td>119.500000</td>\n      <td>153.000000</td>\n    </tr>\n    <tr>\n      <th>75%</th>\n      <td>124.000000</td>\n      <td>162.000000</td>\n    </tr>\n    <tr>\n      <th>max</th>\n      <td>127.500000</td>\n      <td>246.000000</td>\n    </tr>\n  </tbody>\n</table>\n</div>"
     },
     "execution_count": 4,
     "metadata": {},
     "output_type": "execute_result"
    }
   ],
   "source": [
    "threshold = 0.35\n",
    "lower_bound, upper_bound = cov_df.SBP.quantile([threshold, 1 - threshold]).values\n",
    "low_cov_df = cov_df[cov_df.SBP < lower_bound]\n",
    "high_cov_df = cov_df[upper_bound < cov_df.SBP]\n",
    "pd.concat([low_cov_df.SBP.describe(), high_cov_df.SBP.describe()], axis=1, keys=[\"low\", \"high\"])"
   ]
  },
  {
   "cell_type": "code",
   "execution_count": 5,
   "metadata": {
    "collapsed": false,
    "jupyter": {
     "outputs_hidden": false
    },
    "ExecuteTime": {
     "end_time": "2023-08-17T15:52:30.945332854Z",
     "start_time": "2023-08-17T15:52:30.705653113Z"
    }
   },
   "outputs": [
    {
     "data": {
      "text/plain": "              Sex       age       BMI\neid                                  \n1100542 -0.837467 -0.017329 -0.306785\n2071806  1.194021  0.593013  1.366313\n4670270 -0.837467 -1.848354 -1.124809\n3662467 -0.837467 -0.139397 -1.429703\n5301061  1.194021 -1.604218 -1.135897",
      "text/html": "<div>\n<style scoped>\n    .dataframe tbody tr th:only-of-type {\n        vertical-align: middle;\n    }\n\n    .dataframe tbody tr th {\n        vertical-align: top;\n    }\n\n    .dataframe thead th {\n        text-align: right;\n    }\n</style>\n<table border=\"1\" class=\"dataframe\">\n  <thead>\n    <tr style=\"text-align: right;\">\n      <th></th>\n      <th>Sex</th>\n      <th>age</th>\n      <th>BMI</th>\n    </tr>\n    <tr>\n      <th>eid</th>\n      <th></th>\n      <th></th>\n      <th></th>\n    </tr>\n  </thead>\n  <tbody>\n    <tr>\n      <th>1100542</th>\n      <td>-0.837467</td>\n      <td>-0.017329</td>\n      <td>-0.306785</td>\n    </tr>\n    <tr>\n      <th>2071806</th>\n      <td>1.194021</td>\n      <td>0.593013</td>\n      <td>1.366313</td>\n    </tr>\n    <tr>\n      <th>4670270</th>\n      <td>-0.837467</td>\n      <td>-1.848354</td>\n      <td>-1.124809</td>\n    </tr>\n    <tr>\n      <th>3662467</th>\n      <td>-0.837467</td>\n      <td>-0.139397</td>\n      <td>-1.429703</td>\n    </tr>\n    <tr>\n      <th>5301061</th>\n      <td>1.194021</td>\n      <td>-1.604218</td>\n      <td>-1.135897</td>\n    </tr>\n  </tbody>\n</table>\n</div>"
     },
     "execution_count": 5,
     "metadata": {},
     "output_type": "execute_result"
    }
   ],
   "source": [
    "correction_df = pd.concat([low_cov_df, high_cov_df])\n",
    "correction_cols = [\"Sex\", \"age\", \"BMI\"]\n",
    "correction_df = correction_df[correction_cols]\n",
    "correction_df = (correction_df - correction_df.mean()) / correction_df.std()\n",
    "correction_df.head()"
   ]
  },
  {
   "cell_type": "code",
   "execution_count": 6,
   "metadata": {
    "collapsed": false,
    "jupyter": {
     "outputs_hidden": false
    },
    "ExecuteTime": {
     "end_time": "2023-08-17T15:53:07.494074447Z",
     "start_time": "2023-08-17T15:52:30.735029640Z"
    }
   },
   "outputs": [
    {
     "data": {
      "text/plain": "           p2_id  dist\neid                   \n3636713  4051783   0.0\n2389551  2986916   0.0\n1528084  5331657   0.0\n2116722  4731896   0.0\n2263355  5522598   0.0",
      "text/html": "<div>\n<style scoped>\n    .dataframe tbody tr th:only-of-type {\n        vertical-align: middle;\n    }\n\n    .dataframe tbody tr th {\n        vertical-align: top;\n    }\n\n    .dataframe thead th {\n        text-align: right;\n    }\n</style>\n<table border=\"1\" class=\"dataframe\">\n  <thead>\n    <tr style=\"text-align: right;\">\n      <th></th>\n      <th>p2_id</th>\n      <th>dist</th>\n    </tr>\n    <tr>\n      <th>eid</th>\n      <th></th>\n      <th></th>\n    </tr>\n  </thead>\n  <tbody>\n    <tr>\n      <th>3636713</th>\n      <td>4051783</td>\n      <td>0.0</td>\n    </tr>\n    <tr>\n      <th>2389551</th>\n      <td>2986916</td>\n      <td>0.0</td>\n    </tr>\n    <tr>\n      <th>1528084</th>\n      <td>5331657</td>\n      <td>0.0</td>\n    </tr>\n    <tr>\n      <th>2116722</th>\n      <td>4731896</td>\n      <td>0.0</td>\n    </tr>\n    <tr>\n      <th>2263355</th>\n      <td>5522598</td>\n      <td>0.0</td>\n    </tr>\n  </tbody>\n</table>\n</div>"
     },
     "execution_count": 6,
     "metadata": {},
     "output_type": "execute_result"
    }
   ],
   "source": [
    "from scipy.spatial.distance import pdist, squareform\n",
    "\n",
    "similarities = squareform(pdist(correction_df))\n",
    "np.fill_diagonal(similarities, np.inf)\n",
    "similarities_df = pd.DataFrame(similarities, index=correction_df.index, columns=correction_df.index)\n",
    "similarities_sub_df = similarities_df.loc[low_cov_df.index, high_cov_df.index]\n",
    "\n",
    "paired_up_df = similarities_sub_df.idxmin().to_frame(\"p2_id\")\n",
    "paired_up_df[\"dist\"] = similarities_df.min()\n",
    "paired_up_df2 = similarities_sub_df.T.idxmin().to_frame(\"p2_id\")\n",
    "paired_up_df2[\"dist\"] = similarities_df.T.min()\n",
    "paired_up_df = pd.concat([paired_up_df, paired_up_df2])\n",
    "paired_up_df.sort_values(by=\"dist\", inplace=True)\n",
    "\n",
    "del similarities_df, similarities\n",
    "paired_up_df.head()"
   ]
  },
  {
   "cell_type": "code",
   "execution_count": 7,
   "metadata": {
    "collapsed": false,
    "jupyter": {
     "outputs_hidden": false
    },
    "ExecuteTime": {
     "end_time": "2023-08-17T15:53:07.527859280Z",
     "start_time": "2023-08-17T15:53:07.470918493Z"
    }
   },
   "outputs": [
    {
     "data": {
      "text/plain": "         Sex   age      BMI  Smokinstatus  Alcoholintakefrequency  HTNgroup  \\\neid                                                                           \n5519244  1.0  65.0  50.9975           1.0                     3.0       1.0   \n1939696  1.0  55.0  48.3703           0.0                     3.0       0.0   \n\n         fastingtime    SBP   DBP    PP  \neid                                      \n5519244          4.0  150.0  90.0  60.0  \n1939696         12.0  127.0  86.5  40.5  ",
      "text/html": "<div>\n<style scoped>\n    .dataframe tbody tr th:only-of-type {\n        vertical-align: middle;\n    }\n\n    .dataframe tbody tr th {\n        vertical-align: top;\n    }\n\n    .dataframe thead th {\n        text-align: right;\n    }\n</style>\n<table border=\"1\" class=\"dataframe\">\n  <thead>\n    <tr style=\"text-align: right;\">\n      <th></th>\n      <th>Sex</th>\n      <th>age</th>\n      <th>BMI</th>\n      <th>Smokinstatus</th>\n      <th>Alcoholintakefrequency</th>\n      <th>HTNgroup</th>\n      <th>fastingtime</th>\n      <th>SBP</th>\n      <th>DBP</th>\n      <th>PP</th>\n    </tr>\n    <tr>\n      <th>eid</th>\n      <th></th>\n      <th></th>\n      <th></th>\n      <th></th>\n      <th></th>\n      <th></th>\n      <th></th>\n      <th></th>\n      <th></th>\n      <th></th>\n    </tr>\n  </thead>\n  <tbody>\n    <tr>\n      <th>5519244</th>\n      <td>1.0</td>\n      <td>65.0</td>\n      <td>50.9975</td>\n      <td>1.0</td>\n      <td>3.0</td>\n      <td>1.0</td>\n      <td>4.0</td>\n      <td>150.0</td>\n      <td>90.0</td>\n      <td>60.0</td>\n    </tr>\n    <tr>\n      <th>1939696</th>\n      <td>1.0</td>\n      <td>55.0</td>\n      <td>48.3703</td>\n      <td>0.0</td>\n      <td>3.0</td>\n      <td>0.0</td>\n      <td>12.0</td>\n      <td>127.0</td>\n      <td>86.5</td>\n      <td>40.5</td>\n    </tr>\n  </tbody>\n</table>\n</div>"
     },
     "execution_count": 7,
     "metadata": {},
     "output_type": "execute_result"
    }
   ],
   "source": [
    "p1, p2, _ = paired_up_df.reset_index().iloc[-1].values\n",
    "cov_df.loc[[p1, p2]]"
   ]
  },
  {
   "cell_type": "code",
   "execution_count": 8,
   "metadata": {
    "collapsed": false,
    "jupyter": {
     "outputs_hidden": false
    },
    "ExecuteTime": {
     "end_time": "2023-08-17T15:53:08.918320553Z",
     "start_time": "2023-08-17T15:53:07.486908916Z"
    }
   },
   "outputs": [
    {
     "data": {
      "text/plain": "               low         high\ncount  5133.000000  5133.000000\nmean    118.922950   155.348821\nstd       6.843063    12.172580\nmin      76.500000   142.000000\n25%     115.000000   146.000000\n50%     120.500000   152.000000\n75%     124.500000   161.000000\nmax     127.500000   246.000000",
      "text/html": "<div>\n<style scoped>\n    .dataframe tbody tr th:only-of-type {\n        vertical-align: middle;\n    }\n\n    .dataframe tbody tr th {\n        vertical-align: top;\n    }\n\n    .dataframe thead th {\n        text-align: right;\n    }\n</style>\n<table border=\"1\" class=\"dataframe\">\n  <thead>\n    <tr style=\"text-align: right;\">\n      <th></th>\n      <th>low</th>\n      <th>high</th>\n    </tr>\n  </thead>\n  <tbody>\n    <tr>\n      <th>count</th>\n      <td>5133.000000</td>\n      <td>5133.000000</td>\n    </tr>\n    <tr>\n      <th>mean</th>\n      <td>118.922950</td>\n      <td>155.348821</td>\n    </tr>\n    <tr>\n      <th>std</th>\n      <td>6.843063</td>\n      <td>12.172580</td>\n    </tr>\n    <tr>\n      <th>min</th>\n      <td>76.500000</td>\n      <td>142.000000</td>\n    </tr>\n    <tr>\n      <th>25%</th>\n      <td>115.000000</td>\n      <td>146.000000</td>\n    </tr>\n    <tr>\n      <th>50%</th>\n      <td>120.500000</td>\n      <td>152.000000</td>\n    </tr>\n    <tr>\n      <th>75%</th>\n      <td>124.500000</td>\n      <td>161.000000</td>\n    </tr>\n    <tr>\n      <th>max</th>\n      <td>127.500000</td>\n      <td>246.000000</td>\n    </tr>\n  </tbody>\n</table>\n</div>"
     },
     "execution_count": 8,
     "metadata": {},
     "output_type": "execute_result"
    }
   ],
   "source": [
    "chosen = set()\n",
    "for p1_idx, (p2_idx, _) in paired_up_df.iterrows():\n",
    "    if p1_idx in chosen or p2_idx in chosen:\n",
    "        continue\n",
    "    chosen.add(p1_idx)\n",
    "    chosen.add(p2_idx)\n",
    "\n",
    "chosen_cov_df = cov_df.loc[list(chosen)]\n",
    "low_cov_df = chosen_cov_df[chosen_cov_df.SBP < lower_bound]\n",
    "high_cov_df = chosen_cov_df[upper_bound < chosen_cov_df.SBP]\n",
    "pd.concat([low_cov_df.SBP.describe(), high_cov_df.SBP.describe()], axis=1, keys=[\"low\", \"high\"])"
   ]
  },
  {
   "cell_type": "code",
   "execution_count": 9,
   "metadata": {
    "collapsed": false,
    "jupyter": {
     "outputs_hidden": false
    },
    "ExecuteTime": {
     "end_time": "2023-08-17T15:53:08.918712608Z",
     "start_time": "2023-08-17T15:53:08.916797051Z"
    }
   },
   "outputs": [
    {
     "data": {
      "text/plain": "               low                                   high               \\\n               Sex          age          BMI          Sex          age   \ncount  5133.000000  5133.000000  5133.000000  5133.000000  5133.000000   \nmean      0.431522    56.676018    26.796728     0.431522    56.678745   \nstd       0.495337     7.627332     4.289300     0.495337     7.626911   \nmin       0.000000    40.000000    15.353500     0.000000    40.000000   \n25%       0.000000    51.000000    23.843700     0.000000    51.000000   \n50%       0.000000    58.000000    26.228400     0.000000    58.000000   \n75%       1.000000    63.000000    29.039200     1.000000    63.000000   \nmax       1.000000    70.000000    55.134100     1.000000    70.000000   \n\n                    \n               BMI  \ncount  5133.000000  \nmean     26.798973  \nstd       4.289026  \nmin      15.657300  \n25%      23.857200  \n50%      26.225200  \n75%      29.054200  \nmax      56.501900  ",
      "text/html": "<div>\n<style scoped>\n    .dataframe tbody tr th:only-of-type {\n        vertical-align: middle;\n    }\n\n    .dataframe tbody tr th {\n        vertical-align: top;\n    }\n\n    .dataframe thead tr th {\n        text-align: left;\n    }\n</style>\n<table border=\"1\" class=\"dataframe\">\n  <thead>\n    <tr>\n      <th></th>\n      <th colspan=\"3\" halign=\"left\">low</th>\n      <th colspan=\"3\" halign=\"left\">high</th>\n    </tr>\n    <tr>\n      <th></th>\n      <th>Sex</th>\n      <th>age</th>\n      <th>BMI</th>\n      <th>Sex</th>\n      <th>age</th>\n      <th>BMI</th>\n    </tr>\n  </thead>\n  <tbody>\n    <tr>\n      <th>count</th>\n      <td>5133.000000</td>\n      <td>5133.000000</td>\n      <td>5133.000000</td>\n      <td>5133.000000</td>\n      <td>5133.000000</td>\n      <td>5133.000000</td>\n    </tr>\n    <tr>\n      <th>mean</th>\n      <td>0.431522</td>\n      <td>56.676018</td>\n      <td>26.796728</td>\n      <td>0.431522</td>\n      <td>56.678745</td>\n      <td>26.798973</td>\n    </tr>\n    <tr>\n      <th>std</th>\n      <td>0.495337</td>\n      <td>7.627332</td>\n      <td>4.289300</td>\n      <td>0.495337</td>\n      <td>7.626911</td>\n      <td>4.289026</td>\n    </tr>\n    <tr>\n      <th>min</th>\n      <td>0.000000</td>\n      <td>40.000000</td>\n      <td>15.353500</td>\n      <td>0.000000</td>\n      <td>40.000000</td>\n      <td>15.657300</td>\n    </tr>\n    <tr>\n      <th>25%</th>\n      <td>0.000000</td>\n      <td>51.000000</td>\n      <td>23.843700</td>\n      <td>0.000000</td>\n      <td>51.000000</td>\n      <td>23.857200</td>\n    </tr>\n    <tr>\n      <th>50%</th>\n      <td>0.000000</td>\n      <td>58.000000</td>\n      <td>26.228400</td>\n      <td>0.000000</td>\n      <td>58.000000</td>\n      <td>26.225200</td>\n    </tr>\n    <tr>\n      <th>75%</th>\n      <td>1.000000</td>\n      <td>63.000000</td>\n      <td>29.039200</td>\n      <td>1.000000</td>\n      <td>63.000000</td>\n      <td>29.054200</td>\n    </tr>\n    <tr>\n      <th>max</th>\n      <td>1.000000</td>\n      <td>70.000000</td>\n      <td>55.134100</td>\n      <td>1.000000</td>\n      <td>70.000000</td>\n      <td>56.501900</td>\n    </tr>\n  </tbody>\n</table>\n</div>"
     },
     "execution_count": 9,
     "metadata": {},
     "output_type": "execute_result"
    }
   ],
   "source": [
    "pd.concat([low_cov_df[correction_cols].describe(), high_cov_df[correction_cols].describe()], axis=1,\n",
    "          keys=[\"low\", \"high\"])"
   ]
  },
  {
   "cell_type": "markdown",
   "metadata": {
    "collapsed": false,
    "jupyter": {
     "outputs_hidden": false
    }
   },
   "source": [
    "## Classification"
   ]
  },
  {
   "cell_type": "code",
   "execution_count": 11,
   "metadata": {
    "collapsed": false,
    "jupyter": {
     "outputs_hidden": false
    },
    "ExecuteTime": {
     "end_time": "2023-08-17T15:54:09.868301931Z",
     "start_time": "2023-08-17T15:53:28.769606793Z"
    }
   },
   "outputs": [
    {
     "data": {
      "text/plain": "XGBClassifier(base_score=None, booster=None, callbacks=None,\n              colsample_bylevel=None, colsample_bynode=None,\n              colsample_bytree=None, early_stopping_rounds=None,\n              enable_categorical=False, eval_metric=None, feature_types=None,\n              gamma=None, gpu_id=None, grow_policy=None, importance_type=None,\n              interaction_constraints=None, learning_rate=None, max_bin=None,\n              max_cat_threshold=None, max_cat_to_onehot=None,\n              max_delta_step=None, max_depth=None, max_leaves=None,\n              min_child_weight=None, missing=nan, monotone_constraints=None,\n              n_estimators=100, n_jobs=None, num_parallel_tree=None,\n              predictor=None, random_state=42, ...)",
      "text/html": "<style>#sk-container-id-1 {color: black;}#sk-container-id-1 pre{padding: 0;}#sk-container-id-1 div.sk-toggleable {background-color: white;}#sk-container-id-1 label.sk-toggleable__label {cursor: pointer;display: block;width: 100%;margin-bottom: 0;padding: 0.3em;box-sizing: border-box;text-align: center;}#sk-container-id-1 label.sk-toggleable__label-arrow:before {content: \"▸\";float: left;margin-right: 0.25em;color: #696969;}#sk-container-id-1 label.sk-toggleable__label-arrow:hover:before {color: black;}#sk-container-id-1 div.sk-estimator:hover label.sk-toggleable__label-arrow:before {color: black;}#sk-container-id-1 div.sk-toggleable__content {max-height: 0;max-width: 0;overflow: hidden;text-align: left;background-color: #f0f8ff;}#sk-container-id-1 div.sk-toggleable__content pre {margin: 0.2em;color: black;border-radius: 0.25em;background-color: #f0f8ff;}#sk-container-id-1 input.sk-toggleable__control:checked~div.sk-toggleable__content {max-height: 200px;max-width: 100%;overflow: auto;}#sk-container-id-1 input.sk-toggleable__control:checked~label.sk-toggleable__label-arrow:before {content: \"▾\";}#sk-container-id-1 div.sk-estimator input.sk-toggleable__control:checked~label.sk-toggleable__label {background-color: #d4ebff;}#sk-container-id-1 div.sk-label input.sk-toggleable__control:checked~label.sk-toggleable__label {background-color: #d4ebff;}#sk-container-id-1 input.sk-hidden--visually {border: 0;clip: rect(1px 1px 1px 1px);clip: rect(1px, 1px, 1px, 1px);height: 1px;margin: -1px;overflow: hidden;padding: 0;position: absolute;width: 1px;}#sk-container-id-1 div.sk-estimator {font-family: monospace;background-color: #f0f8ff;border: 1px dotted black;border-radius: 0.25em;box-sizing: border-box;margin-bottom: 0.5em;}#sk-container-id-1 div.sk-estimator:hover {background-color: #d4ebff;}#sk-container-id-1 div.sk-parallel-item::after {content: \"\";width: 100%;border-bottom: 1px solid gray;flex-grow: 1;}#sk-container-id-1 div.sk-label:hover label.sk-toggleable__label {background-color: #d4ebff;}#sk-container-id-1 div.sk-serial::before {content: \"\";position: absolute;border-left: 1px solid gray;box-sizing: border-box;top: 0;bottom: 0;left: 50%;z-index: 0;}#sk-container-id-1 div.sk-serial {display: flex;flex-direction: column;align-items: center;background-color: white;padding-right: 0.2em;padding-left: 0.2em;position: relative;}#sk-container-id-1 div.sk-item {position: relative;z-index: 1;}#sk-container-id-1 div.sk-parallel {display: flex;align-items: stretch;justify-content: center;background-color: white;position: relative;}#sk-container-id-1 div.sk-item::before, #sk-container-id-1 div.sk-parallel-item::before {content: \"\";position: absolute;border-left: 1px solid gray;box-sizing: border-box;top: 0;bottom: 0;left: 50%;z-index: -1;}#sk-container-id-1 div.sk-parallel-item {display: flex;flex-direction: column;z-index: 1;position: relative;background-color: white;}#sk-container-id-1 div.sk-parallel-item:first-child::after {align-self: flex-end;width: 50%;}#sk-container-id-1 div.sk-parallel-item:last-child::after {align-self: flex-start;width: 50%;}#sk-container-id-1 div.sk-parallel-item:only-child::after {width: 0;}#sk-container-id-1 div.sk-dashed-wrapped {border: 1px dashed gray;margin: 0 0.4em 0.5em 0.4em;box-sizing: border-box;padding-bottom: 0.4em;background-color: white;}#sk-container-id-1 div.sk-label label {font-family: monospace;font-weight: bold;display: inline-block;line-height: 1.2em;}#sk-container-id-1 div.sk-label-container {text-align: center;}#sk-container-id-1 div.sk-container {/* jupyter's `normalize.less` sets `[hidden] { display: none; }` but bootstrap.min.css set `[hidden] { display: none !important; }` so we also need the `!important` here to be able to override the default hidden behavior on the sphinx rendered scikit-learn.org. See: https://github.com/scikit-learn/scikit-learn/issues/21755 */display: inline-block !important;position: relative;}#sk-container-id-1 div.sk-text-repr-fallback {display: none;}</style><div id=\"sk-container-id-1\" class=\"sk-top-container\"><div class=\"sk-text-repr-fallback\"><pre>XGBClassifier(base_score=None, booster=None, callbacks=None,\n              colsample_bylevel=None, colsample_bynode=None,\n              colsample_bytree=None, early_stopping_rounds=None,\n              enable_categorical=False, eval_metric=None, feature_types=None,\n              gamma=None, gpu_id=None, grow_policy=None, importance_type=None,\n              interaction_constraints=None, learning_rate=None, max_bin=None,\n              max_cat_threshold=None, max_cat_to_onehot=None,\n              max_delta_step=None, max_depth=None, max_leaves=None,\n              min_child_weight=None, missing=nan, monotone_constraints=None,\n              n_estimators=100, n_jobs=None, num_parallel_tree=None,\n              predictor=None, random_state=42, ...)</pre><b>In a Jupyter environment, please rerun this cell to show the HTML representation or trust the notebook. <br />On GitHub, the HTML representation is unable to render, please try loading this page with nbviewer.org.</b></div><div class=\"sk-container\" hidden><div class=\"sk-item\"><div class=\"sk-estimator sk-toggleable\"><input class=\"sk-toggleable__control sk-hidden--visually\" id=\"sk-estimator-id-1\" type=\"checkbox\" checked><label for=\"sk-estimator-id-1\" class=\"sk-toggleable__label sk-toggleable__label-arrow\">XGBClassifier</label><div class=\"sk-toggleable__content\"><pre>XGBClassifier(base_score=None, booster=None, callbacks=None,\n              colsample_bylevel=None, colsample_bynode=None,\n              colsample_bytree=None, early_stopping_rounds=None,\n              enable_categorical=False, eval_metric=None, feature_types=None,\n              gamma=None, gpu_id=None, grow_policy=None, importance_type=None,\n              interaction_constraints=None, learning_rate=None, max_bin=None,\n              max_cat_threshold=None, max_cat_to_onehot=None,\n              max_delta_step=None, max_depth=None, max_leaves=None,\n              min_child_weight=None, missing=nan, monotone_constraints=None,\n              n_estimators=100, n_jobs=None, num_parallel_tree=None,\n              predictor=None, random_state=42, ...)</pre></div></div></div></div></div>"
     },
     "execution_count": 11,
     "metadata": {},
     "output_type": "execute_result"
    }
   ],
   "source": [
    "from xgboost import XGBClassifier\n",
    "from sklearn.model_selection import cross_val_score\n",
    "\n",
    "x = ol_df.loc[chosen_cov_df.index]\n",
    "y = chosen_cov_df.index.isin(high_cov_df.index)\n",
    "\n",
    "est = XGBClassifier(tree_method=\"gpu_hist\", random_state=42)\n",
    "est.fit(x, y)\n",
    "# scores = cross_val_score(est, x, y, scoring=\"accuracy\", cv=5, n_jobs=5)\n",
    "# scores, scores.mean()"
   ]
  },
  {
   "cell_type": "code",
   "execution_count": 13,
   "outputs": [
    {
     "data": {
      "text/plain": "{'AARSD1': 0.0010935893515124917,\n 'ABHD14B': 0.00022652916959486902,\n 'ABL1': 0.0004242146678734571,\n 'ACAA1': 0.0003337656962685287,\n 'ACAN': 0.001136269187554717,\n 'ACE2': 0.005188326817005873,\n 'ACOX1': 0.0004556016647256911,\n 'ACP5': 0.0012314956402406096,\n 'ACP6': 0.0005510232294909656,\n 'ACTA2': 0.0016992379678413272,\n 'ACTN4': 0.0005096012610010803,\n 'ACVRL1': 0.00026541296392679214,\n 'ACY1': 0.005066273733973503,\n 'ADA': 0.0006456547416746616,\n 'ADA2': 0.0010410953545942903,\n 'ADAM15': 0.0006820888957008719,\n 'ADAM22': 0.00031960950582288206,\n 'ADAM23': 0.0009812968783080578,\n 'ADAM8': 0.0012958525912836194,\n 'ADAMTS13': 0.0007295347168110311,\n 'ADAMTS15': 0.00044374779099598527,\n 'ADAMTS16': 0.001064575044438243,\n 'ADAMTS8': 0.0010574125917628407,\n 'ADCYAP1R1': 0.0,\n 'ADGRB3': 0.00014466853463090956,\n 'ADGRE2': 0.0012658892665058374,\n 'ADGRE5': 0.000879454892128706,\n 'ADGRG1': 0.0008473297930322587,\n 'ADGRG2': 0.0009096745634451509,\n 'ADH4': 0.00024343139375559986,\n 'ADM': 0.0006564063369296491,\n 'AFP': 0.0004910023999400437,\n 'AGER': 0.001546644838526845,\n 'AGR2': 0.00036860877298749983,\n 'AGR3': 0.0005547871696762741,\n 'AGRN': 0.0008606633055023849,\n 'AGRP': 0.0005960208363831043,\n 'AGXT': 0.0002607206115499139,\n 'AHCY': 0.0024204705841839314,\n 'AHSP': 0.0009721520473249257,\n 'AIF1': 0.0,\n 'AIFM1': 0.001953007304109633,\n 'AK1': 0.001162368105724454,\n 'AKR1B1': 0.00022201631509233266,\n 'AKR1C4': 0.0005216846475377679,\n 'AKT1S1': 0.00013619466335512698,\n 'AKT3': 0.0005542397848330438,\n 'ALCAM': 0.0009998901514336467,\n 'ALDH1A1': 0.0008903421112336218,\n 'ALDH3A1': 0.000877258600667119,\n 'ALPP': 0.0,\n 'AMBN': 0.0004525556869339198,\n 'AMBP': 0.00062280596466735,\n 'AMFR': 0.0007330419612117112,\n 'AMIGO2': 0.0020163985900580883,\n 'AMN': 0.00015742274990770966,\n 'AMY2A': 0.0003324971767142415,\n 'AMY2B': 0.00033896404784172773,\n 'ANG': 0.0011298515601083636,\n 'ANGPT1': 0.0005881466204300523,\n 'ANGPT2': 0.00042257370660081506,\n 'ANGPTL1': 0.0007100232178345323,\n 'ANGPTL2': 2.0770479750353843e-05,\n 'ANGPTL3': 0.0013691813219338655,\n 'ANGPTL4': 0.0007682055584155023,\n 'ANGPTL7': 0.0011974199442192912,\n 'ANKRD54': 0.0,\n 'ANPEP': 0.0006807106547057629,\n 'ANXA10': 0.00086428556824103,\n 'ANXA11': 0.0006779353716410697,\n 'ANXA3': 0.0009486049530096352,\n 'ANXA4': 0.0,\n 'ANXA5': 0.0005962421419098973,\n 'AOC1': 0.0005395811749622226,\n 'AOC3': 0.00020872354798484594,\n 'APBB1IP': 0.0004142303951084614,\n 'APEX1': 0.000602526415605098,\n 'APLP1': 0.001245363149791956,\n 'APOH': 0.0010093756718561053,\n 'APOM': 0.0019197415094822645,\n 'APP': 7.960731454659253e-05,\n 'APRT': 0.00046826485777273774,\n 'AREG': 0.0012074178084731102,\n 'ARG1': 0.0010271132923662663,\n 'ARHGAP1': 0.0,\n 'ARHGAP25': 0.00013427490193862468,\n 'ARHGEF12': 0.0,\n 'ARID4B': 0.00034480818430893123,\n 'ARNT': 0.0006346689187921584,\n 'ARSA': 0.0016498997574672103,\n 'ARSB': 0.0,\n 'ART3': 0.00031824258621782064,\n 'ARTN': 0.0003656988264992833,\n 'ASAH2': 0.0008323509246110916,\n 'ASGR1': 0.0014299909817054868,\n 'ATF2': 0.000464251876110211,\n 'ATG4A': 0.0,\n 'ATOX1': 0.0017759317997843027,\n 'ATP5IF1': 0.00035767583176493645,\n 'ATP5PO': 3.926299905288033e-05,\n 'ATP6AP2': 0.0006332271732389927,\n 'ATP6V1D': 0.0003715514612849802,\n 'ATP6V1F': 0.000660182733554393,\n 'ATXN10': 0.0004644322325475514,\n 'AXIN1': 0.000679070595651865,\n 'AXL': 0.0,\n 'AZU1': 0.00014568577171303332,\n 'B4GALT1': 0.0002330354618607089,\n 'B4GAT1': 0.0009598128963261843,\n 'BACH1': 0.0007385025965049863,\n 'BAG3': 0.000785880780313164,\n 'BAG6': 0.0,\n 'BAIAP2': 0.0005781086510978639,\n 'BAMBI': 0.0013189328601583838,\n 'BANK1': 0.0,\n 'BAX': 0.00010135266347788274,\n 'BCAM': 0.0009739933884702623,\n 'BCAN': 0.001337983412668109,\n 'BCL2L11': 0.0006701246602460742,\n 'BCR': 0.0023463258985430002,\n 'BGN': 0.0002234828134533018,\n 'BID': 0.0008905458962544799,\n 'BIN2': 0.0,\n 'BIRC2': 0.00020969832257833332,\n 'BLMH': 0.000914189440663904,\n 'BLVRB': 0.0006128718960098922,\n 'BMP4': 0.0017793446313589811,\n 'BMP6': 0.00044194702059030533,\n 'BOC': 0.0005237228469923139,\n 'BPIFB1': 0.0007317019044421613,\n 'BRK1': 0.0004898497718386352,\n 'BSG': 0.0012037493288516998,\n 'BST1': 0.0005173204117454588,\n 'BST2': 0.0004934644675813615,\n 'BTC': 0.0003349428588990122,\n 'BTN2A1': 0.0012010735226795077,\n 'BTN3A2': 0.0006733059417456388,\n 'C19orf12': 0.00035683452733792365,\n 'C1QA': 0.001641935552470386,\n 'C1QTNF1': 0.0005571708315983415,\n 'C2': 0.0009353194618597627,\n 'C2CD2L': 0.00016171662718988955,\n 'C4BPB': 0.0007750519434921443,\n 'CA1': 0.00033520764554850757,\n 'CA11': 0.0005556129035539925,\n 'CA12': 0.00043370117782615125,\n 'CA13': 0.00021196262969169766,\n 'CA14': 0.0005899485549889505,\n 'CA2': 0.0010272057261317968,\n 'CA3': 0.0013527617556974292,\n 'CA4': 0.00029634067323058844,\n 'CA5A': 0.00018788754823617637,\n 'CA6': 0.001934576197527349,\n 'CA9': 0.0008142756996676326,\n 'CALB1': 0.0006163780344650149,\n 'CALB2': 0.001560883247293532,\n 'CALCA': 0.0004093961324542761,\n 'CALCOCO1': 0.00020444361143745482,\n 'CAMKK1': 0.0008243518532253802,\n 'CANT1': 0.0008419236983172596,\n 'CAPG': 0.00033722887746989727,\n 'CARHSP1': 0.0012991991825401783,\n 'CASP1': 0.0006848847842775285,\n 'CASP10': 0.00025619103689678013,\n 'CASP2': 0.0,\n 'CASP3': 0.0,\n 'CASP8': 0.0007304312312044203,\n 'CBLIF': 0.0007621828699484468,\n 'CBLN4': 0.0007303383899852633,\n 'CC2D1A': 0.0,\n 'CCDC80': 0.00019572932797018439,\n 'CCL11': 0.00014211828238330781,\n 'CCL13': 0.001342520583420992,\n 'CCL14': 0.00041019910713657737,\n 'CCL15': 0.0005282221827656031,\n 'CCL16': 0.0005194568657316267,\n 'CCL17': 0.0008126977481879294,\n 'CCL18': 0.0007078376947902143,\n 'CCL19': 0.0004348798538558185,\n 'CCL2': 0.000764401804190129,\n 'CCL20': 0.00032430930878035724,\n 'CCL21': 0.0,\n 'CCL22': 0.0005567804910242558,\n 'CCL23': 0.0007285722531378269,\n 'CCL24': 0.00039442259003408253,\n 'CCL25': 0.0006320965476334095,\n 'CCL26': 0.0010381567990407348,\n 'CCL27': 0.00044781624455936253,\n 'CCL28': 0.000619285914581269,\n 'CCL3': 0.0010375004494562745,\n 'CCL4': 0.00011846317647723481,\n 'CCL5': 0.0,\n 'CCL7': 0.0011229608207941055,\n 'CCL8': 0.0003492218966130167,\n 'CCN1': 0.002157607115805149,\n 'CCN2': 0.00035032647429034114,\n 'CCN3': 0.00044283311581239104,\n 'CCN4': 0.0008919480605982244,\n 'CCN5': 0.0007583308033645153,\n 'CCS': 0.00031593505991622806,\n 'CCT5': 0.0011759917251765728,\n 'CD109': 0.0005925315199419856,\n 'CD14': 0.00012342730769887567,\n 'CD160': 0.0010544396936893463,\n 'CD163': 0.0005919972900301218,\n 'CD164': 0.00016491908172611147,\n 'CD177': 0.0005215504788793623,\n 'CD1C': 0.00020817639597225934,\n 'CD200': 0.0007910093991085887,\n 'CD200R1': 0.0001849094551289454,\n 'CD207': 0.00044808050733990967,\n 'CD209': 0.0010246793972328305,\n 'CD22': 0.00018274746253155172,\n 'CD244': 0.0009751400793902576,\n 'CD27': 0.0005954380612820387,\n 'CD274': 0.0010254962835460901,\n 'CD276': 0.00042382016545161605,\n 'CD28': 0.0015298391226679087,\n 'CD2AP': 0.0003900920273736119,\n 'CD300C': 0.0006557721644639969,\n 'CD300E': 0.002028220798820257,\n 'CD300LF': 0.0005880071548745036,\n 'CD300LG': 0.0014446579152718186,\n 'CD302': 0.0,\n 'CD33': 0.00064319116063416,\n 'CD34': 0.000961961573921144,\n 'CD38': 0.0006873167585581541,\n 'CD4': 0.0,\n 'CD40': 0.0,\n 'CD40LG': 0.00022541538055520505,\n 'CD46': 0.00046759945689700544,\n 'CD48': 0.0004536627675406635,\n 'CD5': 0.0005937429377809167,\n 'CD55': 0.00031632246100343764,\n 'CD58': 0.0007051154389046133,\n 'CD59': 0.0007345561170950532,\n 'CD6': 0.001123979571275413,\n 'CD63': 0.00010188703890889883,\n 'CD69': 0.0,\n 'CD70': 0.000474190543172881,\n 'CD74': 0.0,\n 'CD79B': 0.0004477995971683413,\n 'CD83': 0.00030600212630815804,\n 'CD84': 0.0002441501710563898,\n 'CD8A': 0.0001536217168904841,\n 'CD93': 0.0005379462381824851,\n 'CD99': 0.00015998771414160728,\n 'CD99L2': 0.0014614349929615855,\n 'CDC27': 0.0002280583285028115,\n 'CDC37': 0.0,\n 'CDCP1': 0.0015444197924807668,\n 'CDH1': 0.00028054596623405814,\n 'CDH15': 0.0007380300667136908,\n 'CDH17': 0.0005450505996122956,\n 'CDH2': 0.0003494237898848951,\n 'CDH3': 0.0005442594410851598,\n 'CDH5': 0.00106053554918617,\n 'CDH6': 0.00020900489471387118,\n 'CDHR1': 0.0005659069865942001,\n 'CDHR2': 0.0009527773363515735,\n 'CDHR5': 0.0005413615726865828,\n 'CDKN1A': 0.0,\n 'CDKN2D': 0.0,\n 'CDNF': 0.0014709626557305455,\n 'CDON': 0.0004101913655176759,\n 'CDSN': 0.0002889429160859436,\n 'CEACAM1': 0.0008040949469432235,\n 'CEACAM21': 0.0004576566570904106,\n 'CEACAM3': 0.0005929526523686945,\n 'CEACAM5': 0.0005137501866556704,\n 'CEACAM8': 0.0009262223611585796,\n 'CEBPB': 0.0006486934144049883,\n 'CELA3A': 0.0009795927908271551,\n 'CEP164': 0.0009979328606277704,\n 'CEP20': 0.001115672173909843,\n 'CEP43': 0.00037602713564410806,\n 'CEP85': 0.0015367381274700165,\n 'CERT': 0.000110262815724127,\n 'CES1': 0.0005940299015492201,\n 'CES2': 0.0006384954904206097,\n 'CES3': 0.00040786407771520317,\n 'CETN2': 0.001074601779691875,\n 'CFC1': 0.001458433223888278,\n 'CGA': 0.0006767722661606967,\n 'CGREF1': 0.0006310552707873285,\n 'CHAC2': 0.0009686104021966457,\n 'CHEK2': 0.0005765258683823049,\n 'CHGB': 0.001726581365801394,\n 'CHI3L1': 0.0015750034945085645,\n 'CHIT1': 0.0020041964016854763,\n 'CHL1': 0.0018983188783749938,\n 'CHMP1A': 0.0009451414225623012,\n 'CHRDL1': 0.0011591572547331452,\n 'CHRDL2': 0.00022979934874456376,\n 'CIAPIN1': 0.0,\n 'CKAP4': 0.0012968664523214102,\n 'CKMT1A_CKMT1B': 0.0008092103525996208,\n 'CLC': 0.0003040074079763144,\n 'CLEC10A': 0.0008893960621207952,\n 'CLEC11A': 0.0015712665626779199,\n 'CLEC14A': 0.0013485142262652516,\n 'CLEC1A': 0.0010014430154114962,\n 'CLEC1B': 0.00013302700244821608,\n 'CLEC4A': 0.0019283323781564832,\n 'CLEC4C': 0.00043634563917294145,\n 'CLEC4D': 0.0007424011128023267,\n 'CLEC4G': 0.0013516821200028062,\n 'CLEC5A': 0.0014410115545615554,\n 'CLEC6A': 0.0005915581132285297,\n 'CLEC7A': 0.000617753597907722,\n 'CLIP2': 0.0015684725949540734,\n 'CLMP': 0.00029338712920434773,\n 'CLPP': 0.0004932066076435149,\n 'CLPS': 0.0009876369731500745,\n 'CLSPN': 0.0011528820032253861,\n 'CLSTN1': 0.0012305232230573893,\n 'CLSTN2': 0.0011782074579969049,\n 'CLTA': 0.0009229264687746763,\n 'CLUL1': 0.0007467540563084185,\n 'CNDP1': 0.0,\n 'CNPY2': 0.00015131631516851485,\n 'CNPY4': 0.0,\n 'CNST': 0.0008272255654446781,\n 'CNTN1': 0.0,\n 'CNTN2': 0.00026610965142026544,\n 'CNTN3': 0.0012093414552509785,\n 'CNTN4': 0.001014637527987361,\n 'CNTN5': 0.0005044046556577086,\n 'CNTNAP2': 0.000384726794436574,\n 'COL18A1': 0.0003320531395729631,\n 'COL1A1': 0.0014634063700214028,\n 'COL4A1': 0.0009856559336185455,\n 'COL6A3': 0.00040432444075122476,\n 'COL9A1': 0.00010105661931447685,\n 'COLEC12': 0.0022829710505902767,\n 'COMP': 0.0,\n 'COMT': 0.0,\n 'COPE': 0.0005201025633141398,\n 'CORO1A': 0.00038881716318428516,\n 'COX5B': 8.46914408612065e-05,\n 'CPA1': 0.0008276136359199882,\n 'CPA2': 0.0007682853611186147,\n 'CPB1': 0.00022607493156101555,\n 'CPE': 0.0007478425395675004,\n 'CPM': 0.001119226566515863,\n 'CPPED1': 0.0001700200664345175,\n 'CPVL': 0.0005625369376502931,\n 'CPXM1': 0.0008498675306327641,\n 'CR2': 0.0004745909827761352,\n 'CRACR2A': 0.0,\n 'CRADD': 0.0,\n 'CREG1': 0.0004122431855648756,\n 'CRELD2': 0.0008614929392933846,\n 'CRH': 0.0005727318930439651,\n 'CRHBP': 0.0004161772085353732,\n 'CRHR1': 0.00020264390332158655,\n 'CRIM1': 0.0005944386357441545,\n 'CRIP2': 0.0015693185850977898,\n 'CRISP2': 0.0013057205360382795,\n 'CRKL': 0.002004296751692891,\n 'CRLF1': 0.0013855701545253396,\n 'CRNN': 0.0005540122510865331,\n 'CRTAC1': 0.0012672930024564266,\n 'CRTAM': 0.0009764984715729952,\n 'CRX': 0.000528683653101325,\n 'CSF1': 0.00020177340775262564,\n 'CSF2RA': 0.0007113918545655906,\n 'CSF3': 0.0007849271642044187,\n 'CST3': 0.0004844337236136198,\n 'CST5': 0.0005822828970849514,\n 'CST6': 0.0009925765916705132,\n 'CST7': 0.0008875050116330385,\n 'CSTB': 0.00010152986942557618,\n 'CTF1': 0.0003195430035702884,\n 'CTRB1': 0.0007033318979665637,\n 'CTRC': 0.0006407046457752585,\n 'CTSB': 0.0008847810095176101,\n 'CTSC': 0.0006605884409509599,\n 'CTSD': 0.0002331585856154561,\n 'CTSF': 9.655271423980594e-05,\n 'CTSH': 0.00038910022703930736,\n 'CTSL': 0.00041484524263069034,\n 'CTSO': 9.180193592328578e-05,\n 'CTSS': 0.0001677840482443571,\n 'CTSV': 0.0014334325678646564,\n 'CTSZ': 0.0002363451785640791,\n 'CX3CL1': 0.0004890912096016109,\n 'CXADR': 0.00017175456741824746,\n 'CXCL1': 0.0006070075905881822,\n 'CXCL10': 0.0006326073780655861,\n 'CXCL11': 0.00017889996524900198,\n 'CXCL12': 0.0002299750194652006,\n 'CXCL13': 0.00012243163655512035,\n 'CXCL14': 0.0010221663396805525,\n 'CXCL16': 0.000696128758136183,\n 'CXCL17': 0.0009312545298598707,\n 'CXCL3': 9.243773092748597e-05,\n 'CXCL5': 0.00021247209224384278,\n 'CXCL6': 0.0008241296745836735,\n 'CXCL8': 0.0005003621918149292,\n 'CXCL9': 0.0003529913374222815,\n 'DAB2': 0.0,\n 'DAG1': 0.0007719300338067114,\n 'DAPP1': 0.0,\n 'DARS1': 0.0,\n 'DBI': 0.000777230248786509,\n 'DBNL': 0.0,\n 'DCBLD2': 0.0005551805370487273,\n 'DCN': 0.0009542613988742232,\n 'DCTN1': 8.477413939544931e-05,\n 'DCTN2': 0.0007561203092336655,\n 'DCTN6': 0.00019317129044793546,\n 'DCTPP1': 0.0005044566933065653,\n 'DCXR': 0.0007490138523280621,\n 'DDAH1': 0.0006294177146628499,\n 'DDC': 0.00011347443796694279,\n 'DDR1': 0.0010966671397909522,\n 'DDX58': 0.0028174142353236675,\n 'DECR1': 0.0,\n 'DEFA1_DEFA1B': 0.0008265122887678444,\n 'DEFB4A_DEFB4B': 0.00044516398338600993,\n 'DFFA': 0.0,\n 'DGKZ': 0.00021908432245254517,\n 'DIABLO': 0.0,\n 'DKK1': 0.00023206979676615447,\n 'DKK3': 0.0007821263279765844,\n 'DKK4': 0.0007809562957845628,\n 'DKKL1': 0.001252316520549357,\n 'DLK1': 0.0007535421755164862,\n 'DLL1': 0.0011979351984336972,\n 'DNAJA2': 0.0012786121806129813,\n 'DNAJB1': 0.0009155262960121036,\n 'DNAJB8': 0.0005154365207999945,\n 'DNER': 0.0007862267666496336,\n 'DNMBP': 0.0008541181450709701,\n 'DNPH1': 0.0006541230832226574,\n 'DOK2': 0.0,\n 'DPEP1': 0.0006928109214641154,\n 'DPEP2': 0.0008713580318726599,\n 'DPP10': 0.00038204476004466414,\n 'DPP4': 0.0007417942979373038,\n 'DPP6': 0.0008878601947799325,\n 'DPP7': 0.000948749715462327,\n 'DPT': 0.0011487846495583653,\n 'DPY30': 0.001025474164634943,\n 'DRAXIN': 0.0008989423513412476,\n 'DRG2': 0.0003938620211556554,\n 'DSC2': 0.0012789091560989618,\n 'DSG2': 0.0007411522092297673,\n 'DSG3': 0.001062705647200346,\n 'DSG4': 0.0001571671018609777,\n 'DTX3': 0.0013587293215095997,\n 'DUOX2': 0.0010328544303774834,\n 'DUSP3': 0.0010013642022386193,\n 'EBAG9': 0.0007021146011538804,\n 'EBI3_IL27': 0.0008735183509998024,\n 'ECE1': 0.001099616987630725,\n 'EDA2R': 0.0002588959177955985,\n 'EDAR': 0.000560031330678612,\n 'EDIL3': 0.0008067070157267153,\n 'EFEMP1': 0.0002156257105525583,\n 'EFNA1': 0.001437467522919178,\n 'EFNA4': 0.00044383242493495345,\n 'EGF': 0.0,\n 'EGFL7': 0.00047222277498804033,\n 'EGFR': 0.0005595825496129692,\n 'EGLN1': 0.00044734287075698376,\n 'EIF4B': 0.0003051619278267026,\n 'EIF4EBP1': 0.0026160196866840124,\n 'EIF4G1': 0.0,\n 'EIF5A': 0.0009375920635648072,\n 'ELOA': 0.0,\n 'ENAH': 0.00047682784497737885,\n 'ENG': 0.0007742241723462939,\n 'ENO1': 0.0,\n 'ENO2': 0.0,\n 'ENPP2': 0.0002816341584548354,\n 'ENPP5': 0.0015197661705315113,\n 'ENPP7': 0.00021936721168458462,\n 'ENTPD2': 0.0001732278906274587,\n 'ENTPD5': 0.0013478350592777133,\n 'ENTPD6': 0.00047148228622972965,\n 'EPCAM': 0.0007252054056152701,\n 'EPHA1': 0.0020313626155257225,\n 'EPHA10': 0.000985851394943893,\n 'EPHA2': 0.0006405028398148715,\n 'EPHB4': 0.0,\n 'EPHB6': 0.0007841213955543935,\n 'EPHX2': 0.0002629182708915323,\n 'EPO': 0.0006019106367602944,\n 'EPS8L2': 0.0004220125265419483,\n 'ERBB2': 0.00833542924374342,\n 'ERBB3': 0.0006294099148362875,\n 'ERBB4': 0.0007993049803189933,\n 'ERBIN': 0.0,\n 'EREG': 0.0,\n 'ERP44': 0.0,\n 'ESAM': 0.000881622894667089,\n 'ESM1': 0.00033769759465940297,\n 'EZR': 0.0002564620808698237,\n 'F11R': 0.0007092867745086551,\n 'F2R': 0.000920727092307061,\n 'F3': 0.000996799673885107,\n 'F7': 0.0014533211942762136,\n 'F9': 0.00034946142113767564,\n 'FABP1': 0.0009511011885479093,\n 'FABP2': 0.00044253270607441664,\n 'FABP4': 0.0004547775606624782,\n 'FABP5': 0.0006978383753448725,\n 'FABP6': 0.000939216639380902,\n 'FABP9': 0.000567676848731935,\n 'FADD': 0.0,\n 'FAM3B': 0.0006780735566280782,\n 'FAM3C': 0.0009274721960537136,\n 'FAP': 0.0008237235597334802,\n 'FAS': 0.0002904277644120157,\n 'FASLG': 0.00044448397238738835,\n 'FBP1': 0.0008938260143622756,\n 'FCAR': 0.0007688038749620318,\n 'FCER2': 0.0005002797115594149,\n 'FCGR2A': 0.0005825444241054356,\n 'FCGR2B': 0.002001127228140831,\n 'FCGR3B': 0.0007992142927832901,\n 'FCN2': 0.0003316569491289556,\n 'FCRL1': 0.0010771886445581913,\n 'FCRL2': 0.0013682895805686712,\n 'FCRL3': 0.00019628902373369783,\n 'FCRL5': 0.0011064860736951232,\n 'FCRL6': 0.0005524057778529823,\n 'FCRLB': 0.00040025889757089317,\n 'FEN1': 0.0004585158312693238,\n 'FES': 0.00032590815681032836,\n 'FETUB': 0.0006208019913174212,\n 'FGF19': 0.0009893873939290643,\n 'FGF2': 0.0003660910588223487,\n 'FGF21': 0.0023022990208119154,\n 'FGF23': 0.0008239070302806795,\n 'FGF5': 0.0004992635804228485,\n 'FGFBP1': 0.0012540428433567286,\n 'FGFR2': 0.0013724679592996836,\n 'FGR': 0.0009004388120956719,\n 'FHIT': 0.0,\n 'FIS1': 0.0,\n 'FKBP1B': 0.000662264006678015,\n 'FKBP4': 0.0,\n 'FKBP5': 0.0004984710249118507,\n 'FKBP7': 0.001162611530162394,\n 'FLI1': 6.630088137171697e-06,\n 'FLRT2': 0.0012832842767238617,\n 'FLT1': 0.000401516241254285,\n 'FLT3': 0.000819185865111649,\n 'FLT3LG': 0.0008836521301418543,\n 'FLT4': 0.0004730864893645048,\n 'FMNL1': 0.0009635059395805001,\n 'FMR1': 0.0009124632924795151,\n 'FOLR1': 0.0009350875043310225,\n 'FOLR2': 0.0005853636539541185,\n 'FOLR3': 0.0003752906050067395,\n 'FOSB': 0.0011803883826360106,\n 'FOXO1': 0.0008040015236474574,\n 'FOXO3': 0.0006931181997060776,\n 'FRZB': 0.0020570706110447645,\n 'FST': 0.0012462822487577796,\n 'FSTL3': 0.00145080522634089,\n 'FUCA1': 0.0007443198701366782,\n 'FURIN': 0.0005888535524718463,\n 'FUS': 0.000613359734416008,\n 'FUT3_FUT5': 0.0002038420643657446,\n 'FUT8': 0.00017286368529312313,\n 'FXN': 0.00029695581179112196,\n 'FXYD5': 0.0,\n 'FYB1': 0.0,\n 'GAL': 0.0014971550554037094,\n 'GALNT10': 0.0018512173555791378,\n 'GALNT2': 0.001333505380898714,\n 'GALNT3': 0.0004979459336027503,\n 'GALNT7': 0.0007707990007475019,\n 'GAS6': 0.000144132791319862,\n 'GBP2': 0.0007528018322773278,\n 'GBP4': 0.00018355932843405753,\n 'GCG': 0.001524530933238566,\n 'GCNT1': 0.0010689090704545379,\n 'GDF15': 0.0006724016275256872,\n 'GDF2': 0.0007736317929811776,\n 'GDNF': 0.0005005007842555642,\n 'GFAP': 0.0009824071312323213,\n 'GFER': 0.0013146079145371914,\n 'GFOD2': 0.0003935716231353581,\n 'GFRA1': 0.0005996309919282794,\n 'GFRA2': 0.00015898430137895048,\n 'GFRA3': 0.0007546008564531803,\n 'GGA1': 0.00042683561332523823,\n 'GGH': 0.0006173019064590335,\n 'GGT1': 0.0020656874403357506,\n 'GGT5': 0.000719415198545903,\n 'GH1': 0.0004421661142259836,\n 'GH2': 0.0004826314398087561,\n 'GHRHR': 0.0005085384473204613,\n 'GHRL': 0.0005853990442119539,\n 'GKN1': 0.0007661867421120405,\n 'GLB1': 0.0008482643752358854,\n 'GLO1': 0.0002298148174304515,\n 'GLOD4': 0.0,\n 'GLRX': 0.0011677817674353719,\n 'GLT8D2': 0.0004822159244213253,\n 'GMPR': 0.001521913567557931,\n 'GNE': 0.0006669229478575289,\n 'GNLY': 0.0005266327643766999,\n 'GOLM2': 0.0005816873745061457,\n 'GOPC': 0.002055724384263158,\n 'GP1BA': 0.00048186234198510647,\n 'GP2': 0.0005064500728622079,\n 'GP6': 0.00010438839672133327,\n 'GPA33': 0.0007960906368680298,\n 'GPC1': 0.0023587800096720457,\n 'GPC5': 0.0005678143934346735,\n 'GPKOW': 0.00093737558927387,\n 'GPNMB': 0.00020885599951725453,\n 'GPR37': 0.0005470497417263687,\n 'GRAP2': 0.0,\n 'GRK5': 0.0,\n 'GRN': 0.0008215720881707966,\n 'GRPEL1': 0.00047744851326569915,\n 'GSAP': 0.0007055293535813689,\n 'GSTA1': 0.0021397480741143227,\n 'GSTA3': 0.00017870737065095454,\n 'GSTP1': 0.000357666052877903,\n 'GUCA2A': 0.00171494553796947,\n 'GUSB': 0.0006235399632714689,\n 'GYS1': 0.0002590249350760132,\n 'GZMA': 0.0013342011952772737,\n 'GZMB': 0.001112600089982152,\n 'GZMH': 0.00041713329846970737,\n 'HAGH': 0.0008075093501247466,\n 'HAO1': 0.0006625693058595061,\n 'HARS1': 0.0,\n 'HAVCR1': 0.0017318603349849582,\n 'HAVCR2': 0.001999867847189307,\n 'HBEGF': 0.001104559749364853,\n 'HBQ1': 0.0009910649387165904,\n 'HCLS1': 0.0,\n 'HDGF': 0.0004081257211510092,\n 'HEBP1': 0.00022459379397332668,\n 'HEXIM1': 0.0,\n 'HGF': 0.0013519657077267766,\n 'HGS': 0.0,\n 'HK2': 0.000442916207248345,\n 'HLA-DRA': 0.0004381343023851514,\n 'HLA-E': 0.001256217248737812,\n 'HMBS': 0.0004679702688008547,\n 'HMOX1': 0.00024301555822603405,\n 'HMOX2': 0.0009449589415453374,\n 'HNMT': 0.0005086660967208445,\n 'HNRNPK': 0.0001961051457328722,\n 'HPCAL1': 0.0002998171839863062,\n 'HPGDS': 0.000787378812674433,\n 'HS3ST3B1': 0.0009538792073726654,\n 'HS6ST1': 0.0012381748529151082,\n 'HSD11B1': 0.001366414362564683,\n 'HSP90B1': 0.0002976407122332603,\n 'HSPA1A': 0.0,\n 'HSPB1': 0.0010249917395412922,\n 'HSPB6': 0.000933108851313591,\n 'HSPG2': 0.0008517414680682123,\n 'HTRA2': 0.0004795692802872509,\n 'HYAL1': 0.0007712094229646027,\n 'HYOU1': 0.0010020717745646834,\n 'ICA1': 0.0,\n 'ICAM1': 0.0011515020160004497,\n 'ICAM2': 0.0002463786513544619,\n 'ICAM3': 0.00023085916473064572,\n 'ICAM4': 0.0007807872025296092,\n 'ICAM5': 0.0003646506229415536,\n 'ICOSLG': 0.0,\n 'IDI2': 0.0004239685367792845,\n 'IDS': 0.0002971694339066744,\n 'IDUA': 0.0011847420828416944,\n 'IFNG': 0.0007572604808956385,\n 'IFNGR1': 0.0003272157337050885,\n 'IFNGR2': 0.0015359611716121435,\n 'IFNL1': 0.00022734115191269666,\n 'IFNLR1': 0.0009190805139951408,\n 'IGF1R': 0.00039409109740518034,\n 'IGF2R': 0.0019317518454045057,\n 'IGFBP1': 0.0007138060755096376,\n 'IGFBP2': 0.0007212057244032621,\n 'IGFBP3': 0.0008985390304587781,\n 'IGFBP4': 0.0,\n 'IGFBP6': 9.73840506048873e-05,\n 'IGFBP7': 0.00018187733076047152,\n 'IGFBPL1': 0.0009524553315714002,\n 'IGSF3': 0.0005551492795348167,\n 'IGSF8': 0.0008235124405473471,\n 'IKBKG': 0.0,\n 'IKZF2': 0.00026441278168931603,\n 'IL10': 0.000740915653295815,\n 'IL10RA': 0.0007159551605582237,\n 'IL10RB': 0.0013736949767917395,\n 'IL11': 0.0007619689567945898,\n 'IL12A_IL12B': 0.0006689744186587632,\n 'IL12B': 0.0011769100092351437,\n 'IL12RB1': 0.00037239151424728334,\n 'IL13': 0.0005125727620907128,\n 'IL13RA1': 0.0005020316457375884,\n 'IL15': 0.0011547335889190435,\n 'IL15RA': 0.00015414072549901903,\n 'IL16': 0.0009463086607865989,\n 'IL17A': 0.00038263489841483533,\n 'IL17C': 0.00048490226618014276,\n 'IL17D': 0.000576878315769136,\n 'IL17F': 0.0004893065779469907,\n 'IL17RA': 0.0001852281129686162,\n 'IL17RB': 0.0014272923581302166,\n 'IL18': 0.0011960394913330674,\n 'IL18BP': 0.0018432722426950932,\n 'IL18R1': 0.0007911358261480927,\n 'IL18RAP': 0.0004970228765159845,\n 'IL19': 0.0007346321363002062,\n 'IL1A': 0.0009561482002027333,\n 'IL1B': 0.0001838833122747019,\n 'IL1R1': 0.0011136302491649985,\n 'IL1R2': 0.013961100950837135,\n 'IL1RAP': 0.00022031061234883964,\n 'IL1RL1': 0.0013139719376340508,\n 'IL1RL2': 0.0015664038946852088,\n 'IL1RN': 0.0013214416103437543,\n 'IL2': 0.0004619958344846964,\n 'IL20': 0.000715220405254513,\n 'IL20RA': 0.0006957336445339024,\n 'IL22RA1': 0.00038292325916700065,\n 'IL24': 0.0006265618721954525,\n 'IL2RA': 0.0005948464968241751,\n 'IL2RB': 0.000375550938770175,\n 'IL32': 0.000568061601370573,\n 'IL33': 0.0005706367664970458,\n 'IL34': 0.0005181175074540079,\n 'IL3RA': 0.0005309705156832933,\n 'IL4': 0.0005607890198007226,\n 'IL4R': 0.0010755403200164437,\n 'IL5': 0.0009753782069310546,\n 'IL5RA': 0.0006176512106321752,\n 'IL6': 0.000514729879796505,\n 'IL6R': 0.0,\n 'IL6ST': 0.0005737135070376098,\n 'IL7': 0.0008038056548684835,\n 'IL7R': 0.0002438477531541139,\n 'ILKAP': 0.0010552923195064068,\n 'IMPA1': 0.00017510796897113323,\n 'ING1': 0.00019471085397526622,\n 'INHBC': 0.0006245808908715844,\n 'INPP1': 0.0013392686378210783,\n 'INPPL1': 0.0,\n 'IPCEF1': 0.00013900620979256928,\n 'IQGAP2': 0.0010236749658361077,\n 'IRAG2': 0.0009200331405736506,\n 'IRAK1': 0.0003855517425108701,\n 'IRAK4': 0.00015514965343754739,\n 'ISLR2': 0.000344460568157956,\n 'ISM1': 0.0008688356610946357,\n 'ITGA11': 0.0005122642614878714,\n 'ITGA5': 0.0003580257762223482,\n 'ITGA6': 0.0005644283955916762,\n 'ITGAM': 0.000781182199716568,\n 'ITGAV': 0.002031590323895216,\n 'ITGB1': 0.00014709462993778288,\n 'ITGB1BP1': 0.0007454976439476013,\n 'ITGB1BP2': 0.0,\n 'ITGB2': 0.00024999392917379737,\n 'ITGB5': 0.0008255441789515316,\n 'ITGB6': 0.0004385710053611547,\n 'ITGB7': 0.0014084441354498267,\n 'ITIH3': 0.0007563825929537416,\n 'ITM2A': 0.00034513743594288826,\n 'IVD': 0.0008704737992957234,\n 'JAM2': 0.0012937233550474048,\n 'JCHAIN': 0.0008489716565236449,\n 'JUN': 0.0005593588575720787,\n 'KAZALD1': 0.0005199494771659374,\n 'KCNIP4': 0.0003095407737419009,\n 'KDR': 0.0015158645110204816,\n 'KEL': 0.00024345790734514594,\n 'KIFBP': 0.0,\n 'KIR2DL3': 0.0013152784667909145,\n 'KIR3DL1': 0.0006640682695433497,\n 'KIRREL2': 0.0008176935953088105,\n 'KIT': 0.0008756547467783093,\n 'KITLG': 0.001310833846218884,\n 'KLB': 0.0006059684092178941,\n 'KLK1': 0.0013738746056333184,\n 'KLK10': 0.0005716688465327024,\n 'KLK11': 0.0007320744334720075,\n 'KLK12': 0.0010714128147810698,\n 'KLK13': 0.0005175587139092386,\n 'KLK14': 0.00011167758930241689,\n 'KLK4': 0.0017199801513925195,\n 'KLK6': 0.00046322954585775733,\n 'KLK8': 0.00036467649624682963,\n 'KLRB1': 0.0011018243385478854,\n 'KLRD1': 0.0,\n 'KRT14': 0.000513286329805851,\n 'KRT18': 0.00015186314703896642,\n 'KRT19': 0.0005752596771344543,\n 'KRT5': 0.00012082232569810003,\n 'KYAT1': 0.0011253268457949162,\n 'KYNU': 0.00047758070286363363,\n 'L1CAM': 0.0005867778672836721,\n 'LACTB2': 0.0,\n 'LAG3': 0.0008689748938195407,\n 'LAIR1': 0.00045003261766396463,\n 'LAIR2': 0.0006170545239001513,\n 'LAMA4': 0.0002412436733720824,\n 'LAMP2': 0.000946786196436733,\n 'LAMP3': 0.0007702044676989317,\n 'LAP3': 0.0004815784632228315,\n 'LAT': 0.0,\n 'LAT2': 0.0,\n 'LAYN': 0.0015436513349413872,\n 'LBP': 9.648191917221993e-05,\n 'LBR': 0.0,\n 'LCN2': 0.00020176450198050588,\n 'LDLR': 0.00034483338822610676,\n 'LEFTY2': 0.0013187323929741979,\n 'LEP': 0.0003665905387606472,\n 'LEPR': 0.0005911810440011322,\n 'LGALS1': 0.00201432011090219,\n 'LGALS3': 0.0007665831944905221,\n 'LGALS4': 0.0005178581341169775,\n 'LGALS7_LGALS7B': 0.0007424108916893601,\n 'LGALS8': 0.00027657722239382565,\n 'LGALS9': 0.0006048221839591861,\n 'LGMN': 0.0009810199262574315,\n 'LHB': 0.0010519225616008043,\n 'LHPP': 5.6352400861214846e-05,\n 'LIF': 0.0001841468329075724,\n 'LIFR': 0.00022602462559007108,\n 'LILRA2': 0.0010212836787104607,\n 'LILRA5': 0.001218354795128107,\n 'LILRB1': 0.0010699733393266797,\n 'LILRB2': 0.0008539650589227676,\n 'LILRB4': 0.00029640377033501863,\n 'LILRB5': 0.0005753661971539259,\n 'LPCAT2': 0.0006283583934418857,\n 'LPL': 0.0015817320672795177,\n 'LPO': 0.0013321290025487542,\n 'LRIG1': 0.0006132575799711049,\n 'LRP1': 0.0008498302777297795,\n 'LRP11': 0.0015404301229864359,\n 'LRPAP1': 2.2912034182809293e-05,\n 'LRRC25': 0.0008601321605965495,\n 'LRRN1': 0.0011969396146014333,\n 'LSM1': 0.0005663128104060888,\n 'LSP1': 0.0007169914315454662,\n 'LTA': 0.0006861690781079233,\n 'LTA4H': 0.0015348887536674738,\n 'LTBP2': 0.001527830259874463,\n 'LTBP3': 0.0,\n 'LTBR': 0.00092122150817886,\n 'LTO1': 0.00026840539067052305,\n 'LXN': 0.0003504965570755303,\n 'LY6D': 0.001964459428563714,\n 'LY75': 0.0006144160288386047,\n 'LY9': 0.0002535690146032721,\n 'LY96': 0.0003682753012981266,\n 'LYAR': 0.0006319698877632618,\n 'LYN': 0.00028210587333887815,\n 'LYPD1': 0.00048126481124199927,\n 'LYPD3': 0.0007421575137414038,\n 'LYPD8': 0.0004391981929074973,\n 'MAD1L1': 0.0,\n 'MAEA': 0.0,\n 'MAGED1': 0.0010790167143568397,\n 'MANF': 0.0,\n 'MANSC1': 0.0004864443326368928,\n 'MAP2K6': 0.0,\n 'MAP3K5': 0.00028033755370415747,\n 'MAP4K5': 0.0,\n 'MAPK9': 0.00047997580259107053,\n 'MAPT': 0.000941635575145483,\n 'MARCO': 0.0011570485075935721,\n 'MASP1': 0.0015014874516054988,\n 'MATN2': 0.0004552916798274964,\n 'MATN3': 0.0005819372599944472,\n 'MAVS': 0.0,\n 'MAX': 0.0,\n 'MB': 0.0012002335861325264,\n 'MCAM': 0.0005583369638770819,\n 'MCFD2': 0.001583222416229546,\n 'MDGA1': 0.0003720527747645974,\n 'MDK': 0.0,\n 'MED18': 0.0,\n 'MEGF10': 0.0,\n 'MEGF9': 0.0023274985142052174,\n 'MEP1B': 0.00039612423279322684,\n 'MEPE': 0.0018892099615186453,\n 'MERTK': 0.0003704809059854597,\n 'MESD': 0.0,\n 'MET': 0.001230620895512402,\n 'METAP1': 7.66324155847542e-05,\n 'METAP1D': 0.0,\n 'METAP2': 0.0,\n 'MFAP3': 0.000587756629101932,\n 'MFAP5': 0.0003155914891976863,\n 'MFGE8': 0.0010808672523126006,\n 'MGLL': 0.0,\n 'MGMT': 0.00021109971567057073,\n 'MIA': 0.0002735302841756493,\n 'MICB_MICA': 0.00032597759854979813,\n 'MIF': 0.0,\n 'MILR1': 0.0007954916800372303,\n 'MITD1': 0.0,\n 'MLN': 0.0008953218348324299,\n 'MME': 0.0008796047186478972,\n 'MMP1': 0.0008763993391767144,\n 'MMP10': 0.00026500961394049227,\n 'MMP12': 0.0009519717423245311,\n 'MMP13': 0.00043750146869570017,\n 'MMP3': 0.0003091618709731847,\n 'MMP7': 0.0009120682952925563,\n 'MMP8': 0.0004327270726207644,\n 'MMP9': 0.0009375329245813191,\n 'MNDA': 0.0004139401135034859,\n 'MOG': 0.0013450668193399906,\n 'MPHOSPH8': 0.0005058158421888947,\n 'MPI': 0.0008867645519785583,\n 'MPIG6B': 0.0027201513294130564,\n 'MPO': 0.00013987961574457586,\n 'MRPL46': 1.4786672181799076e-05,\n 'MSLN': 0.0010049411794170737,\n 'MSMB': 0.0006692450842820108,\n 'MSR1': 0.0,\n 'MSRA': 0.0012491124216467142,\n 'MSTN': 0.0009347661398351192,\n 'MTPN': 0.0004934241296723485,\n 'MUC13': 0.0012246489059180021,\n 'MUC16': 0.00013941590441390872,\n 'MVK': 0.0,\n 'MYO9B': 0.0,\n 'MYOC': 0.0010269477497786283,\n 'MZB1': 0.0004587805306073278,\n 'MZT1': 0.00032752708648331463,\n 'NAAA': 0.0,\n 'NADK': 0.0033922838047146797,\n 'NAMPT': 0.0006414731033146381,\n 'NBL1': 0.0006301448447629809,\n 'NBN': 0.0013925618259236217,\n 'NCAM1': 0.00018482319137547165,\n 'NCAM2': 0.0005945725133642554,\n 'NCAN': 0.0010002624476328492,\n 'NCF2': 0.0005326934042386711,\n 'NCK2': 0.0015683718957006931,\n 'NCLN': 0.0012110710376873612,\n 'NCR1': 0.00035211085923947394,\n 'NCS1': 0.0006852045771665871,\n 'NDRG1': 0.0005700523615814745,\n 'NDUFS6': 0.0,\n 'NECTIN2': 0.0,\n 'NECTIN4': 0.002564634894952178,\n 'NEFL': 0.0010520201176404953,\n 'NELL1': 0.0007525624823756516,\n 'NELL2': 0.0005971675855107605,\n 'NFASC': 0.0007903368095867336,\n 'NFATC1': 0.0002590061631053686,\n 'NFATC3': 0.000675685703754425,\n 'NFKBIE': 0.00015908051864244044,\n 'NGF': 0.00060656777350232,\n 'NID1': 0.00023792244610376656,\n 'NID2': 0.00043474946869537234,\n 'NINJ1': 0.000942956714425236,\n 'NME3': 0.0016653243219479918,\n 'NMNAT1': 0.0001615118671907112,\n 'NOMO1': 0.0017325758235529065,\n 'NOS1': 0.0012597740860655904,\n 'NOS3': 0.001064112177118659,\n 'NOTCH1': 0.0007970164879225194,\n 'NOTCH3': 0.00017025505076162517,\n 'NPDC1': 0.0011299978941679,\n 'NPM1': 0.0,\n 'NPPB': 0.0007770258234813809,\n 'NPPC': 0.0004073044110555202,\n 'NPTN': 0.0010279593989253044,\n 'NPTX1': 0.00021540597663260996,\n 'NPTXR': 0.00045282099745236337,\n 'NPY': 0.0004915004828944802,\n 'NRCAM': 0.0002533863880671561,\n 'NRP1': 0.00025115502648986876,\n 'NRP2': 0.0028111368883401155,\n 'NRTN': 0.0001512155868113041,\n 'NSFL1C': 0.0037661308888345957,\n 'NT5C3A': 0.0,\n 'NT5E': 0.00031433330150321126,\n 'NTF3': 0.0007055332534946501,\n 'NTF4': 0.001428314484655857,\n 'NTproBNP': 0.001023249700665474,\n 'NTRK2': 0.00043427982018329203,\n 'NTRK3': 0.0017127858009189367,\n 'NUB1': 0.0,\n 'NUCB2': 0.0,\n 'NUDC': 0.0,\n 'NUDT2': 0.0013558230130001903,\n 'NUDT5': 0.0004407863016240299,\n ...}"
     },
     "execution_count": 13,
     "metadata": {},
     "output_type": "execute_result"
    }
   ],
   "source": [
    "pd.Series(est.feature_importances_, index=x.columns).to_dict()"
   ],
   "metadata": {
    "collapsed": false,
    "ExecuteTime": {
     "end_time": "2023-08-17T15:54:32.850669331Z",
     "start_time": "2023-08-17T15:54:32.764218975Z"
    }
   }
  }
 ],
 "metadata": {
  "kernelspec": {
   "name": "python3",
   "language": "python",
   "display_name": "Python 3 (ipykernel)"
  },
  "language_info": {
   "codemirror_mode": {
    "name": "ipython",
    "version": 3
   },
   "file_extension": ".py",
   "mimetype": "text/x-python",
   "name": "python",
   "nbconvert_exporter": "python",
   "pygments_lexer": "ipython3",
   "version": "3.10.12"
  }
 },
 "nbformat": 4,
 "nbformat_minor": 4
}
