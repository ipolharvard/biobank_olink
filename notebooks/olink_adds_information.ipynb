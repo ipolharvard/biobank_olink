{
 "cells": [
  {
   "cell_type": "code",
   "execution_count": 1,
   "id": "initial_id",
   "metadata": {
    "ExecuteTime": {
     "end_time": "2023-08-15T18:46:52.858241658Z",
     "start_time": "2023-08-15T18:46:52.840048172Z"
    }
   },
   "outputs": [],
   "source": [
    "%load_ext autoreload\n",
    "%autoreload 2"
   ]
  },
  {
   "cell_type": "markdown",
   "id": "5bb4d11c",
   "metadata": {
    "collapsed": false,
    "jupyter": {
     "outputs_hidden": false
    }
   },
   "source": [
    "## Data preparation"
   ]
  },
  {
   "cell_type": "code",
   "execution_count": 2,
   "id": "7060e82c314b573e",
   "metadata": {
    "ExecuteTime": {
     "end_time": "2023-08-15T18:47:07.499460491Z",
     "start_time": "2023-08-15T18:46:52.840322508Z"
    },
    "collapsed": false,
    "jupyter": {
     "outputs_hidden": false
    }
   },
   "outputs": [
    {
     "name": "stdout",
     "output_type": "stream",
     "text": [
      "ol_df shape: (39674, 1463)\n",
      "cov_df shape: (39674, 10)\n"
     ]
    }
   ],
   "source": [
    "from importlib.resources import files\n",
    "\n",
    "import pandas as pd\n",
    "import numpy as np\n",
    "\n",
    "from biobank_olink.dataset import load_datasets\n",
    "\n",
    "DATA_DIR = files(\"biobank_olink.data\")\n",
    "\n",
    "ol_df, cov_df = load_datasets(cols_na_th=0, rows_na_th=0)\n",
    "print(\"ol_df shape: {}\".format(ol_df.shape))\n",
    "print(\"cov_df shape: {}\".format(cov_df.shape))"
   ]
  },
  {
   "cell_type": "code",
   "execution_count": 3,
   "id": "376b46ad189374dc",
   "metadata": {
    "ExecuteTime": {
     "end_time": "2023-08-15T18:47:07.499892989Z",
     "start_time": "2023-08-15T18:47:07.489993313Z"
    },
    "collapsed": false,
    "jupyter": {
     "outputs_hidden": false
    }
   },
   "outputs": [
    {
     "name": "stdout",
     "output_type": "stream",
     "text": [
      "ol_df shape: (30644, 1463)\n",
      "cov_df shape: (30644, 10)\n"
     ]
    }
   ],
   "source": [
    "cov_df = cov_df.loc[~(cov_df.BMI.isna() | cov_df.SBP.isna())]\n",
    "cov_df = cov_df[cov_df.HTNgroup < 2]\n",
    "ol_df = ol_df.loc[cov_df.index]\n",
    "print(\"ol_df shape: {}\".format(ol_df.shape))\n",
    "print(\"cov_df shape: {}\".format(cov_df.shape))"
   ]
  },
  {
   "cell_type": "markdown",
   "id": "38a71282",
   "metadata": {
    "collapsed": false,
    "jupyter": {
     "outputs_hidden": false
    }
   },
   "source": [
    "## Evaluation"
   ]
  },
  {
   "cell_type": "code",
   "execution_count": 4,
   "id": "36fb0b40c0f1f124",
   "metadata": {
    "ExecuteTime": {
     "end_time": "2023-08-15T18:47:07.942017364Z",
     "start_time": "2023-08-15T18:47:07.490221435Z"
    },
    "collapsed": false,
    "jupyter": {
     "outputs_hidden": false
    }
   },
   "outputs": [
    {
     "data": {
      "text/plain": [
       "['Cardiometabolic', 'Inflammation', 'Neurology', 'Oncology']"
      ]
     },
     "execution_count": 4,
     "metadata": {},
     "output_type": "execute_result"
    }
   ],
   "source": [
    "olink_assays = pd.read_csv(DATA_DIR / \"olink-explore-3072-assay-list-2023-06-08.csv\")\n",
    "olink_assays[\"Explore 384 panel\"] = olink_assays.loc[:, \"Explore 384 panel\"].apply(lambda x: x.split(\"_\")[0])\n",
    "assays_mapping = olink_assays.groupby(\"Explore 384 panel\")[\"Gene name\"].apply(list).to_dict()\n",
    "list(assays_mapping.keys())"
   ]
  },
  {
   "cell_type": "code",
   "execution_count": 5,
   "id": "06b72061",
   "metadata": {
    "ExecuteTime": {
     "end_time": "2023-08-13T22:46:59.020195177Z",
     "start_time": "2023-08-13T22:45:26.665209981Z"
    },
    "collapsed": false,
    "jupyter": {
     "outputs_hidden": false
    }
   },
   "outputs": [],
   "source": [
    "from sklearn.model_selection import cross_val_score\n",
    "from xgboost import XGBRegressor\n",
    "\n",
    "baseline_cols = [\"Sex\", \"age\", \"BMI\"]\n",
    "\n",
    "\n",
    "def experiment(x, y, fit_params=None):\n",
    "    model = XGBRegressor(tree_method=\"gpu_hist\", random_state=42)\n",
    "    scores = cross_val_score(model, x, y, scoring=\"r2\", cv=5, n_jobs=5)\n",
    "    return scores\n",
    "\n",
    "\n",
    "scores = {}\n",
    "x_base = cov_df[baseline_cols]\n",
    "\n",
    "scores[\"baseline\"] = experiment(x_base, cov_df.SBP)\n",
    "\n",
    "scores[f\"all ({ol_df.shape[1]})\"] = experiment(x_base.join(ol_df), cov_df.SBP)\n",
    "\n",
    "for assay_name in assays_mapping.keys():\n",
    "    cols = [c for c in ol_df.columns if c in assays_mapping[assay_name]]\n",
    "    exp_score = experiment(x_base.join(ol_df.loc[:, cols]), cov_df.SBP)\n",
    "    scores[f\"{assay_name.lower()} ({len(cols)})\"] = exp_score"
   ]
  },
  {
   "cell_type": "code",
   "execution_count": 6,
   "id": "a5f077ee",
   "metadata": {
    "ExecuteTime": {
     "end_time": "2023-08-13T22:50:19.900071300Z",
     "start_time": "2023-08-13T22:50:19.847518737Z"
    },
    "collapsed": false,
    "jupyter": {
     "outputs_hidden": false
    }
   },
   "outputs": [
    {
     "data": {
      "text/html": [
       "<div>\n",
       "<style scoped>\n",
       "    .dataframe tbody tr th:only-of-type {\n",
       "        vertical-align: middle;\n",
       "    }\n",
       "\n",
       "    .dataframe tbody tr th {\n",
       "        vertical-align: top;\n",
       "    }\n",
       "\n",
       "    .dataframe thead th {\n",
       "        text-align: right;\n",
       "    }\n",
       "</style>\n",
       "<table border=\"1\" class=\"dataframe\">\n",
       "  <thead>\n",
       "    <tr style=\"text-align: right;\">\n",
       "      <th></th>\n",
       "      <th>r2</th>\n",
       "      <th>corr</th>\n",
       "    </tr>\n",
       "  </thead>\n",
       "  <tbody>\n",
       "    <tr>\n",
       "      <th>baseline</th>\n",
       "      <td>0.129290</td>\n",
       "      <td>0.359569</td>\n",
       "    </tr>\n",
       "    <tr>\n",
       "      <th>all (1463)</th>\n",
       "      <td>0.280571</td>\n",
       "      <td>0.529690</td>\n",
       "    </tr>\n",
       "    <tr>\n",
       "      <th>cardiometabolic (367)</th>\n",
       "      <td>0.181723</td>\n",
       "      <td>0.426290</td>\n",
       "    </tr>\n",
       "    <tr>\n",
       "      <th>inflammation (409)</th>\n",
       "      <td>0.240532</td>\n",
       "      <td>0.490441</td>\n",
       "    </tr>\n",
       "    <tr>\n",
       "      <th>neurology (347)</th>\n",
       "      <td>0.163991</td>\n",
       "      <td>0.404959</td>\n",
       "    </tr>\n",
       "    <tr>\n",
       "      <th>oncology (349)</th>\n",
       "      <td>0.159223</td>\n",
       "      <td>0.399028</td>\n",
       "    </tr>\n",
       "  </tbody>\n",
       "</table>\n",
       "</div>"
      ],
      "text/plain": [
       "                             r2      corr\n",
       "baseline               0.129290  0.359569\n",
       "all (1463)             0.280571  0.529690\n",
       "cardiometabolic (367)  0.181723  0.426290\n",
       "inflammation (409)     0.240532  0.490441\n",
       "neurology (347)        0.163991  0.404959\n",
       "oncology (349)         0.159223  0.399028"
      ]
     },
     "execution_count": 6,
     "metadata": {},
     "output_type": "execute_result"
    }
   ],
   "source": [
    "scores_df = pd.DataFrame(scores).mean().to_frame(\"r2\")\n",
    "scores_df[\"corr\"] = np.sqrt(scores_df[\"r2\"])\n",
    "scores_df"
   ]
  }
 ],
 "metadata": {
  "kernelspec": {
   "display_name": "Python 3 (ipykernel)",
   "language": "python",
   "name": "python3"
  },
  "language_info": {
   "codemirror_mode": {
    "name": "ipython",
    "version": 3
   },
   "file_extension": ".py",
   "mimetype": "text/x-python",
   "name": "python",
   "nbconvert_exporter": "python",
   "pygments_lexer": "ipython3",
   "version": "3.10.12"
  }
 },
 "nbformat": 4,
 "nbformat_minor": 5
}
