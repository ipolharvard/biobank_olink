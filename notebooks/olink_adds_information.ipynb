{
 "cells": [
  {
   "cell_type": "code",
   "execution_count": 26,
   "id": "initial_id",
   "metadata": {
    "ExecuteTime": {
     "end_time": "2023-08-21T13:01:42.998696510Z",
     "start_time": "2023-08-21T13:01:42.982280881Z"
    }
   },
   "outputs": [
    {
     "name": "stdout",
     "output_type": "stream",
     "text": [
      "The autoreload extension is already loaded. To reload it, use:\n",
      "  %reload_ext autoreload\n"
     ]
    }
   ],
   "source": [
    "%load_ext autoreload\n",
    "%autoreload 2"
   ]
  },
  {
   "cell_type": "markdown",
   "id": "5bb4d11c",
   "metadata": {
    "collapsed": false,
    "jupyter": {
     "outputs_hidden": false
    }
   },
   "source": [
    "## Data preparation"
   ]
  },
  {
   "cell_type": "code",
   "execution_count": 27,
   "id": "7060e82c314b573e",
   "metadata": {
    "ExecuteTime": {
     "end_time": "2023-08-21T13:01:43.464856592Z",
     "start_time": "2023-08-21T13:01:43.044346774Z"
    },
    "collapsed": false,
    "jupyter": {
     "outputs_hidden": false
    }
   },
   "outputs": [
    {
     "name": "stdout",
     "output_type": "stream",
     "text": [
      "[Memory]282.5s, 4.7min  : Loading load_olink_and_covariates...\n",
      "ol_df shape: (30252, 1355)\n",
      "cov_df shape: (30252, 10)\n"
     ]
    }
   ],
   "source": [
    "from importlib.resources import files\n",
    "\n",
    "import pandas as pd\n",
    "import numpy as np\n",
    "\n",
    "from biobank_olink.dataset import load_olink_and_covariates\n",
    "\n",
    "DATA_DIR = files(\"biobank_olink.data\")\n",
    "\n",
    "ol_df, cov_df = load_olink_and_covariates(cols_na_th=0.3, rows_na_th=0.3, corr_th=0.9)\n",
    "cov_df = cov_df[cov_df.HTNgroup < 2]\n",
    "ol_df = ol_df.loc[cov_df.index]\n",
    "print(\"ol_df shape: {}\".format(ol_df.shape))\n",
    "print(\"cov_df shape: {}\".format(cov_df.shape))"
   ]
  },
  {
   "cell_type": "markdown",
   "id": "38a71282",
   "metadata": {
    "collapsed": false,
    "jupyter": {
     "outputs_hidden": false
    }
   },
   "source": [
    "## Evaluation"
   ]
  },
  {
   "cell_type": "code",
   "execution_count": 28,
   "id": "36fb0b40c0f1f124",
   "metadata": {
    "collapsed": false,
    "jupyter": {
     "outputs_hidden": false
    }
   },
   "outputs": [
    {
     "data": {
      "text/plain": [
       "['Cardiometabolic', 'Inflammation', 'Neurology', 'Oncology']"
      ]
     },
     "execution_count": 28,
     "metadata": {},
     "output_type": "execute_result"
    }
   ],
   "source": [
    "olink_assays = pd.read_csv(DATA_DIR / \"olink-explore-3072-assay-list-2023-06-08.csv\")\n",
    "olink_assays[\"Explore 384 panel\"] = olink_assays.loc[:, \"Explore 384 panel\"].apply(lambda x: x.split(\"_\")[0])\n",
    "assays_mapping = olink_assays.groupby(\"Explore 384 panel\")[\"Gene name\"].apply(list).to_dict()\n",
    "list(assays_mapping.keys())"
   ]
  },
  {
   "cell_type": "code",
   "execution_count": 29,
   "id": "06b72061",
   "metadata": {
    "collapsed": false,
    "jupyter": {
     "outputs_hidden": false
    }
   },
   "outputs": [
    {
     "name": "stderr",
     "output_type": "stream",
     "text": [
      "/home/prenc/miniconda3/envs/olink/lib/python3.10/site-packages/joblib/externals/loky/process_executor.py:752: UserWarning: A worker stopped while some jobs were given to the executor. This can be caused by a too short worker timeout or by a memory leak.\n",
      "  warnings.warn(\n"
     ]
    }
   ],
   "source": [
    "from sklearn.model_selection import cross_val_score\n",
    "from xgboost import XGBRegressor\n",
    "\n",
    "baseline_cols = [\"Sex\", \"age\", \"BMI\"]\n",
    "\n",
    "\n",
    "def experiment(x, y, fit_params=None):\n",
    "    model = XGBRegressor(tree_method=\"gpu_hist\", random_state=42)\n",
    "    scores = cross_val_score(model, x, y, scoring=\"r2\", cv=5, n_jobs=5)\n",
    "    return scores\n",
    "\n",
    "\n",
    "scores = {}\n",
    "x_base = cov_df[baseline_cols]\n",
    "\n",
    "scores[\"baseline\"] = experiment(x_base, cov_df.SBP)\n",
    "\n",
    "scores[f\"all ({ol_df.shape[1]})\"] = experiment(x_base.join(ol_df), cov_df.SBP)\n",
    "\n",
    "for assay_name in assays_mapping.keys():\n",
    "    cols = [c for c in ol_df.columns if c in assays_mapping[assay_name]]\n",
    "    exp_score = experiment(x_base.join(ol_df.loc[:, cols]), cov_df.SBP)\n",
    "    scores[f\"{assay_name.lower()} ({len(cols)})\"] = exp_score"
   ]
  },
  {
   "cell_type": "code",
   "execution_count": 30,
   "id": "a5f077ee",
   "metadata": {
    "collapsed": false,
    "jupyter": {
     "outputs_hidden": false
    }
   },
   "outputs": [
    {
     "data": {
      "text/html": [
       "<div>\n",
       "<style scoped>\n",
       "    .dataframe tbody tr th:only-of-type {\n",
       "        vertical-align: middle;\n",
       "    }\n",
       "\n",
       "    .dataframe tbody tr th {\n",
       "        vertical-align: top;\n",
       "    }\n",
       "\n",
       "    .dataframe thead th {\n",
       "        text-align: right;\n",
       "    }\n",
       "</style>\n",
       "<table border=\"1\" class=\"dataframe\">\n",
       "  <thead>\n",
       "    <tr style=\"text-align: right;\">\n",
       "      <th></th>\n",
       "      <th>r2</th>\n",
       "      <th>corr</th>\n",
       "    </tr>\n",
       "  </thead>\n",
       "  <tbody>\n",
       "    <tr>\n",
       "      <th>baseline</th>\n",
       "      <td>0.126743</td>\n",
       "      <td>0.356010</td>\n",
       "    </tr>\n",
       "    <tr>\n",
       "      <th>all (1355)</th>\n",
       "      <td>0.281072</td>\n",
       "      <td>0.530162</td>\n",
       "    </tr>\n",
       "    <tr>\n",
       "      <th>cardiometabolic (348)</th>\n",
       "      <td>0.234007</td>\n",
       "      <td>0.483743</td>\n",
       "    </tr>\n",
       "    <tr>\n",
       "      <th>inflammation (337)</th>\n",
       "      <td>0.173479</td>\n",
       "      <td>0.416508</td>\n",
       "    </tr>\n",
       "    <tr>\n",
       "      <th>neurology (335)</th>\n",
       "      <td>0.185323</td>\n",
       "      <td>0.430492</td>\n",
       "    </tr>\n",
       "    <tr>\n",
       "      <th>oncology (341)</th>\n",
       "      <td>0.177878</td>\n",
       "      <td>0.421756</td>\n",
       "    </tr>\n",
       "  </tbody>\n",
       "</table>\n",
       "</div>"
      ],
      "text/plain": [
       "                             r2      corr\n",
       "baseline               0.126743  0.356010\n",
       "all (1355)             0.281072  0.530162\n",
       "cardiometabolic (348)  0.234007  0.483743\n",
       "inflammation (337)     0.173479  0.416508\n",
       "neurology (335)        0.185323  0.430492\n",
       "oncology (341)         0.177878  0.421756"
      ]
     },
     "execution_count": 30,
     "metadata": {},
     "output_type": "execute_result"
    }
   ],
   "source": [
    "scores_df = pd.DataFrame(scores).mean().to_frame(\"r2\")\n",
    "scores_df[\"corr\"] = np.sqrt(scores_df[\"r2\"])\n",
    "scores_df"
   ]
  }
 ],
 "metadata": {
  "kernelspec": {
   "display_name": "Python 3 (ipykernel)",
   "language": "python",
   "name": "python3"
  },
  "language_info": {
   "codemirror_mode": {
    "name": "ipython",
    "version": 3
   },
   "file_extension": ".py",
   "mimetype": "text/x-python",
   "name": "python",
   "nbconvert_exporter": "python",
   "pygments_lexer": "ipython3",
   "version": "3.10.12"
  }
 },
 "nbformat": 4,
 "nbformat_minor": 5
}
